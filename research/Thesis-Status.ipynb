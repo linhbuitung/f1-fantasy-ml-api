{
 "cells": [
  {
   "cell_type": "markdown",
   "id": "18b0a525-6f52-4567-9c79-c733ab7d5901",
   "metadata": {},
   "source": [
    "<h2>Formula 1 Grand Prix status prediction</h2>"
   ]
  },
  {
   "cell_type": "code",
   "source": [
    "import pandas as pd\n",
    "import numpy as np\n",
    "import datetime as datetime\n",
    "import matplotlib.pyplot as plt\n",
    "import seaborn as sns\n",
    "import re\n",
    "from sklearn.compose import ColumnTransformer\n",
    "from sklearn.pipeline import Pipeline\n",
    "from sklearn.preprocessing import StandardScaler,LabelEncoder,OneHotEncoder ,RobustScaler\n",
    "from sklearn.model_selection import train_test_split,KFold,GridSearchCV\n",
    "from sklearn.linear_model import  LogisticRegression\n",
    "from sklearn.ensemble import RandomForestClassifier,GradientBoostingClassifier\n",
    "from sklearn.metrics import classification_report, confusion_matrix, roc_auc_score\n",
    "import pickle\n",
    "from autogluon.tabular import TabularPredictor\n",
    "\n",
    "plt.style.use('bmh')\n",
    "pd.set_option('display.float_format', '{:.2f}'.format)"
   ],
   "metadata": {
    "collapsed": false,
    "ExecuteTime": {
     "end_time": "2025-10-15T16:22:46.488790Z",
     "start_time": "2025-10-15T16:22:46.484371Z"
    }
   },
   "id": "48e1dea0-9ff1-4422-8034-9f7e4c08c1ec",
   "outputs": [],
   "execution_count": 3
  },
  {
   "cell_type": "markdown",
   "source": [
    "<h3>Data cleaning</h3>"
   ],
   "metadata": {
    "collapsed": false
   },
   "id": "08e4e060"
  },
  {
   "cell_type": "code",
   "source": [
    "rounds = pd.read_csv(r'../data/raw/jolpica-dump/formula_one_round.csv')\n",
    "round_entries = pd.read_csv(r'../data/raw/jolpica-dump/formula_one_roundentry.csv')\n",
    "sessions = pd.read_csv(r'../data/raw/jolpica-dump/formula_one_session.csv')\n",
    "session_entries = pd.read_csv(r'../data/raw/jolpica-dump/formula_one_sessionentry.csv')\n",
    "team_drivers = pd.read_csv(r'../data/raw/jolpica-dump/formula_one_teamdriver.csv')\n",
    "drivers = pd.read_csv(r'../data/raw/jolpica-dump/formula_one_driver.csv')\n",
    "teams = pd.read_csv(r'../data/raw/jolpica-dump/formula_one_team.csv')\n",
    "circuits = pd.read_csv(r'../data/raw/jolpica-dump/formula_one_circuit.csv')\n",
    "laps = pd.read_csv(r'../data/raw/jolpica-dump/formula_one_lap.csv')\n",
    "\n",
    "race_weather = pd.read_csv(r'../data/raw/race_weather.csv')\n",
    "circuit_type = pd.read_csv(r'../data/raw/circuit_type.csv')"
   ],
   "metadata": {
    "collapsed": false,
    "ExecuteTime": {
     "end_time": "2025-10-15T16:22:57.692779Z",
     "start_time": "2025-10-15T16:22:57.398797Z"
    }
   },
   "id": "b3e2ed6c45ba15fa",
   "outputs": [],
   "execution_count": 4
  },
  {
   "cell_type": "code",
   "source": [
    "df1 = pd.merge(rounds, sessions, how='left', left_on='id', right_on='round_id', suffixes=('_round', '_session'))\n",
    "df2 = pd.merge(df1,round_entries,how='left',left_on='id_round', right_on='round_id', suffixes=('', '_round_entry'))\n",
    "df2 = df2.rename(columns={'id': 'id_round_entry'})\n",
    "df3 = pd.merge(df2,session_entries,how='left',left_on=['id_round_entry', 'id_session'],right_on=['round_entry_id', 'session_id'],suffixes=('', '_session_entry'))\n",
    "df3 = df3.rename(columns={'id': 'id_session_entry'})\n",
    "df4 = pd.merge(df3,team_drivers,how='left',left_on='team_driver_id',right_on='id',suffixes=('', '_team_driver'))\n",
    "df4 = df4.rename(columns={'id': 'id_team_driver'})\n",
    "df5 = pd.merge(df4,drivers,how='left',left_on='driver_id',right_on='id',suffixes=('', '_driver'))\n",
    "df5 = df5.rename(columns={'id': 'id_driver'})\n",
    "df6 = pd.merge(df5,teams,how='left',left_on='team_id',right_on='id',suffixes=('', '_team'))\n",
    "df6 = df6.rename(columns={'id': 'id_team'})\n",
    "df7 = pd.merge(df6,circuits,how='left',left_on='circuit_id',right_on='id',suffixes=('', '_circuit'))\n",
    "df7 = df7.rename(columns={'id': 'id_circuit'})\n",
    "df8 = pd.merge(df7,laps,how='left',left_on='id_session_entry',right_on='session_entry_id',suffixes=('', '_lap'))\n",
    "df8 = df8.rename(columns={'id': 'id_lap'})"
   ],
   "metadata": {
    "collapsed": false,
    "ExecuteTime": {
     "end_time": "2025-10-15T16:22:59.602029Z",
     "start_time": "2025-10-15T16:22:58.709963Z"
    }
   },
   "id": "3f4863281e6e00c4",
   "outputs": [],
   "execution_count": 5
  },
  {
   "cell_type": "code",
   "source": [
    "data = df8\n",
    "\n",
    "data = data.drop(['abbreviation', 'altitude', 'average_speed', 'base_team_id', 'car_number', 'circuit_id', 'country', 'date_session', 'detail','fastest_lap_rank', 'forename', 'id_circuit', 'id_round', 'id_round_entry', 'id_session', 'id_session_entry', 'id_driver', 'id_team', 'id_team_driver', 'id_lap', 'is_deleted', 'is_eligible_for_points', 'is_entry_fastest_lap', 'laps_completed', 'latitude', 'locality', 'longitude', 'name', 'name_team', 'name_circuit', 'nationality', 'nationality_team', 'number','number_round', 'number_session', 'permanent_car_number', 'point_system_id', 'points' , 'position', 'position_lap', 'race_number', 'role', 'round_entry_id', 'round_id', 'round_id_round_entry', 'scheduled_laps', 'season_id', 'season_id_team_driver', 'session_entry_id', 'session_id', 'status', 'surname', 'team_driver_id', 'team_id', 'time', 'wikipedia', 'wikipedia_circuit', 'wikipedia_driver', 'wikipedia_team', 'time_lap' ,'time_session_entry' ],axis=1)"
   ],
   "metadata": {
    "collapsed": false,
    "ExecuteTime": {
     "end_time": "2025-10-15T16:23:00.222644Z",
     "start_time": "2025-10-15T16:23:00.194629Z"
    }
   },
   "id": "65b13f104d4cdfda",
   "outputs": [],
   "execution_count": 6
  },
  {
   "metadata": {
    "ExecuteTime": {
     "end_time": "2025-10-15T16:23:01.697756Z",
     "start_time": "2025-10-15T16:23:01.694563Z"
    }
   },
   "cell_type": "code",
   "source": [
    "# renames\n",
    "data.rename(columns={'date_round':'date',\n",
    "                     'grid':'qualification_position','country_code':'driver_nationality',\n",
    "                    'country_code_team':'constructor_nationality'\n",
    "                    ,'country_code_circuit':'circuit_nationality',\n",
    "                     'reference_team': 'constructor',\n",
    "                     'reference': 'driver',\n",
    "                     'reference_circuit': 'circuit',\n",
    "                     'date_of_birth':'driver_date_of_birth'},inplace=True)"
   ],
   "id": "6fec74135d4993ed",
   "outputs": [],
   "execution_count": 7
  },
  {
   "metadata": {
    "ExecuteTime": {
     "end_time": "2025-10-15T16:23:03.172622Z",
     "start_time": "2025-10-15T16:23:02.983594Z"
    }
   },
   "cell_type": "code",
   "source": [
    "#Take only  column 'type' of value 'R' as race\n",
    "data = data[data['type']=='R']\n",
    "#take only rows where 'is_cancelled_round', 'is_cancelled_session' are 'f'\n",
    "data = data[(data['is_cancelled_round']=='f')]\n",
    "data = data[(data['is_cancelled_session']=='f')]\n",
    "\n",
    "data.drop(['is_cancelled_round', 'is_cancelled_session', 'type'],axis=1,inplace=True)\n",
    "\n",
    "# drop where is clssified is null or nan\n",
    "data = data[data['is_classified'].notna()]\n",
    "data.columns"
   ],
   "id": "e8d9eda21e480d93",
   "outputs": [
    {
     "data": {
      "text/plain": [
       "Index(['date', 'qualification_position', 'is_classified', 'driver_id',\n",
       "       'driver_nationality', 'driver_date_of_birth', 'driver',\n",
       "       'constructor_nationality', 'constructor', 'circuit_nationality',\n",
       "       'circuit'],\n",
       "      dtype='object')"
      ]
     },
     "execution_count": 8,
     "metadata": {},
     "output_type": "execute_result"
    }
   ],
   "execution_count": 8
  },
  {
   "cell_type": "code",
   "outputs": [
    {
     "data": {
      "text/plain": "Index(['year', 'date', 'weather', 'driverId', 'grid', 'laps', 'milliseconds',\n       'forename', 'surname', 'dob', 'nationality', 'name_constructor',\n       'nationality_constructor', 'name_circuit', 'country', 'type', 'status'],\n      dtype='object')"
     },
     "execution_count": 7,
     "metadata": {},
     "output_type": "execute_result"
    }
   ],
   "source": [
    "testData = data.copy()\n",
    "#print test data where year = 2020 and name_circuit = 'Bahrain International Circuit'\n",
    "testData.columns\n",
    "#export test data to csv\n",
    "#testData.to_csv('testData.csv', index=False)\n"
   ],
   "metadata": {
    "collapsed": false,
    "ExecuteTime": {
     "end_time": "2025-06-07T12:31:48.741735Z",
     "start_time": "2025-06-07T12:31:48.731342Z"
    }
   },
   "id": "755ce2f6e5336a76",
   "execution_count": 7
  },
  {
   "cell_type": "code",
   "source": [
    "# Specify the date format explicitly\n",
    "data['date'] = pd.to_datetime(data['date'])\n",
    "data['driver_date_of_birth'] = pd.to_datetime(data['driver_date_of_birth'])\n",
    "\n",
    "#get month and day from date into new columns\n",
    "data['race_month'] = data['date'].dt.month\n",
    "data['race_day'] = data['date'].dt.day\n",
    "data['race_year'] = data['date'].dt.year\n"
   ],
   "metadata": {
    "collapsed": false,
    "ExecuteTime": {
     "end_time": "2025-10-15T16:23:08.082476Z",
     "start_time": "2025-10-15T16:23:08.026658Z"
    }
   },
   "id": "677bf2b97eb65b7f",
   "outputs": [],
   "execution_count": 10
  },
  {
   "cell_type": "code",
   "source": [
    "data['age_at_gp_in_days'] = abs(data['driver_date_of_birth']-data['date'])\n",
    "data['age_at_gp_in_days'] = data['age_at_gp_in_days'].apply(lambda x: str(x).split(' ')[0]).astype(int)\n",
    "\n",
    "first_race_dates = data.groupby('driver_id')['date'].min().reset_index()\n",
    "first_race_dates.rename(columns={'date': 'first_race_date'}, inplace=True)\n",
    "data = data.merge(first_race_dates, on='driver_id', how='left')\n",
    "data = data.drop(['driver_id'],axis=1)\n",
    "\n",
    "data['days_since_first_race'] = abs(data['first_race_date']-data['date'])\n",
    "data['days_since_first_race'] = data['days_since_first_race'].apply(lambda x: str(x).split(' ')[0]).astype(int)"
   ],
   "metadata": {
    "collapsed": false,
    "ExecuteTime": {
     "end_time": "2025-10-15T16:23:13.543022Z",
     "start_time": "2025-10-15T16:23:09.608850Z"
    }
   },
   "id": "11d31ad3bf5e9b4",
   "outputs": [],
   "execution_count": 11
  },
  {
   "cell_type": "code",
   "source": [
    "# load race_weather csv, join by race date\n",
    "race_weather['date'] = pd.to_datetime(race_weather['date'])\n",
    "data = data.merge(race_weather, how='left', left_on='date', right_on='date', suffixes=('', '_race_weather'))\n",
    "data = data[data['weather'].notna()]"
   ],
   "metadata": {
    "collapsed": false,
    "ExecuteTime": {
     "end_time": "2025-10-15T16:23:14.149033Z",
     "start_time": "2025-10-15T16:23:14.068938Z"
    }
   },
   "id": "4c186179c80d2210",
   "outputs": [],
   "execution_count": 12
  },
  {
   "metadata": {
    "ExecuteTime": {
     "end_time": "2025-10-15T16:23:15.575286Z",
     "start_time": "2025-10-15T16:23:15.465092Z"
    }
   },
   "cell_type": "code",
   "source": [
    "#create a rain column where if the weather is 'Rain or 'Changeable' or 'Very changeable' then 1 else 0\n",
    "data['rain'] = data['weather'].apply(lambda x: 1 if x in ['Rain', 'Changeable', 'Very changeable'] else 0)\n",
    "#drop the weather column\n",
    "data = data.drop(['weather'],axis=1)"
   ],
   "id": "5114f9936915a5b5",
   "outputs": [],
   "execution_count": 13
  },
  {
   "metadata": {
    "ExecuteTime": {
     "end_time": "2025-10-15T16:23:17.261429Z",
     "start_time": "2025-10-15T16:23:17.203929Z"
    }
   },
   "cell_type": "code",
   "source": [
    "# Merge circuit type\n",
    "data = data.merge(circuit_type, how='left', left_on='circuit', right_on='circuit', suffixes=('', '_circuit_type'))"
   ],
   "id": "563a535e2d2218d4",
   "outputs": [],
   "execution_count": 14
  },
  {
   "cell_type": "code",
   "source": [
    "#select all data from 1980\n",
    "data = data[data['race_year']>=1981]\n",
    "#get first nationality only\n"
   ],
   "metadata": {
    "collapsed": false,
    "ExecuteTime": {
     "end_time": "2025-10-15T16:23:19.006209Z",
     "start_time": "2025-10-15T16:23:18.972094Z"
    }
   },
   "id": "232cd171b5e28376",
   "outputs": [],
   "execution_count": 15
  },
  {
   "cell_type": "code",
   "source": [
    "print(data.columns)"
   ],
   "metadata": {
    "collapsed": false,
    "ExecuteTime": {
     "end_time": "2025-10-15T15:16:12.536089Z",
     "start_time": "2025-10-15T15:16:12.532958Z"
    }
   },
   "id": "d314caa6bfcb77ff",
   "outputs": [
    {
     "name": "stdout",
     "output_type": "stream",
     "text": [
      "Index(['date', 'qualification_position', 'is_classified', 'driver_nationality',\n",
      "       'driver_date_of_birth', 'driver', 'constructor_nationality',\n",
      "       'constructor', 'circuit_nationality', 'circuit', 'race_month',\n",
      "       'race_day', 'race_year', 'age_at_gp_in_days', 'first_race_date',\n",
      "       'days_since_first_race', 'rain', 'type_circuit'],\n",
      "      dtype='object')\n"
     ]
    }
   ],
   "execution_count": 21
  },
  {
   "cell_type": "code",
   "source": [
    "#get all unique constructors\n",
    "constructors = data['constructor'].unique()\n",
    "print('All Constructors:')\n",
    "print(constructors)"
   ],
   "metadata": {
    "collapsed": false,
    "ExecuteTime": {
     "end_time": "2025-10-15T15:16:48.000859Z",
     "start_time": "2025-10-15T15:16:47.980661Z"
    }
   },
   "id": "9efec20fa3fc9b7e",
   "outputs": [
    {
     "name": "stdout",
     "output_type": "stream",
     "text": [
      "All Constructors:\n",
      "['williams' 'brabham' 'alfa' 'tyrrell' 'theodore' 'fittipaldi' 'renault'\n",
      " 'ensign' 'ferrari' 'ligier' 'ats' 'arrows' 'osella' 'team_lotus'\n",
      " 'mclaren' 'march' 'toleman' 'ram' 'spirit' 'minardi' 'zakspeed' 'lola'\n",
      " 'benetton' 'ags' 'larrousse' 'coloni' 'rial' 'eurobrun' 'dallara' 'onyx'\n",
      " 'leyton' 'lambo' 'jordan' 'footwork' 'fondmetal' 'moda' 'sauber' 'simtek'\n",
      " 'pacific' 'forti' 'prost' 'stewart' 'bar' 'jaguar' 'toyota' 'red_bull'\n",
      " 'honda' 'toro_rosso' 'bmw_sauber' 'mf1' 'super_aguri' 'spyker_mf1'\n",
      " 'spyker' 'force_india' 'brawn' 'mercedes' 'lotus_racing' 'hrt' 'virgin'\n",
      " 'lotus_f1' 'marussia' 'caterham' 'manor' 'haas' 'racing_point'\n",
      " 'alphatauri' 'aston_martin' 'alpine' 'rb']\n"
     ]
    }
   ],
   "execution_count": 22
  },
  {
   "cell_type": "code",
   "source": [
    "data['constructor_nationality'].unique()\n"
   ],
   "metadata": {
    "collapsed": false,
    "ExecuteTime": {
     "end_time": "2025-10-15T15:16:49.863002Z",
     "start_time": "2025-10-15T15:16:49.845672Z"
    }
   },
   "id": "96eee710a316b10a",
   "outputs": [
    {
     "data": {
      "text/plain": [
       "array(['GBR', 'CHE', 'HKG', 'BRA', 'FRA', 'ITA', 'DEU', 'IRL', 'JPN',\n",
       "       'AUT', 'RUS', 'NLD', 'IND', 'MYS', 'ESP', 'USA'], dtype=object)"
      ]
     },
     "execution_count": 23,
     "metadata": {},
     "output_type": "execute_result"
    }
   ],
   "execution_count": 23
  },
  {
   "cell_type": "code",
   "source": [
    "#data after processing nationalities\n",
    "data['driver_home'] = data['driver_nationality'] == data['circuit_nationality']\n",
    "data['constructor_home'] = data['constructor_nationality'] == data['circuit_nationality']\n",
    "data['driver_home'] = data['driver_home'].apply(lambda x: int(x))\n",
    "data['constructor_home'] = data['constructor_home'].apply(lambda x: int(x))"
   ],
   "metadata": {
    "collapsed": false,
    "ExecuteTime": {
     "end_time": "2025-10-15T16:23:23.999478Z",
     "start_time": "2025-10-15T16:23:23.764503Z"
    }
   },
   "id": "e855857a3d0922ee",
   "outputs": [],
   "execution_count": 16
  },
  {
   "metadata": {
    "ExecuteTime": {
     "end_time": "2025-10-15T16:23:26.019665Z",
     "start_time": "2025-10-15T16:23:25.579228Z"
    }
   },
   "cell_type": "code",
   "source": [
    "# dnf is 1 if is_classified is = 'f' else 0\n",
    "data['dnf'] = data['is_classified'].apply(lambda x: 0 if x == 't' else 1)\n",
    "data = data.drop(['is_classified'],axis=1)\n",
    "data.drop_duplicates(inplace=True)\n",
    "data\n"
   ],
   "id": "54e4f26d238db57f",
   "outputs": [
    {
     "data": {
      "text/plain": [
       "             date  qualification_position driver_nationality  \\\n",
       "336    1981-03-15                    2.00                AUS   \n",
       "337    1981-03-15                    3.00                ARG   \n",
       "338    1981-03-15                    4.00                BRA   \n",
       "339    1981-03-15                    6.00                USA   \n",
       "340    1981-03-15                    8.00                USA   \n",
       "...           ...                     ...                ...   \n",
       "614477 2025-09-21                    3.00                NZL   \n",
       "614528 2025-09-21                   19.00                THA   \n",
       "614579 2025-09-21                    2.00                ESP   \n",
       "614630 2025-09-21                   17.00                DEU   \n",
       "614681 2025-09-21                   13.00                BRA   \n",
       "\n",
       "       driver_date_of_birth          driver constructor_nationality  \\\n",
       "336              1946-11-02           jones                     GBR   \n",
       "337              1942-04-12       reutemann                     GBR   \n",
       "338              1952-08-17          piquet                     GBR   \n",
       "339              1940-02-28  mario_andretti                     CHE   \n",
       "340              1958-01-10         cheever                     GBR   \n",
       "...                     ...             ...                     ...   \n",
       "614477           2002-02-11          lawson                     ITA   \n",
       "614528           1996-03-23           albon                     GBR   \n",
       "614579           1994-09-01           sainz                     GBR   \n",
       "614630           1987-08-19      hulkenberg                     CHE   \n",
       "614681           2004-10-14       bortoleto                     CHE   \n",
       "\n",
       "       constructor circuit_nationality     circuit  race_month  race_day  \\\n",
       "336       williams                 USA  long_beach           3        15   \n",
       "337       williams                 USA  long_beach           3        15   \n",
       "338        brabham                 USA  long_beach           3        15   \n",
       "339           alfa                 USA  long_beach           3        15   \n",
       "340        tyrrell                 USA  long_beach           3        15   \n",
       "...            ...                 ...         ...         ...       ...   \n",
       "614477          rb                 AZE        baku           9        21   \n",
       "614528    williams                 AZE        baku           9        21   \n",
       "614579    williams                 AZE        baku           9        21   \n",
       "614630      sauber                 AZE        baku           9        21   \n",
       "614681      sauber                 AZE        baku           9        21   \n",
       "\n",
       "        race_year  age_at_gp_in_days first_race_date  days_since_first_race  \\\n",
       "336          1981              12552      1975-04-27                   2149   \n",
       "337          1981              14217      1972-01-23                   3339   \n",
       "338          1981              10437      1978-07-30                    959   \n",
       "339          1981              14991      1968-10-06                   4543   \n",
       "340          1981               8465      1978-03-04                   1107   \n",
       "...           ...                ...             ...                    ...   \n",
       "614477       2025               8623      2023-08-27                    756   \n",
       "614528       2025              10774      2019-03-17                   2380   \n",
       "614579       2025              11343      2015-03-15                   3843   \n",
       "614630       2025              13913      2010-03-14                   5670   \n",
       "614681       2025               7647      2025-03-16                    189   \n",
       "\n",
       "        rain    type_circuit  driver_home  constructor_home  dnf  \n",
       "336        0  Street circuit            0                 0    0  \n",
       "337        0  Street circuit            0                 0    0  \n",
       "338        0  Street circuit            0                 0    0  \n",
       "339        0  Street circuit            1                 0    0  \n",
       "340        0  Street circuit            1                 0    0  \n",
       "...      ...             ...          ...               ...  ...  \n",
       "614477     0  Street circuit            0                 0    0  \n",
       "614528     0  Street circuit            0                 0    0  \n",
       "614579     0  Street circuit            0                 0    0  \n",
       "614630     0  Street circuit            0                 0    0  \n",
       "614681     0  Street circuit            0                 0    0  \n",
       "\n",
       "[17926 rows x 20 columns]"
      ],
      "text/html": [
       "<div>\n",
       "<style scoped>\n",
       "    .dataframe tbody tr th:only-of-type {\n",
       "        vertical-align: middle;\n",
       "    }\n",
       "\n",
       "    .dataframe tbody tr th {\n",
       "        vertical-align: top;\n",
       "    }\n",
       "\n",
       "    .dataframe thead th {\n",
       "        text-align: right;\n",
       "    }\n",
       "</style>\n",
       "<table border=\"1\" class=\"dataframe\">\n",
       "  <thead>\n",
       "    <tr style=\"text-align: right;\">\n",
       "      <th></th>\n",
       "      <th>date</th>\n",
       "      <th>qualification_position</th>\n",
       "      <th>driver_nationality</th>\n",
       "      <th>driver_date_of_birth</th>\n",
       "      <th>driver</th>\n",
       "      <th>constructor_nationality</th>\n",
       "      <th>constructor</th>\n",
       "      <th>circuit_nationality</th>\n",
       "      <th>circuit</th>\n",
       "      <th>race_month</th>\n",
       "      <th>race_day</th>\n",
       "      <th>race_year</th>\n",
       "      <th>age_at_gp_in_days</th>\n",
       "      <th>first_race_date</th>\n",
       "      <th>days_since_first_race</th>\n",
       "      <th>rain</th>\n",
       "      <th>type_circuit</th>\n",
       "      <th>driver_home</th>\n",
       "      <th>constructor_home</th>\n",
       "      <th>dnf</th>\n",
       "    </tr>\n",
       "  </thead>\n",
       "  <tbody>\n",
       "    <tr>\n",
       "      <th>336</th>\n",
       "      <td>1981-03-15</td>\n",
       "      <td>2.00</td>\n",
       "      <td>AUS</td>\n",
       "      <td>1946-11-02</td>\n",
       "      <td>jones</td>\n",
       "      <td>GBR</td>\n",
       "      <td>williams</td>\n",
       "      <td>USA</td>\n",
       "      <td>long_beach</td>\n",
       "      <td>3</td>\n",
       "      <td>15</td>\n",
       "      <td>1981</td>\n",
       "      <td>12552</td>\n",
       "      <td>1975-04-27</td>\n",
       "      <td>2149</td>\n",
       "      <td>0</td>\n",
       "      <td>Street circuit</td>\n",
       "      <td>0</td>\n",
       "      <td>0</td>\n",
       "      <td>0</td>\n",
       "    </tr>\n",
       "    <tr>\n",
       "      <th>337</th>\n",
       "      <td>1981-03-15</td>\n",
       "      <td>3.00</td>\n",
       "      <td>ARG</td>\n",
       "      <td>1942-04-12</td>\n",
       "      <td>reutemann</td>\n",
       "      <td>GBR</td>\n",
       "      <td>williams</td>\n",
       "      <td>USA</td>\n",
       "      <td>long_beach</td>\n",
       "      <td>3</td>\n",
       "      <td>15</td>\n",
       "      <td>1981</td>\n",
       "      <td>14217</td>\n",
       "      <td>1972-01-23</td>\n",
       "      <td>3339</td>\n",
       "      <td>0</td>\n",
       "      <td>Street circuit</td>\n",
       "      <td>0</td>\n",
       "      <td>0</td>\n",
       "      <td>0</td>\n",
       "    </tr>\n",
       "    <tr>\n",
       "      <th>338</th>\n",
       "      <td>1981-03-15</td>\n",
       "      <td>4.00</td>\n",
       "      <td>BRA</td>\n",
       "      <td>1952-08-17</td>\n",
       "      <td>piquet</td>\n",
       "      <td>GBR</td>\n",
       "      <td>brabham</td>\n",
       "      <td>USA</td>\n",
       "      <td>long_beach</td>\n",
       "      <td>3</td>\n",
       "      <td>15</td>\n",
       "      <td>1981</td>\n",
       "      <td>10437</td>\n",
       "      <td>1978-07-30</td>\n",
       "      <td>959</td>\n",
       "      <td>0</td>\n",
       "      <td>Street circuit</td>\n",
       "      <td>0</td>\n",
       "      <td>0</td>\n",
       "      <td>0</td>\n",
       "    </tr>\n",
       "    <tr>\n",
       "      <th>339</th>\n",
       "      <td>1981-03-15</td>\n",
       "      <td>6.00</td>\n",
       "      <td>USA</td>\n",
       "      <td>1940-02-28</td>\n",
       "      <td>mario_andretti</td>\n",
       "      <td>CHE</td>\n",
       "      <td>alfa</td>\n",
       "      <td>USA</td>\n",
       "      <td>long_beach</td>\n",
       "      <td>3</td>\n",
       "      <td>15</td>\n",
       "      <td>1981</td>\n",
       "      <td>14991</td>\n",
       "      <td>1968-10-06</td>\n",
       "      <td>4543</td>\n",
       "      <td>0</td>\n",
       "      <td>Street circuit</td>\n",
       "      <td>1</td>\n",
       "      <td>0</td>\n",
       "      <td>0</td>\n",
       "    </tr>\n",
       "    <tr>\n",
       "      <th>340</th>\n",
       "      <td>1981-03-15</td>\n",
       "      <td>8.00</td>\n",
       "      <td>USA</td>\n",
       "      <td>1958-01-10</td>\n",
       "      <td>cheever</td>\n",
       "      <td>GBR</td>\n",
       "      <td>tyrrell</td>\n",
       "      <td>USA</td>\n",
       "      <td>long_beach</td>\n",
       "      <td>3</td>\n",
       "      <td>15</td>\n",
       "      <td>1981</td>\n",
       "      <td>8465</td>\n",
       "      <td>1978-03-04</td>\n",
       "      <td>1107</td>\n",
       "      <td>0</td>\n",
       "      <td>Street circuit</td>\n",
       "      <td>1</td>\n",
       "      <td>0</td>\n",
       "      <td>0</td>\n",
       "    </tr>\n",
       "    <tr>\n",
       "      <th>...</th>\n",
       "      <td>...</td>\n",
       "      <td>...</td>\n",
       "      <td>...</td>\n",
       "      <td>...</td>\n",
       "      <td>...</td>\n",
       "      <td>...</td>\n",
       "      <td>...</td>\n",
       "      <td>...</td>\n",
       "      <td>...</td>\n",
       "      <td>...</td>\n",
       "      <td>...</td>\n",
       "      <td>...</td>\n",
       "      <td>...</td>\n",
       "      <td>...</td>\n",
       "      <td>...</td>\n",
       "      <td>...</td>\n",
       "      <td>...</td>\n",
       "      <td>...</td>\n",
       "      <td>...</td>\n",
       "      <td>...</td>\n",
       "    </tr>\n",
       "    <tr>\n",
       "      <th>614477</th>\n",
       "      <td>2025-09-21</td>\n",
       "      <td>3.00</td>\n",
       "      <td>NZL</td>\n",
       "      <td>2002-02-11</td>\n",
       "      <td>lawson</td>\n",
       "      <td>ITA</td>\n",
       "      <td>rb</td>\n",
       "      <td>AZE</td>\n",
       "      <td>baku</td>\n",
       "      <td>9</td>\n",
       "      <td>21</td>\n",
       "      <td>2025</td>\n",
       "      <td>8623</td>\n",
       "      <td>2023-08-27</td>\n",
       "      <td>756</td>\n",
       "      <td>0</td>\n",
       "      <td>Street circuit</td>\n",
       "      <td>0</td>\n",
       "      <td>0</td>\n",
       "      <td>0</td>\n",
       "    </tr>\n",
       "    <tr>\n",
       "      <th>614528</th>\n",
       "      <td>2025-09-21</td>\n",
       "      <td>19.00</td>\n",
       "      <td>THA</td>\n",
       "      <td>1996-03-23</td>\n",
       "      <td>albon</td>\n",
       "      <td>GBR</td>\n",
       "      <td>williams</td>\n",
       "      <td>AZE</td>\n",
       "      <td>baku</td>\n",
       "      <td>9</td>\n",
       "      <td>21</td>\n",
       "      <td>2025</td>\n",
       "      <td>10774</td>\n",
       "      <td>2019-03-17</td>\n",
       "      <td>2380</td>\n",
       "      <td>0</td>\n",
       "      <td>Street circuit</td>\n",
       "      <td>0</td>\n",
       "      <td>0</td>\n",
       "      <td>0</td>\n",
       "    </tr>\n",
       "    <tr>\n",
       "      <th>614579</th>\n",
       "      <td>2025-09-21</td>\n",
       "      <td>2.00</td>\n",
       "      <td>ESP</td>\n",
       "      <td>1994-09-01</td>\n",
       "      <td>sainz</td>\n",
       "      <td>GBR</td>\n",
       "      <td>williams</td>\n",
       "      <td>AZE</td>\n",
       "      <td>baku</td>\n",
       "      <td>9</td>\n",
       "      <td>21</td>\n",
       "      <td>2025</td>\n",
       "      <td>11343</td>\n",
       "      <td>2015-03-15</td>\n",
       "      <td>3843</td>\n",
       "      <td>0</td>\n",
       "      <td>Street circuit</td>\n",
       "      <td>0</td>\n",
       "      <td>0</td>\n",
       "      <td>0</td>\n",
       "    </tr>\n",
       "    <tr>\n",
       "      <th>614630</th>\n",
       "      <td>2025-09-21</td>\n",
       "      <td>17.00</td>\n",
       "      <td>DEU</td>\n",
       "      <td>1987-08-19</td>\n",
       "      <td>hulkenberg</td>\n",
       "      <td>CHE</td>\n",
       "      <td>sauber</td>\n",
       "      <td>AZE</td>\n",
       "      <td>baku</td>\n",
       "      <td>9</td>\n",
       "      <td>21</td>\n",
       "      <td>2025</td>\n",
       "      <td>13913</td>\n",
       "      <td>2010-03-14</td>\n",
       "      <td>5670</td>\n",
       "      <td>0</td>\n",
       "      <td>Street circuit</td>\n",
       "      <td>0</td>\n",
       "      <td>0</td>\n",
       "      <td>0</td>\n",
       "    </tr>\n",
       "    <tr>\n",
       "      <th>614681</th>\n",
       "      <td>2025-09-21</td>\n",
       "      <td>13.00</td>\n",
       "      <td>BRA</td>\n",
       "      <td>2004-10-14</td>\n",
       "      <td>bortoleto</td>\n",
       "      <td>CHE</td>\n",
       "      <td>sauber</td>\n",
       "      <td>AZE</td>\n",
       "      <td>baku</td>\n",
       "      <td>9</td>\n",
       "      <td>21</td>\n",
       "      <td>2025</td>\n",
       "      <td>7647</td>\n",
       "      <td>2025-03-16</td>\n",
       "      <td>189</td>\n",
       "      <td>0</td>\n",
       "      <td>Street circuit</td>\n",
       "      <td>0</td>\n",
       "      <td>0</td>\n",
       "      <td>0</td>\n",
       "    </tr>\n",
       "  </tbody>\n",
       "</table>\n",
       "<p>17926 rows × 20 columns</p>\n",
       "</div>"
      ]
     },
     "execution_count": 17,
     "metadata": {},
     "output_type": "execute_result"
    }
   ],
   "execution_count": 17
  },
  {
   "cell_type": "markdown",
   "id": "90d7fedf",
   "metadata": {},
   "source": [
    "<h3>Testing different models on cleaned data (For main race)</h3>"
   ]
  },
  {
   "cell_type": "code",
   "id": "e2bc696a",
   "metadata": {
    "ExecuteTime": {
     "end_time": "2025-10-15T17:00:53.935379Z",
     "start_time": "2025-10-15T17:00:53.919474Z"
    }
   },
   "source": [
    "# Drop irrelevant columns\n",
    "columns_to_drop = [ 'driver_date_of_birth', 'date', 'first_race_date']\n",
    "\n",
    "\n",
    "cleaned_data = data.drop(columns=columns_to_drop)\n",
    "cleaned_data.drop_duplicates(inplace=True)"
   ],
   "outputs": [],
   "execution_count": 65
  },
  {
   "cell_type": "code",
   "source": [
    "\n",
    "robust_cols = ['qualification_position', 'age_at_gp_in_days', 'days_since_first_race', 'race_year']\n",
    "cat_cols = ['constructor','circuit','type_circuit','driver','circuit_nationality','driver_nationality','constructor_nationality','race_month','race_day' ,'rain', 'driver_home', 'constructor_home']\n",
    "other_cols = []\n",
    "\n",
    "target = 'dnf'\n",
    "# force categorical columns to string type\n",
    "for col in cat_cols:\n",
    "    cleaned_data[col] = cleaned_data[col].astype('category')\n",
    "cleaned_data[target] = cleaned_data[target].astype('category')\n",
    "cleaned_data.dtypes"
   ],
   "metadata": {
    "collapsed": false,
    "ExecuteTime": {
     "end_time": "2025-10-15T17:51:08.136453Z",
     "start_time": "2025-10-15T17:51:08.128643Z"
    }
   },
   "id": "e4a6d06074ae21ec",
   "outputs": [
    {
     "data": {
      "text/plain": [
       "qualification_position      float64\n",
       "driver_nationality         category\n",
       "driver                     category\n",
       "constructor_nationality    category\n",
       "constructor                category\n",
       "circuit_nationality        category\n",
       "circuit                    category\n",
       "race_month                 category\n",
       "race_day                   category\n",
       "race_year                     int32\n",
       "age_at_gp_in_days             int64\n",
       "days_since_first_race         int64\n",
       "rain                       category\n",
       "type_circuit               category\n",
       "driver_home                category\n",
       "constructor_home           category\n",
       "dnf                        category\n",
       "dtype: object"
      ]
     },
     "execution_count": 71,
     "metadata": {},
     "output_type": "execute_result"
    }
   ],
   "execution_count": 71
  },
  {
   "metadata": {
    "collapsed": false,
    "ExecuteTime": {
     "end_time": "2025-10-15T17:51:10.142109Z",
     "start_time": "2025-10-15T17:51:10.133842Z"
    }
   },
   "cell_type": "code",
   "source": [
    "# Split features and target\n",
    "y = cleaned_data['dnf']\n",
    "X = cleaned_data.drop(columns=['dnf'])\n",
    "X_train, X_test, y_train, y_test = train_test_split(\n",
    "    X, y, test_size=0.2, random_state=42)"
   ],
   "id": "4adfd9539b0f5934",
   "outputs": [],
   "execution_count": 72
  },
  {
   "metadata": {
    "collapsed": false,
    "ExecuteTime": {
     "end_time": "2025-10-15T17:51:11.769925Z",
     "start_time": "2025-10-15T17:51:11.765926Z"
    }
   },
   "cell_type": "code",
   "source": [
    "#evalation functions\n",
    "\n",
    "def evaluate_model(model, X_test, y_test):\n",
    "    y_pred = model.predict(X_test)\n",
    "    y_proba = model.predict_proba(X_test)[:, 1]\n",
    "\n",
    "    print(\"\\nClassification Report:\")\n",
    "    print(classification_report(y_test, y_pred))\n",
    "\n",
    "    print(\"Confusion Matrix:\")\n",
    "    print(confusion_matrix(y_test, y_pred))\n",
    "\n",
    "    print(f\"ROC AUC Score: {roc_auc_score(y_test, y_proba):.4f}\")\n",
    "    return y_pred, y_proba\n",
    "\n"
   ],
   "id": "3fb8e73e4a438b57",
   "outputs": [],
   "execution_count": 73
  },
  {
   "metadata": {},
   "cell_type": "markdown",
   "source": "<h2>Autogluon</h2",
   "id": "64e9b8f827856f86"
  },
  {
   "metadata": {
    "ExecuteTime": {
     "end_time": "2025-10-15T20:36:40.119511Z",
     "start_time": "2025-10-15T20:36:06.361196Z"
    }
   },
   "cell_type": "code",
   "source": [
    "# Combine X_train and y_train for AutoGluon\n",
    "train_data = X_train.copy()\n",
    "train_data['dnf'] = y_train\n",
    "\n",
    "# Initialize and fit predictor\n",
    "predictor = TabularPredictor(label='dnf', path='../models/autogluon_models/status_predictor', problem_type='binary', eval_metric='roc_auc').fit(train_data, presets='medium_quality').save()\n"
   ],
   "id": "214c8013aca5d456",
   "outputs": [
    {
     "name": "stderr",
     "output_type": "stream",
     "text": [
      "Verbosity: 2 (Standard Logging)\n",
      "=================== System Info ===================\n",
      "AutoGluon Version:  1.4.0\n",
      "Python Version:     3.11.8\n",
      "Operating System:   Windows\n",
      "Platform Machine:   AMD64\n",
      "Platform Version:   10.0.26100\n",
      "CPU Count:          12\n",
      "Memory Avail:       31.73 GB / 63.11 GB (50.3%)\n",
      "Disk Space Avail:   645.74 GB / 976.56 GB (66.1%)\n",
      "===================================================\n",
      "Presets specified: ['medium_quality']\n",
      "Using hyperparameters preset: hyperparameters='default'\n",
      "Beginning AutoGluon training ...\n",
      "AutoGluon will save models to \"D:\\f1-fantasy-ml-api\\models\\autogluon_models\\status_predictor\"\n",
      "Train Data Rows:    14340\n",
      "Train Data Columns: 16\n",
      "Label Column:       dnf\n",
      "Problem Type:       binary\n",
      "Preprocessing data ...\n",
      "Selected class <--> label mapping:  class 1 = 1, class 0 = 0\n",
      "Using Feature Generators to preprocess the data ...\n",
      "Fitting AutoMLPipelineFeatureGenerator...\n",
      "\tAvailable Memory:                    32475.79 MB\n",
      "\tTrain Data (Original)  Memory Usage: 0.59 MB (0.0% of available memory)\n",
      "\tInferring data type of each feature based on column values. Set feature_metadata_in to manually specify special dtypes of the features.\n",
      "\tStage 1 Generators:\n",
      "\t\tFitting AsTypeFeatureGenerator...\n",
      "\t\t\tNote: Converting 4 features to boolean dtype as they only contain 2 unique values.\n",
      "\tStage 2 Generators:\n",
      "\t\tFitting FillNaFeatureGenerator...\n",
      "\tStage 3 Generators:\n",
      "\t\tFitting IdentityFeatureGenerator...\n",
      "\t\tFitting CategoryFeatureGenerator...\n",
      "\t\t\tFitting CategoryMemoryMinimizeFeatureGenerator...\n",
      "\tStage 4 Generators:\n",
      "\t\tFitting DropUniqueFeatureGenerator...\n",
      "\tStage 5 Generators:\n",
      "\t\tFitting DropDuplicatesFeatureGenerator...\n",
      "\tTypes of features in original data (raw dtype, special dtypes):\n",
      "\t\t('category', []) : 12 | ['driver_nationality', 'driver', 'constructor_nationality', 'constructor', 'circuit_nationality', ...]\n",
      "\t\t('float', [])    :  1 | ['qualification_position']\n",
      "\t\t('int', [])      :  3 | ['race_year', 'age_at_gp_in_days', 'days_since_first_race']\n",
      "\tTypes of features in processed data (raw dtype, special dtypes):\n",
      "\t\t('category', [])  : 8 | ['driver_nationality', 'driver', 'constructor_nationality', 'constructor', 'circuit_nationality', ...]\n",
      "\t\t('float', [])     : 1 | ['qualification_position']\n",
      "\t\t('int', [])       : 3 | ['race_year', 'age_at_gp_in_days', 'days_since_first_race']\n",
      "\t\t('int', ['bool']) : 4 | ['rain', 'type_circuit', 'driver_home', 'constructor_home']\n",
      "\t0.1s = Fit runtime\n",
      "\t16 features in original data used to generate 16 features in processed data.\n",
      "\tTrain Data (Processed) Memory Usage: 0.57 MB (0.0% of available memory)\n",
      "Data preprocessing and feature engineering runtime = 0.06s ...\n",
      "AutoGluon will gauge predictive performance using evaluation metric: 'roc_auc'\n",
      "\tThis metric expects predicted probabilities rather than predicted class labels, so you'll need to use predict_proba() instead of predict()\n",
      "\tTo change this, specify the eval_metric parameter of Predictor()\n",
      "Automatically generating train/validation split with holdout_frac=0.1, Train Rows: 12906, Val Rows: 1434\n",
      "User-specified model hyperparameters to be fit:\n",
      "{\n",
      "\t'NN_TORCH': [{}],\n",
      "\t'GBM': [{'extra_trees': True, 'ag_args': {'name_suffix': 'XT'}}, {}, {'learning_rate': 0.03, 'num_leaves': 128, 'feature_fraction': 0.9, 'min_data_in_leaf': 3, 'ag_args': {'name_suffix': 'Large', 'priority': 0, 'hyperparameter_tune_kwargs': None}}],\n",
      "\t'CAT': [{}],\n",
      "\t'XGB': [{}],\n",
      "\t'FASTAI': [{}],\n",
      "\t'RF': [{'criterion': 'gini', 'ag_args': {'name_suffix': 'Gini', 'problem_types': ['binary', 'multiclass']}}, {'criterion': 'entropy', 'ag_args': {'name_suffix': 'Entr', 'problem_types': ['binary', 'multiclass']}}, {'criterion': 'squared_error', 'ag_args': {'name_suffix': 'MSE', 'problem_types': ['regression', 'quantile']}}],\n",
      "\t'XT': [{'criterion': 'gini', 'ag_args': {'name_suffix': 'Gini', 'problem_types': ['binary', 'multiclass']}}, {'criterion': 'entropy', 'ag_args': {'name_suffix': 'Entr', 'problem_types': ['binary', 'multiclass']}}, {'criterion': 'squared_error', 'ag_args': {'name_suffix': 'MSE', 'problem_types': ['regression', 'quantile']}}],\n",
      "}\n",
      "Fitting 11 L1 models, fit_strategy=\"sequential\" ...\n",
      "Fitting model: LightGBMXT ...\n",
      "\tFitting with cpus=6, gpus=0, mem=0.0/31.7 GB\n",
      "\t0.7318\t = Validation score   (roc_auc)\n",
      "\t0.48s\t = Training   runtime\n",
      "\t0.01s\t = Validation runtime\n",
      "Fitting model: LightGBM ...\n",
      "\tFitting with cpus=6, gpus=0, mem=0.0/31.7 GB\n",
      "\t0.7204\t = Validation score   (roc_auc)\n",
      "\t0.45s\t = Training   runtime\n",
      "\t0.0s\t = Validation runtime\n",
      "Fitting model: RandomForestGini ...\n",
      "\tFitting with cpus=12, gpus=0\n",
      "\t0.7094\t = Validation score   (roc_auc)\n",
      "\t0.68s\t = Training   runtime\n",
      "\t0.04s\t = Validation runtime\n",
      "Fitting model: RandomForestEntr ...\n",
      "\tFitting with cpus=12, gpus=0\n",
      "\t0.704\t = Validation score   (roc_auc)\n",
      "\t0.76s\t = Training   runtime\n",
      "\t0.04s\t = Validation runtime\n",
      "Fitting model: CatBoost ...\n",
      "\tFitting with cpus=6, gpus=0\n",
      "\t0.7269\t = Validation score   (roc_auc)\n",
      "\t15.09s\t = Training   runtime\n",
      "\t0.0s\t = Validation runtime\n",
      "Fitting model: ExtraTreesGini ...\n",
      "\tFitting with cpus=12, gpus=0\n",
      "\t0.7048\t = Validation score   (roc_auc)\n",
      "\t0.47s\t = Training   runtime\n",
      "\t0.04s\t = Validation runtime\n",
      "Fitting model: ExtraTreesEntr ...\n",
      "\tFitting with cpus=12, gpus=0\n",
      "\t0.7108\t = Validation score   (roc_auc)\n",
      "\t0.46s\t = Training   runtime\n",
      "\t0.04s\t = Validation runtime\n",
      "Fitting model: NeuralNetFastAI ...\n",
      "\tFitting with cpus=6, gpus=0, mem=0.0/31.1 GB\n",
      "No improvement since epoch 4: early stopping\n",
      "\t0.717\t = Validation score   (roc_auc)\n",
      "\t6.67s\t = Training   runtime\n",
      "\t0.01s\t = Validation runtime\n",
      "Fitting model: XGBoost ...\n",
      "\tFitting with cpus=6, gpus=0\n",
      "\t0.7255\t = Validation score   (roc_auc)\n",
      "\t0.71s\t = Training   runtime\n",
      "\t0.01s\t = Validation runtime\n",
      "Fitting model: NeuralNetTorch ...\n",
      "\tFitting with cpus=6, gpus=0, mem=0.0/32.0 GB\n",
      "D:\\f1-fantasy-ml-api\\.venv\\Lib\\site-packages\\sklearn\\compose\\_column_transformer.py:975: FutureWarning: The parameter `force_int_remainder_cols` is deprecated and will be removed in 1.9. It has no effect. Leave it to its default value to avoid this warning.\n",
      "  warnings.warn(\n",
      "\t0.7244\t = Validation score   (roc_auc)\n",
      "\t5.89s\t = Training   runtime\n",
      "\t0.01s\t = Validation runtime\n",
      "Fitting model: LightGBMLarge ...\n",
      "\tFitting with cpus=6, gpus=0, mem=0.0/32.0 GB\n",
      "\t0.7198\t = Validation score   (roc_auc)\n",
      "\t0.77s\t = Training   runtime\n",
      "\t0.01s\t = Validation runtime\n",
      "Fitting model: WeightedEnsemble_L2 ...\n",
      "\tEnsemble Weights: {'LightGBMXT': 0.292, 'NeuralNetFastAI': 0.208, 'XGBoost': 0.208, 'NeuralNetTorch': 0.208, 'RandomForestGini': 0.042, 'CatBoost': 0.042}\n",
      "\t0.7355\t = Validation score   (roc_auc)\n",
      "\t0.05s\t = Training   runtime\n",
      "\t0.0s\t = Validation runtime\n",
      "AutoGluon training complete, total runtime = 33.16s ... Best model: WeightedEnsemble_L2 | Estimated inference throughput: 19061.2 rows/s (1434 batch size)\n",
      "TabularPredictor saved. To load, use: predictor = TabularPredictor.load(\"D:\\f1-fantasy-ml-api\\models\\autogluon_models\\status_predictor\")\n",
      "TabularPredictor saved. To load, use: predictor = TabularPredictor.load(\"D:\\f1-fantasy-ml-api\\models\\autogluon_models\\status_predictor\")\n"
     ]
    }
   ],
   "execution_count": 86
  },
  {
   "metadata": {
    "ExecuteTime": {
     "end_time": "2025-10-15T20:39:53.614123Z",
     "start_time": "2025-10-15T20:39:52.181331Z"
    }
   },
   "cell_type": "code",
   "source": [
    "predictor = TabularPredictor.load('../models/autogluon_models/status_predictor')\n",
    "\n",
    "# Predict on test set\n",
    "y_pred = predictor.predict(X_test)\n",
    "y_proba = predictor.predict_proba(X_test)[1]  # Probability for class 1\n",
    "\n",
    "# Evaluate\n",
    "perf = predictor.evaluate(X_test.assign(dnf=y_test))\n",
    "print(perf)"
   ],
   "id": "78c16ccf42d11df3",
   "outputs": [
    {
     "name": "stdout",
     "output_type": "stream",
     "text": [
      "{'roc_auc': np.float64(0.7349923107840007), 'accuracy': 0.7158393753485778, 'balanced_accuracy': np.float64(0.6318062745142753), 'mcc': 0.29864884201897063, 'f1': 0.47284014485256076, 'precision': 0.5866495507060334, 'recall': 0.39601386481802425}\n"
     ]
    }
   ],
   "execution_count": 88
  },
  {
   "metadata": {
    "ExecuteTime": {
     "end_time": "2025-10-15T20:39:57.146056Z",
     "start_time": "2025-10-15T20:39:56.877133Z"
    }
   },
   "cell_type": "code",
   "source": [
    "performance = predictor.evaluate(X_test.assign(dnf=y_test))\n",
    "performance"
   ],
   "id": "7e1743a7c2c2c3f6",
   "outputs": [
    {
     "data": {
      "text/plain": [
       "{'roc_auc': np.float64(0.7349923107840007),\n",
       " 'accuracy': 0.7158393753485778,\n",
       " 'balanced_accuracy': np.float64(0.6318062745142753),\n",
       " 'mcc': 0.29864884201897063,\n",
       " 'f1': 0.47284014485256076,\n",
       " 'precision': 0.5866495507060334,\n",
       " 'recall': 0.39601386481802425}"
      ]
     },
     "execution_count": 89,
     "metadata": {},
     "output_type": "execute_result"
    }
   ],
   "execution_count": 89
  },
  {
   "metadata": {
    "ExecuteTime": {
     "end_time": "2025-10-15T20:40:03.080863Z",
     "start_time": "2025-10-15T20:40:02.464055Z"
    }
   },
   "cell_type": "code",
   "source": "predictor.leaderboard(X_test.assign(dnf=y_test))",
   "id": "5c7082c2ac479d4e",
   "outputs": [
    {
     "data": {
      "text/plain": [
       "                  model  score_test  score_val eval_metric  pred_time_test  \\\n",
       "0               XGBoost        0.74       0.73     roc_auc            0.01   \n",
       "1              CatBoost        0.74       0.73     roc_auc            0.02   \n",
       "2   WeightedEnsemble_L2        0.73       0.74     roc_auc            0.21   \n",
       "3            LightGBMXT        0.73       0.73     roc_auc            0.01   \n",
       "4         LightGBMLarge        0.73       0.72     roc_auc            0.01   \n",
       "5              LightGBM        0.73       0.72     roc_auc            0.00   \n",
       "6      RandomForestEntr        0.72       0.70     roc_auc            0.10   \n",
       "7        NeuralNetTorch        0.72       0.72     roc_auc            0.02   \n",
       "8        ExtraTreesEntr        0.72       0.71     roc_auc            0.15   \n",
       "9      RandomForestGini        0.72       0.71     roc_auc            0.10   \n",
       "10       ExtraTreesGini        0.72       0.70     roc_auc            0.12   \n",
       "11      NeuralNetFastAI        0.70       0.72     roc_auc            0.05   \n",
       "\n",
       "    pred_time_val  fit_time  pred_time_test_marginal  pred_time_val_marginal  \\\n",
       "0            0.01      0.71                     0.01                    0.01   \n",
       "1            0.00     15.09                     0.02                    0.00   \n",
       "2            0.08     29.58                     0.00                    0.00   \n",
       "3            0.01      0.48                     0.01                    0.01   \n",
       "4            0.01      0.77                     0.01                    0.01   \n",
       "5            0.00      0.45                     0.00                    0.00   \n",
       "6            0.04      0.76                     0.10                    0.04   \n",
       "7            0.01      5.89                     0.02                    0.01   \n",
       "8            0.04      0.46                     0.15                    0.04   \n",
       "9            0.04      0.68                     0.10                    0.04   \n",
       "10           0.04      0.47                     0.12                    0.04   \n",
       "11           0.01      6.67                     0.05                    0.01   \n",
       "\n",
       "    fit_time_marginal  stack_level  can_infer  fit_order  \n",
       "0                0.71            1       True          9  \n",
       "1               15.09            1       True          5  \n",
       "2                0.05            2       True         12  \n",
       "3                0.48            1       True          1  \n",
       "4                0.77            1       True         11  \n",
       "5                0.45            1       True          2  \n",
       "6                0.76            1       True          4  \n",
       "7                5.89            1       True         10  \n",
       "8                0.46            1       True          7  \n",
       "9                0.68            1       True          3  \n",
       "10               0.47            1       True          6  \n",
       "11               6.67            1       True          8  "
      ],
      "text/html": [
       "<div>\n",
       "<style scoped>\n",
       "    .dataframe tbody tr th:only-of-type {\n",
       "        vertical-align: middle;\n",
       "    }\n",
       "\n",
       "    .dataframe tbody tr th {\n",
       "        vertical-align: top;\n",
       "    }\n",
       "\n",
       "    .dataframe thead th {\n",
       "        text-align: right;\n",
       "    }\n",
       "</style>\n",
       "<table border=\"1\" class=\"dataframe\">\n",
       "  <thead>\n",
       "    <tr style=\"text-align: right;\">\n",
       "      <th></th>\n",
       "      <th>model</th>\n",
       "      <th>score_test</th>\n",
       "      <th>score_val</th>\n",
       "      <th>eval_metric</th>\n",
       "      <th>pred_time_test</th>\n",
       "      <th>pred_time_val</th>\n",
       "      <th>fit_time</th>\n",
       "      <th>pred_time_test_marginal</th>\n",
       "      <th>pred_time_val_marginal</th>\n",
       "      <th>fit_time_marginal</th>\n",
       "      <th>stack_level</th>\n",
       "      <th>can_infer</th>\n",
       "      <th>fit_order</th>\n",
       "    </tr>\n",
       "  </thead>\n",
       "  <tbody>\n",
       "    <tr>\n",
       "      <th>0</th>\n",
       "      <td>XGBoost</td>\n",
       "      <td>0.74</td>\n",
       "      <td>0.73</td>\n",
       "      <td>roc_auc</td>\n",
       "      <td>0.01</td>\n",
       "      <td>0.01</td>\n",
       "      <td>0.71</td>\n",
       "      <td>0.01</td>\n",
       "      <td>0.01</td>\n",
       "      <td>0.71</td>\n",
       "      <td>1</td>\n",
       "      <td>True</td>\n",
       "      <td>9</td>\n",
       "    </tr>\n",
       "    <tr>\n",
       "      <th>1</th>\n",
       "      <td>CatBoost</td>\n",
       "      <td>0.74</td>\n",
       "      <td>0.73</td>\n",
       "      <td>roc_auc</td>\n",
       "      <td>0.02</td>\n",
       "      <td>0.00</td>\n",
       "      <td>15.09</td>\n",
       "      <td>0.02</td>\n",
       "      <td>0.00</td>\n",
       "      <td>15.09</td>\n",
       "      <td>1</td>\n",
       "      <td>True</td>\n",
       "      <td>5</td>\n",
       "    </tr>\n",
       "    <tr>\n",
       "      <th>2</th>\n",
       "      <td>WeightedEnsemble_L2</td>\n",
       "      <td>0.73</td>\n",
       "      <td>0.74</td>\n",
       "      <td>roc_auc</td>\n",
       "      <td>0.21</td>\n",
       "      <td>0.08</td>\n",
       "      <td>29.58</td>\n",
       "      <td>0.00</td>\n",
       "      <td>0.00</td>\n",
       "      <td>0.05</td>\n",
       "      <td>2</td>\n",
       "      <td>True</td>\n",
       "      <td>12</td>\n",
       "    </tr>\n",
       "    <tr>\n",
       "      <th>3</th>\n",
       "      <td>LightGBMXT</td>\n",
       "      <td>0.73</td>\n",
       "      <td>0.73</td>\n",
       "      <td>roc_auc</td>\n",
       "      <td>0.01</td>\n",
       "      <td>0.01</td>\n",
       "      <td>0.48</td>\n",
       "      <td>0.01</td>\n",
       "      <td>0.01</td>\n",
       "      <td>0.48</td>\n",
       "      <td>1</td>\n",
       "      <td>True</td>\n",
       "      <td>1</td>\n",
       "    </tr>\n",
       "    <tr>\n",
       "      <th>4</th>\n",
       "      <td>LightGBMLarge</td>\n",
       "      <td>0.73</td>\n",
       "      <td>0.72</td>\n",
       "      <td>roc_auc</td>\n",
       "      <td>0.01</td>\n",
       "      <td>0.01</td>\n",
       "      <td>0.77</td>\n",
       "      <td>0.01</td>\n",
       "      <td>0.01</td>\n",
       "      <td>0.77</td>\n",
       "      <td>1</td>\n",
       "      <td>True</td>\n",
       "      <td>11</td>\n",
       "    </tr>\n",
       "    <tr>\n",
       "      <th>5</th>\n",
       "      <td>LightGBM</td>\n",
       "      <td>0.73</td>\n",
       "      <td>0.72</td>\n",
       "      <td>roc_auc</td>\n",
       "      <td>0.00</td>\n",
       "      <td>0.00</td>\n",
       "      <td>0.45</td>\n",
       "      <td>0.00</td>\n",
       "      <td>0.00</td>\n",
       "      <td>0.45</td>\n",
       "      <td>1</td>\n",
       "      <td>True</td>\n",
       "      <td>2</td>\n",
       "    </tr>\n",
       "    <tr>\n",
       "      <th>6</th>\n",
       "      <td>RandomForestEntr</td>\n",
       "      <td>0.72</td>\n",
       "      <td>0.70</td>\n",
       "      <td>roc_auc</td>\n",
       "      <td>0.10</td>\n",
       "      <td>0.04</td>\n",
       "      <td>0.76</td>\n",
       "      <td>0.10</td>\n",
       "      <td>0.04</td>\n",
       "      <td>0.76</td>\n",
       "      <td>1</td>\n",
       "      <td>True</td>\n",
       "      <td>4</td>\n",
       "    </tr>\n",
       "    <tr>\n",
       "      <th>7</th>\n",
       "      <td>NeuralNetTorch</td>\n",
       "      <td>0.72</td>\n",
       "      <td>0.72</td>\n",
       "      <td>roc_auc</td>\n",
       "      <td>0.02</td>\n",
       "      <td>0.01</td>\n",
       "      <td>5.89</td>\n",
       "      <td>0.02</td>\n",
       "      <td>0.01</td>\n",
       "      <td>5.89</td>\n",
       "      <td>1</td>\n",
       "      <td>True</td>\n",
       "      <td>10</td>\n",
       "    </tr>\n",
       "    <tr>\n",
       "      <th>8</th>\n",
       "      <td>ExtraTreesEntr</td>\n",
       "      <td>0.72</td>\n",
       "      <td>0.71</td>\n",
       "      <td>roc_auc</td>\n",
       "      <td>0.15</td>\n",
       "      <td>0.04</td>\n",
       "      <td>0.46</td>\n",
       "      <td>0.15</td>\n",
       "      <td>0.04</td>\n",
       "      <td>0.46</td>\n",
       "      <td>1</td>\n",
       "      <td>True</td>\n",
       "      <td>7</td>\n",
       "    </tr>\n",
       "    <tr>\n",
       "      <th>9</th>\n",
       "      <td>RandomForestGini</td>\n",
       "      <td>0.72</td>\n",
       "      <td>0.71</td>\n",
       "      <td>roc_auc</td>\n",
       "      <td>0.10</td>\n",
       "      <td>0.04</td>\n",
       "      <td>0.68</td>\n",
       "      <td>0.10</td>\n",
       "      <td>0.04</td>\n",
       "      <td>0.68</td>\n",
       "      <td>1</td>\n",
       "      <td>True</td>\n",
       "      <td>3</td>\n",
       "    </tr>\n",
       "    <tr>\n",
       "      <th>10</th>\n",
       "      <td>ExtraTreesGini</td>\n",
       "      <td>0.72</td>\n",
       "      <td>0.70</td>\n",
       "      <td>roc_auc</td>\n",
       "      <td>0.12</td>\n",
       "      <td>0.04</td>\n",
       "      <td>0.47</td>\n",
       "      <td>0.12</td>\n",
       "      <td>0.04</td>\n",
       "      <td>0.47</td>\n",
       "      <td>1</td>\n",
       "      <td>True</td>\n",
       "      <td>6</td>\n",
       "    </tr>\n",
       "    <tr>\n",
       "      <th>11</th>\n",
       "      <td>NeuralNetFastAI</td>\n",
       "      <td>0.70</td>\n",
       "      <td>0.72</td>\n",
       "      <td>roc_auc</td>\n",
       "      <td>0.05</td>\n",
       "      <td>0.01</td>\n",
       "      <td>6.67</td>\n",
       "      <td>0.05</td>\n",
       "      <td>0.01</td>\n",
       "      <td>6.67</td>\n",
       "      <td>1</td>\n",
       "      <td>True</td>\n",
       "      <td>8</td>\n",
       "    </tr>\n",
       "  </tbody>\n",
       "</table>\n",
       "</div>"
      ]
     },
     "execution_count": 90,
     "metadata": {},
     "output_type": "execute_result"
    }
   ],
   "execution_count": 90
  },
  {
   "metadata": {
    "ExecuteTime": {
     "end_time": "2025-10-15T17:53:52.013442Z",
     "start_time": "2025-10-15T17:53:41.677344Z"
    }
   },
   "cell_type": "code",
   "source": "predictor.feature_importance(X_test.assign(dnf=y_test))\n",
   "id": "e198e49345d2acc6",
   "outputs": [
    {
     "name": "stderr",
     "output_type": "stream",
     "text": [
      "Computing feature importance via permutation shuffling for 16 features using 3586 rows with 5 shuffle sets...\n",
      "\t35.66s\t= Expected runtime (7.13s per shuffle set)\n",
      "\t10.32s\t= Actual runtime (Completed 5 of 5 shuffle sets)\n"
     ]
    },
    {
     "data": {
      "text/plain": [
       "                         importance  stddev  p_value  n  p99_high  p99_low\n",
       "race_year                      0.11    0.01     0.00  5      0.13     0.10\n",
       "qualification_position         0.01    0.00     0.00  5      0.02     0.01\n",
       "constructor                    0.01    0.00     0.00  5      0.01     0.00\n",
       "days_since_first_race          0.00    0.00     0.00  5      0.01     0.00\n",
       "driver                         0.00    0.00     0.03  5      0.01    -0.00\n",
       "circuit                        0.00    0.00     0.01  5      0.00    -0.00\n",
       "type_circuit                   0.00    0.00     0.02  5      0.00    -0.00\n",
       "constructor_nationality        0.00    0.00     0.00  5      0.00     0.00\n",
       "rain                           0.00    0.00     0.09  5      0.00    -0.00\n",
       "race_day                       0.00    0.00     0.03  5      0.00    -0.00\n",
       "circuit_nationality            0.00    0.00     0.02  5      0.00    -0.00\n",
       "driver_nationality             0.00    0.00     0.26  5      0.00    -0.00\n",
       "age_at_gp_in_days              0.00    0.00     0.06  5      0.00    -0.00\n",
       "constructor_home               0.00    0.00     0.31  5      0.00    -0.00\n",
       "driver_home                   -0.00    0.00     0.97  5      0.00    -0.00\n",
       "race_month                    -0.00    0.00     1.00  5     -0.00    -0.00"
      ],
      "text/html": [
       "<div>\n",
       "<style scoped>\n",
       "    .dataframe tbody tr th:only-of-type {\n",
       "        vertical-align: middle;\n",
       "    }\n",
       "\n",
       "    .dataframe tbody tr th {\n",
       "        vertical-align: top;\n",
       "    }\n",
       "\n",
       "    .dataframe thead th {\n",
       "        text-align: right;\n",
       "    }\n",
       "</style>\n",
       "<table border=\"1\" class=\"dataframe\">\n",
       "  <thead>\n",
       "    <tr style=\"text-align: right;\">\n",
       "      <th></th>\n",
       "      <th>importance</th>\n",
       "      <th>stddev</th>\n",
       "      <th>p_value</th>\n",
       "      <th>n</th>\n",
       "      <th>p99_high</th>\n",
       "      <th>p99_low</th>\n",
       "    </tr>\n",
       "  </thead>\n",
       "  <tbody>\n",
       "    <tr>\n",
       "      <th>race_year</th>\n",
       "      <td>0.11</td>\n",
       "      <td>0.01</td>\n",
       "      <td>0.00</td>\n",
       "      <td>5</td>\n",
       "      <td>0.13</td>\n",
       "      <td>0.10</td>\n",
       "    </tr>\n",
       "    <tr>\n",
       "      <th>qualification_position</th>\n",
       "      <td>0.01</td>\n",
       "      <td>0.00</td>\n",
       "      <td>0.00</td>\n",
       "      <td>5</td>\n",
       "      <td>0.02</td>\n",
       "      <td>0.01</td>\n",
       "    </tr>\n",
       "    <tr>\n",
       "      <th>constructor</th>\n",
       "      <td>0.01</td>\n",
       "      <td>0.00</td>\n",
       "      <td>0.00</td>\n",
       "      <td>5</td>\n",
       "      <td>0.01</td>\n",
       "      <td>0.00</td>\n",
       "    </tr>\n",
       "    <tr>\n",
       "      <th>days_since_first_race</th>\n",
       "      <td>0.00</td>\n",
       "      <td>0.00</td>\n",
       "      <td>0.00</td>\n",
       "      <td>5</td>\n",
       "      <td>0.01</td>\n",
       "      <td>0.00</td>\n",
       "    </tr>\n",
       "    <tr>\n",
       "      <th>driver</th>\n",
       "      <td>0.00</td>\n",
       "      <td>0.00</td>\n",
       "      <td>0.03</td>\n",
       "      <td>5</td>\n",
       "      <td>0.01</td>\n",
       "      <td>-0.00</td>\n",
       "    </tr>\n",
       "    <tr>\n",
       "      <th>circuit</th>\n",
       "      <td>0.00</td>\n",
       "      <td>0.00</td>\n",
       "      <td>0.01</td>\n",
       "      <td>5</td>\n",
       "      <td>0.00</td>\n",
       "      <td>-0.00</td>\n",
       "    </tr>\n",
       "    <tr>\n",
       "      <th>type_circuit</th>\n",
       "      <td>0.00</td>\n",
       "      <td>0.00</td>\n",
       "      <td>0.02</td>\n",
       "      <td>5</td>\n",
       "      <td>0.00</td>\n",
       "      <td>-0.00</td>\n",
       "    </tr>\n",
       "    <tr>\n",
       "      <th>constructor_nationality</th>\n",
       "      <td>0.00</td>\n",
       "      <td>0.00</td>\n",
       "      <td>0.00</td>\n",
       "      <td>5</td>\n",
       "      <td>0.00</td>\n",
       "      <td>0.00</td>\n",
       "    </tr>\n",
       "    <tr>\n",
       "      <th>rain</th>\n",
       "      <td>0.00</td>\n",
       "      <td>0.00</td>\n",
       "      <td>0.09</td>\n",
       "      <td>5</td>\n",
       "      <td>0.00</td>\n",
       "      <td>-0.00</td>\n",
       "    </tr>\n",
       "    <tr>\n",
       "      <th>race_day</th>\n",
       "      <td>0.00</td>\n",
       "      <td>0.00</td>\n",
       "      <td>0.03</td>\n",
       "      <td>5</td>\n",
       "      <td>0.00</td>\n",
       "      <td>-0.00</td>\n",
       "    </tr>\n",
       "    <tr>\n",
       "      <th>circuit_nationality</th>\n",
       "      <td>0.00</td>\n",
       "      <td>0.00</td>\n",
       "      <td>0.02</td>\n",
       "      <td>5</td>\n",
       "      <td>0.00</td>\n",
       "      <td>-0.00</td>\n",
       "    </tr>\n",
       "    <tr>\n",
       "      <th>driver_nationality</th>\n",
       "      <td>0.00</td>\n",
       "      <td>0.00</td>\n",
       "      <td>0.26</td>\n",
       "      <td>5</td>\n",
       "      <td>0.00</td>\n",
       "      <td>-0.00</td>\n",
       "    </tr>\n",
       "    <tr>\n",
       "      <th>age_at_gp_in_days</th>\n",
       "      <td>0.00</td>\n",
       "      <td>0.00</td>\n",
       "      <td>0.06</td>\n",
       "      <td>5</td>\n",
       "      <td>0.00</td>\n",
       "      <td>-0.00</td>\n",
       "    </tr>\n",
       "    <tr>\n",
       "      <th>constructor_home</th>\n",
       "      <td>0.00</td>\n",
       "      <td>0.00</td>\n",
       "      <td>0.31</td>\n",
       "      <td>5</td>\n",
       "      <td>0.00</td>\n",
       "      <td>-0.00</td>\n",
       "    </tr>\n",
       "    <tr>\n",
       "      <th>driver_home</th>\n",
       "      <td>-0.00</td>\n",
       "      <td>0.00</td>\n",
       "      <td>0.97</td>\n",
       "      <td>5</td>\n",
       "      <td>0.00</td>\n",
       "      <td>-0.00</td>\n",
       "    </tr>\n",
       "    <tr>\n",
       "      <th>race_month</th>\n",
       "      <td>-0.00</td>\n",
       "      <td>0.00</td>\n",
       "      <td>1.00</td>\n",
       "      <td>5</td>\n",
       "      <td>-0.00</td>\n",
       "      <td>-0.00</td>\n",
       "    </tr>\n",
       "  </tbody>\n",
       "</table>\n",
       "</div>"
      ]
     },
     "execution_count": 78,
     "metadata": {},
     "output_type": "execute_result"
    }
   ],
   "execution_count": 78
  },
  {
   "cell_type": "markdown",
   "id": "e0f4546b",
   "metadata": {},
   "source": [
    "<h3> Random forest classifier</h3>"
   ]
  },
  {
   "cell_type": "code",
   "id": "d2765981",
   "metadata": {
    "ExecuteTime": {
     "end_time": "2025-10-15T15:28:16.459436Z",
     "start_time": "2025-10-15T15:27:45.862978Z"
    }
   },
   "source": [
    "preprocessor = ColumnTransformer([\n",
    "        ('num', RobustScaler(), robust_cols),\n",
    "        ('cat', OneHotEncoder(handle_unknown='ignore', sparse_output=False), cat_cols)\n",
    "    ], remainder='passthrough')\n",
    "\n",
    "# Full pipeline\n",
    "pipeline = Pipeline([\n",
    "    ('preprocessing', preprocessor),\n",
    "    ('model', RandomForestClassifier(random_state=42))\n",
    "])\n",
    "\n",
    "# Hyperparameter grid\n",
    "\n",
    "param_grid = {\n",
    "    'model__max_depth': [30],\n",
    "    'model__min_samples_leaf': [ 4],\n",
    "    'model__min_samples_split': [10],\n",
    "    'model__n_estimators': [ 800]\n",
    "}\n",
    "# param_grid = {\n",
    "#     'model__max_depth': [30],\n",
    "#     'model__min_samples_leaf': [2, 3, 4],\n",
    "#     'model__min_samples_split': [10, 15],\n",
    "#     'model__n_estimators': [600, 800]\n",
    "# }\n",
    "# \n",
    "# Best Parameters: {'model__max_depth': 30, 'model__min_samples_leaf': 4, 'model__min_samples_split': 10, 'model__n_estimators': 800}\n",
    "\n",
    "# Cross-validation strategy\n",
    "k = 5\n",
    "cv = KFold(n_splits=k, shuffle=True, random_state=42)\n",
    "\n",
    "# Grid search with classification scoring\n",
    "grid_search = GridSearchCV(\n",
    "    estimator=pipeline,\n",
    "    param_grid=param_grid,\n",
    "    cv=cv,\n",
    "    scoring='roc_auc', \n",
    "    verbose=1,\n",
    "    n_jobs=-1\n",
    ")\n",
    "\n",
    "# Train models\n",
    "grid_search.fit(X_train, y_train)\n",
    "\n",
    "# Best parameters and performance\n",
    "print(\"Best Parameters:\", grid_search.best_params_)\n",
    "print(f\"Best ROC AUC Score (CV): {grid_search.best_score_:.4f}\")\n",
    "\n",
    "# Final models\n",
    "best_model_rf = grid_search.best_estimator_\n",
    "\n",
    "# Predict on test set\n",
    "evaluate_model(best_model_rf, X_test, y_test)\n",
    "\n",
    "\n"
   ],
   "outputs": [
    {
     "name": "stdout",
     "output_type": "stream",
     "text": [
      "Fitting 5 folds for each of 1 candidates, totalling 5 fits\n",
      "Best Parameters: {'model__max_depth': 30, 'model__min_samples_leaf': 4, 'model__min_samples_split': 10, 'model__n_estimators': 800}\n",
      "Best ROC AUC Score (CV): 0.7287\n",
      "\n",
      "Classification Report:\n",
      "              precision    recall  f1-score   support\n",
      "\n",
      "           0       0.73      0.92      0.81      2432\n",
      "           1       0.62      0.28      0.39      1154\n",
      "\n",
      "    accuracy                           0.71      3586\n",
      "   macro avg       0.68      0.60      0.60      3586\n",
      "weighted avg       0.69      0.71      0.68      3586\n",
      "\n",
      "Confusion Matrix:\n",
      "[[2236  196]\n",
      " [ 832  322]]\n",
      "ROC AUC Score: 0.7374\n"
     ]
    },
    {
     "data": {
      "text/plain": [
       "(array([0, 0, 0, ..., 0, 0, 1], shape=(3586,)),\n",
       " array([0.47923308, 0.18376527, 0.4877121 , ..., 0.35713343, 0.10408612,\n",
       "        0.50725937], shape=(3586,)))"
      ]
     },
     "execution_count": 39,
     "metadata": {},
     "output_type": "execute_result"
    }
   ],
   "execution_count": 39
  },
  {
   "cell_type": "code",
   "id": "4baa0b33",
   "metadata": {
    "ExecuteTime": {
     "end_time": "2025-10-15T15:29:20.673253Z",
     "start_time": "2025-10-15T15:29:20.554665Z"
    }
   },
   "source": [
    "# Get best pipeline from grid search\n",
    "best_pipeline = best_model_rf\n",
    "\n",
    "model = best_pipeline.named_steps['model']\n",
    "\n",
    "num_features = robust_cols\n",
    "\n",
    "ohe = best_pipeline.named_steps['preprocessing'].named_transformers_['cat']\n",
    "\n",
    "# Get the feature names for categorical columns\n",
    "cat_features = ohe.get_feature_names_out(cat_cols)\n",
    "\n",
    "\n",
    "other_features = other_cols\n",
    "\n",
    "feature_names = np.concatenate([num_features, cat_features, other_features])\n",
    "\n",
    "\n",
    "importances = model.feature_importances_\n",
    "\n",
    "# 5. Create DataFrame for display\n",
    "importances_df = pd.DataFrame({\n",
    "    'Feature': feature_names,\n",
    "    'Importance': importances\n",
    "}).sort_values(by='Importance', ascending=False)\n",
    "\n",
    "# import seaborn as sns\n",
    "# import matplotlib.pyplot as plt\n",
    "\n",
    "\n",
    "# Step 2: Create DataFrame\n",
    "feat_df = pd.DataFrame({\n",
    "    'Feature': feature_names,\n",
    "    'Importance': importances\n",
    "})\n",
    "\n",
    "# Step 3: Extract base feature name for grouping\n",
    "def extract_base_feature(name):\n",
    "    if name in num_features or name in other_features:\n",
    "        return name\n",
    "    else:\n",
    "        return name.split('_')[0]  # e.g., \"circuit_Monaco\" -> \"circuit\"\n",
    "\n",
    "feat_df['Group'] = feat_df['Feature'].apply(extract_base_feature)\n",
    "\n",
    "# Step 4: Aggregate importance by group\n",
    "grouped_importance = feat_df.groupby('Group')['Importance'].sum().sort_values(ascending=False).reset_index()\n",
    "\n",
    "# Step 5: Plot with Seaborn\n",
    "plt.figure(figsize=(12, 6))\n",
    "sns.barplot(data=grouped_importance, x='Importance', y='Group', palette='viridis')\n",
    "\n",
    "plt.title('Grouped Feature Importances')\n",
    "plt.xlabel('Total Importance')\n",
    "plt.ylabel('Feature Group')\n",
    "plt.tight_layout()\n",
    "plt.show()"
   ],
   "outputs": [
    {
     "name": "stderr",
     "output_type": "stream",
     "text": [
      "C:\\Users\\Linh\\AppData\\Local\\Temp\\ipykernel_2364\\1648476756.py:51: FutureWarning: \n",
      "\n",
      "Passing `palette` without assigning `hue` is deprecated and will be removed in v0.14.0. Assign the `y` variable to `hue` and set `legend=False` for the same effect.\n",
      "\n",
      "  sns.barplot(data=grouped_importance, x='Importance', y='Group', palette='viridis')\n"
     ]
    },
    {
     "data": {
      "text/plain": [
       "<Figure size 1200x600 with 1 Axes>"
      ],
      "image/png": "[encoded data removed]"
     },
     "metadata": {},
     "output_type": "display_data",
     "jetTransient": {
      "display_id": null
     }
    }
   ],
   "execution_count": 40
  },
  {
   "cell_type": "code",
   "execution_count": 37,
   "id": "34571d3e",
   "metadata": {
    "ExecuteTime": {
     "end_time": "2025-06-07T12:46:40.009821Z",
     "start_time": "2025-06-07T12:46:39.789696Z"
    }
   },
   "outputs": [],
   "source": [
    "# save\n",
    "with open('rf_status.pkl','wb') as f:\n",
    "    pickle.dump(best_model_rf,f)\n",
    "\n",
    "# load\n",
    "# with open('models.pkl', 'rb') as f:\n",
    "#     clf2 = pickle.load(f)\n"
   ]
  },
  {
   "cell_type": "code",
   "source": [
    "\n",
    "failure_probs = best_model_rf.predict_proba(X_test)[:, 1]\n",
    "failure_probs"
   ],
   "metadata": {
    "collapsed": false,
    "ExecuteTime": {
     "end_time": "2025-10-15T15:21:04.237247Z",
     "start_time": "2025-10-15T15:21:03.993393Z"
    }
   },
   "id": "c8f62ea01ea5ef6a",
   "outputs": [
    {
     "data": {
      "text/plain": [
       "array([0.48675194, 0.13149242, 0.5357404 , ..., 0.38787817, 0.09723087,\n",
       "       0.51921021], shape=(3586,))"
      ]
     },
     "execution_count": 33,
     "metadata": {},
     "output_type": "execute_result"
    }
   ],
   "execution_count": 33
  },
  {
   "cell_type": "markdown",
   "id": "d19735ab",
   "metadata": {},
   "source": [
    "<h5>Gradient boost Classifier</h5>"
   ]
  },
  {
   "cell_type": "code",
   "id": "f13341a7",
   "metadata": {
    "ExecuteTime": {
     "end_time": "2025-10-15T15:32:31.411944Z",
     "start_time": "2025-10-15T15:29:51.420829Z"
    }
   },
   "source": [
    "# Split features and target\n",
    "preprocessor = ColumnTransformer([\n",
    "        ('num', RobustScaler(), robust_cols),\n",
    "        ('cat', OneHotEncoder(handle_unknown='ignore', sparse_output=False), cat_cols)\n",
    "    ], remainder='passthrough')\n",
    "\n",
    "# Full pipeline\n",
    "pipeline = Pipeline([\n",
    "    ('preprocessing', preprocessor),\n",
    "    ('model', GradientBoostingClassifier(verbose=1))\n",
    "])\n",
    "\n",
    "# GridSearchCV parameters (nested under \"model__\")\n",
    "param_grid = {\n",
    "    'model__loss': [ 'log_loss'],\n",
    "    'model__learning_rate': [0.01],\n",
    "    'model__n_estimators': [ 400],\n",
    "    'model__min_samples_split': [  15],\n",
    "    'model__min_samples_leaf': [ 5],\n",
    "    'model__max_depth': [ 5],\n",
    "}\n",
    "# param_grid = {\n",
    "#     'model__loss': [ 'log_loss', 'exponential'],\n",
    "#     'model__learning_rate': [0.01, 0.1],\n",
    "#     'model__n_estimators': [ 300, 400],\n",
    "#     'model__min_samples_split': [ 10, 15],\n",
    "#     'model__min_samples_leaf': [ 4, 5],\n",
    "#     'model__max_depth': [ 4, 5],\n",
    "# }\n",
    "\n",
    "# Cross-validation strategy\n",
    "k = 5\n",
    "cv = KFold(n_splits=k, shuffle=True, random_state=42)\n",
    "\n",
    "# Grid search with classification scoring\n",
    "grid_search = GridSearchCV(\n",
    "    estimator=pipeline,\n",
    "    param_grid=param_grid,\n",
    "    cv=cv,\n",
    "    scoring='roc_auc', \n",
    "    verbose=1,\n",
    "    n_jobs=-1\n",
    ")\n",
    "\n",
    "# Train models\n",
    "grid_search.fit(X_train, y_train)\n",
    "\n",
    "# Best parameters and performance\n",
    "print(\"Best Parameters:\", grid_search.best_params_)\n",
    "print(f\"Best ROC AUC Score (CV): {grid_search.best_score_:.4f}\")\n",
    "\n",
    "# Final models\n",
    "best_model_gb = grid_search.best_estimator_\n",
    "\n",
    "# Predict on test set\n",
    "evaluate_model(best_model_gb, X_test, y_test)"
   ],
   "outputs": [
    {
     "name": "stdout",
     "output_type": "stream",
     "text": [
      "Fitting 5 folds for each of 1 candidates, totalling 5 fits\n",
      "      Iter       Train Loss   Remaining Time \n",
      "         1           1.2696           49.58s\n",
      "         2           1.2679           48.12s\n",
      "         3           1.2662           46.98s\n",
      "         4           1.2646           46.59s\n",
      "         5           1.2630           46.18s\n",
      "         6           1.2615           45.99s\n",
      "         7           1.2599           46.24s\n",
      "         8           1.2584           46.20s\n",
      "         9           1.2569           45.89s\n",
      "        10           1.2555           45.85s\n",
      "        20           1.2423           45.00s\n",
      "        30           1.2306           43.87s\n",
      "        40           1.2207           43.11s\n",
      "        50           1.2113           42.97s\n",
      "        60           1.2031           41.62s\n",
      "        70           1.1957           40.14s\n",
      "        80           1.1879           38.81s\n",
      "        90           1.1808           37.50s\n",
      "       100           1.1749           36.37s\n",
      "       200           1.1329           25.40s\n",
      "       300           1.1066           13.30s\n",
      "       400           1.0897            0.00s\n",
      "Best Parameters: {'model__learning_rate': 0.01, 'model__loss': 'log_loss', 'model__max_depth': 5, 'model__min_samples_leaf': 5, 'model__min_samples_split': 15, 'model__n_estimators': 400}\n",
      "Best ROC AUC Score (CV): 0.7170\n",
      "\n",
      "Classification Report:\n",
      "              precision    recall  f1-score   support\n",
      "\n",
      "           0       0.72      0.93      0.81      2432\n",
      "           1       0.62      0.24      0.35      1154\n",
      "\n",
      "    accuracy                           0.71      3586\n",
      "   macro avg       0.67      0.58      0.58      3586\n",
      "weighted avg       0.69      0.71      0.66      3586\n",
      "\n",
      "Confusion Matrix:\n",
      "[[2258  174]\n",
      " [ 876  278]]\n",
      "ROC AUC Score: 0.7277\n"
     ]
    },
    {
     "data": {
      "text/plain": [
       "(array([0, 0, 0, ..., 0, 0, 1], shape=(3586,)),\n",
       " array([0.48589776, 0.17802016, 0.43139921, ..., 0.39723251, 0.12311237,\n",
       "        0.55742996], shape=(3586,)))"
      ]
     },
     "execution_count": 41,
     "metadata": {},
     "output_type": "execute_result"
    }
   ],
   "execution_count": 41
  },
  {
   "cell_type": "code",
   "id": "0fa47c0a",
   "metadata": {
    "ExecuteTime": {
     "end_time": "2025-10-15T15:32:31.539826Z",
     "start_time": "2025-10-15T15:32:31.438955Z"
    }
   },
   "source": [
    "# Get best pipeline from grid search\n",
    "best_pipeline = best_model_gb\n",
    "\n",
    "model = best_pipeline.named_steps['model']\n",
    "\n",
    "num_features = robust_cols\n",
    "\n",
    "ohe = best_pipeline.named_steps['preprocessing'].named_transformers_['cat']\n",
    "\n",
    "# Get the feature names for categorical columns\n",
    "cat_features = ohe.get_feature_names_out(cat_cols)\n",
    "\n",
    "\n",
    "other_features = other_cols\n",
    "\n",
    "feature_names = np.concatenate([num_features, cat_features, other_features])\n",
    "\n",
    "\n",
    "importances = model.feature_importances_\n",
    "\n",
    "# 5. Create DataFrame for display\n",
    "importances_df = pd.DataFrame({\n",
    "    'Feature': feature_names,\n",
    "    'Importance': importances\n",
    "}).sort_values(by='Importance', ascending=False)\n",
    "\n",
    "# import seaborn as sns\n",
    "# import matplotlib.pyplot as plt\n",
    "\n",
    "\n",
    "# Step 2: Create DataFrame\n",
    "feat_df = pd.DataFrame({\n",
    "    'Feature': feature_names,\n",
    "    'Importance': importances\n",
    "})\n",
    "\n",
    "# Step 3: Extract base feature name for grouping\n",
    "def extract_base_feature(name):\n",
    "    if name in num_features or name in other_features:\n",
    "        return name\n",
    "    else:\n",
    "        return name.split('_')[0]  # e.g., \"circuit_Monaco\" -> \"circuit\"\n",
    "\n",
    "feat_df['Group'] = feat_df['Feature'].apply(extract_base_feature)\n",
    "\n",
    "# Step 4: Aggregate importance by group\n",
    "grouped_importance = feat_df.groupby('Group')['Importance'].sum().sort_values(ascending=False).reset_index()\n",
    "\n",
    "# Step 5: Plot with Seaborn\n",
    "plt.figure(figsize=(12, 6))\n",
    "sns.barplot(data=grouped_importance, x='Importance', y='Group', palette='viridis')\n",
    "\n",
    "plt.title('Grouped Feature Importances')\n",
    "plt.xlabel('Total Importance')\n",
    "plt.ylabel('Feature Group')\n",
    "plt.tight_layout()\n",
    "plt.show()"
   ],
   "outputs": [
    {
     "name": "stderr",
     "output_type": "stream",
     "text": [
      "C:\\Users\\Linh\\AppData\\Local\\Temp\\ipykernel_2364\\285344360.py:51: FutureWarning: \n",
      "\n",
      "Passing `palette` without assigning `hue` is deprecated and will be removed in v0.14.0. Assign the `y` variable to `hue` and set `legend=False` for the same effect.\n",
      "\n",
      "  sns.barplot(data=grouped_importance, x='Importance', y='Group', palette='viridis')\n"
     ]
    },
    {
     "data": {
      "text/plain": [
       "<Figure size 1200x600 with 1 Axes>"
      ],
      "image/png": "[encoded data removed]"
     },
     "metadata": {},
     "output_type": "display_data",
     "jetTransient": {
      "display_id": null
     }
    }
   ],
   "execution_count": 42
  },
  {
   "cell_type": "code",
   "execution_count": 42,
   "id": "898b03b4",
   "metadata": {
    "ExecuteTime": {
     "end_time": "2025-06-07T12:50:49.976024Z",
     "start_time": "2025-06-07T12:50:49.963492Z"
    }
   },
   "outputs": [],
   "source": [
    "# save\n",
    "with open('gb_status.pkl','wb') as f:\n",
    "    pickle.dump(best_model_gb,f)\n",
    "\n",
    "# load\n",
    "# with open('models.pkl', 'rb') as f:\n",
    "#     clf2 = pickle.load(f)"
   ]
  },
  {
   "cell_type": "markdown",
   "source": [
    "<h3>Logistic Regression</h3>"
   ],
   "metadata": {
    "collapsed": false
   },
   "id": "b2344a855f7081ad"
  },
  {
   "cell_type": "code",
   "source": [
    "preprocessor = ColumnTransformer([\n",
    "        ('num', RobustScaler(), robust_cols),\n",
    "        ('cat', OneHotEncoder(handle_unknown='ignore', sparse_output=False), cat_cols)\n",
    "    ], remainder='passthrough')\n",
    "\n",
    "\n",
    "# Full pipeline\n",
    "pipeline = Pipeline([\n",
    "    ('preprocessing', preprocessor),\n",
    "    ('model', LogisticRegression(verbose=1))\n",
    "])\n",
    "\n",
    "# GridSearchCV parameters (nested under \"model__\")\n",
    "param_grid = {\n",
    "    'model__C': [0.1,],\n",
    "    'model__penalty': ['l2'],\n",
    "    'model__solver': ['liblinear'],\n",
    "    'model__max_iter': [100]\n",
    "}\n",
    "# param_grid = {\n",
    "#     'model__C': [0.1, 1.0, 10.0],\n",
    "#     'model__penalty': ['l2','l1'],\n",
    "#     'model__solver': ['lbfgs','liblinear'],\n",
    "#     'model__max_iter': [100,200,300]\n",
    "# }\n",
    "\n",
    "#[LibLinear]Best Parameters: {'model__C': 0.1, 'model__max_iter': 100, 'model__penalty': 'l2', 'model__solver': 'liblinear'}\n",
    "# Cross-validation strategy\n",
    "k = 5\n",
    "cv = KFold(n_splits=k, shuffle=True, random_state=42)\n",
    "\n",
    "# Grid search with classification scoring\n",
    "grid_search = GridSearchCV(\n",
    "    estimator=pipeline,\n",
    "    param_grid=param_grid,\n",
    "    cv=cv,\n",
    "    scoring='roc_auc',\n",
    "    verbose=1,\n",
    "    n_jobs=-1\n",
    ")\n",
    "\n",
    "# Train models\n",
    "grid_search.fit(X_train, y_train)\n",
    "\n",
    "# Best parameters and performance\n",
    "print(\"Best Parameters:\", grid_search.best_params_)\n",
    "print(f\"Best ROC AUC Score (CV): {grid_search.best_score_:.4f}\")\n",
    "\n",
    "# Final models\n",
    "best_model_lg = grid_search.best_estimator_\n",
    "\n",
    "# Predict on test set\n",
    "evaluate_model(best_model_lg, X_test, y_test)"
   ],
   "metadata": {
    "collapsed": false,
    "ExecuteTime": {
     "end_time": "2025-10-15T15:36:14.206896Z",
     "start_time": "2025-10-15T15:36:13.933630Z"
    }
   },
   "id": "5bb46f6eae651b18",
   "outputs": [
    {
     "name": "stdout",
     "output_type": "stream",
     "text": [
      "Fitting 5 folds for each of 1 candidates, totalling 5 fits\n",
      "[LibLinear]Best Parameters: {'model__C': 0.1, 'model__max_iter': 100, 'model__penalty': 'l2', 'model__solver': 'liblinear'}\n",
      "Best ROC AUC Score (CV): 0.7275\n",
      "\n",
      "Classification Report:\n",
      "              precision    recall  f1-score   support\n",
      "\n",
      "           0       0.75      0.87      0.80      2432\n",
      "           1       0.58      0.38      0.46      1154\n",
      "\n",
      "    accuracy                           0.71      3586\n",
      "   macro avg       0.66      0.62      0.63      3586\n",
      "weighted avg       0.69      0.71      0.69      3586\n",
      "\n",
      "Confusion Matrix:\n",
      "[[2117  315]\n",
      " [ 717  437]]\n",
      "ROC AUC Score: 0.7313\n"
     ]
    },
    {
     "data": {
      "text/plain": [
       "(array([1, 0, 1, ..., 0, 0, 1], shape=(3586,)),\n",
       " array([0.50637552, 0.12916352, 0.55656868, ..., 0.40161288, 0.12696494,\n",
       "        0.60004187], shape=(3586,)))"
      ]
     },
     "execution_count": 46,
     "metadata": {},
     "output_type": "execute_result"
    }
   ],
   "execution_count": 46
  },
  {
   "cell_type": "code",
   "outputs": [],
   "source": [
    "# save\n",
    "with open('lg_status.pkl','wb') as f:\n",
    "    pickle.dump(best_model_lg,f)\n",
    "\n",
    "# load\n",
    "# with open('models.pkl', 'rb') as f:\n",
    "#     clf2 = pickle.load(f)"
   ],
   "metadata": {
    "collapsed": false,
    "ExecuteTime": {
     "end_time": "2025-06-07T13:08:21.350402Z",
     "start_time": "2025-06-07T13:08:21.346203Z"
    }
   },
   "id": "b31e49e79149ae9f",
   "execution_count": 44
  },
  {
   "cell_type": "code",
   "source": [
    "#one hot encoding example for a single column of driver with 3 values\n",
    "df = pd.DataFrame({'driver': ['Lewis', 'Max', 'Oscar']})\n",
    "ohe = OneHotEncoder(sparse_output=False)\n",
    "ohe.fit(df[['driver']])\n",
    "encoded = ohe.transform(df[['driver']])\n",
    "encoded_df = pd.DataFrame(encoded, columns=ohe.get_feature_names_out(['driver']))\n",
    "#print 2 dataframes to visual graph\n",
    "print(\"Original DataFrame:\")\n",
    "print(df)\n",
    "print(\"\\nOne-Hot Encoded DataFrame:\")"
   ],
   "metadata": {
    "collapsed": false,
    "ExecuteTime": {
     "end_time": "2025-10-15T15:35:55.292428Z",
     "start_time": "2025-10-15T15:35:55.287268Z"
    }
   },
   "id": "d3c3cc1807feec5c",
   "outputs": [
    {
     "name": "stdout",
     "output_type": "stream",
     "text": [
      "Original DataFrame:\n",
      "  driver\n",
      "0  Lewis\n",
      "1    Max\n",
      "2  Oscar\n",
      "\n",
      "One-Hot Encoded DataFrame:\n"
     ]
    }
   ],
   "execution_count": 45
  },
  {
   "cell_type": "code",
   "outputs": [],
   "source": [],
   "metadata": {
    "collapsed": false
   },
   "id": "d0e8dd22fa34237a",
   "execution_count": null
  }
 ],
 "metadata": {
  "kernelspec": {
   "display_name": "base",
   "language": "python",
   "name": "python3"
  },
  "language_info": {
   "codemirror_mode": {
    "name": "ipython",
    "version": 3
   },
   "file_extension": ".py",
   "mimetype": "text/x-python",
   "name": "python",
   "nbconvert_exporter": "python",
   "pygments_lexer": "ipython3",
   "version": "3.12.7"
  }
 },
 "nbformat": 4,
 "nbformat_minor": 5
}
