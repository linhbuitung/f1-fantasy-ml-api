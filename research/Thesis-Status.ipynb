{
 "cells": [
  {
   "cell_type": "markdown",
   "id": "18b0a525-6f52-4567-9c79-c733ab7d5901",
   "metadata": {},
   "source": [
    "<h2>Formula 1 Grand Prix status prediction</h2>"
   ]
  },
  {
   "cell_type": "code",
   "outputs": [],
   "source": [
    "import pandas as pd\n",
    "import numpy as np\n",
    "import matplotlib.pyplot as plt\n",
    "import seaborn as sns\n",
    "import pickle\n",
    "import re\n",
    "from sklearn.compose import ColumnTransformer\n",
    "from sklearn.pipeline import Pipeline\n",
    "from sklearn.preprocessing import StandardScaler,LabelEncoder,OneHotEncoder ,RobustScaler\n",
    "from sklearn.model_selection import cross_val_score,StratifiedKFold,RandomizedSearchCV,train_test_split,KFold,GridSearchCV\n",
    "from sklearn.linear_model import LinearRegression, LogisticRegression\n",
    "from sklearn.ensemble import RandomForestRegressor,  GradientBoostingRegressor,RandomForestClassifier,GradientBoostingClassifier\n",
    "from sklearn.neural_network import MLPRegressor\n",
    "from sklearn.svm import SVC\n",
    "from sklearn.naive_bayes import GaussianNB\n",
    "from sklearn.metrics import classification_report, confusion_matrix, roc_auc_score\n",
    "import pickle\n",
    "\n",
    "\n",
    "plt.style.use('bmh')\n",
    "pd.set_option('display.float_format', '{:.2f}'.format)"
   ],
   "metadata": {
    "collapsed": false,
    "ExecuteTime": {
     "end_time": "2025-06-07T15:44:23.267414Z",
     "start_time": "2025-06-07T15:44:22.733579Z"
    }
   },
   "id": "48e1dea0-9ff1-4422-8034-9f7e4c08c1ec",
   "execution_count": 2
  },
  {
   "cell_type": "markdown",
   "source": [
    "<h3>Data cleaning</h3>"
   ],
   "metadata": {
    "collapsed": false
   },
   "id": "08e4e060"
  },
  {
   "cell_type": "code",
   "outputs": [],
   "source": [
    "results = pd.read_csv(r'data/results.csv')\n",
    "races = pd.read_csv(r'data/races.csv')\n",
    "drivers = pd.read_csv(r'data/drivers.csv')\n",
    "constructors = pd.read_csv(r'data/constructors.csv')\n",
    "circuits = pd.read_csv(r'data/circuits.csv')\n",
    "status = pd.read_csv(r'data/status.csv')\n",
    "laptimes = pd.read_csv(r'data/lap_times.csv')\n",
    "\n",
    "\n",
    "countries = pd.read_csv(r'data/countries/countries.csv')"
   ],
   "metadata": {
    "collapsed": false,
    "ExecuteTime": {
     "end_time": "2025-06-07T12:31:18.930898Z",
     "start_time": "2025-06-07T12:31:18.658334Z"
    }
   },
   "id": "b3e2ed6c45ba15fa",
   "execution_count": 3
  },
  {
   "cell_type": "code",
   "outputs": [],
   "source": [
    "df1 = pd.merge(races,results,how='left',on=['raceId'], suffixes=('_race', '_result'))\n",
    "df2 = pd.merge(df1,drivers,how='left',on=['driverId'], suffixes=('', '_driver'))\n",
    "df3 = pd.merge(df2,constructors,how='left',on=['constructorId'], suffixes=('', '_constructor'))\n",
    "df4 = pd.merge(df3,circuits,how='left',on=['circuitId'], suffixes=('', '_circuit'))\n",
    "df5 = pd.merge(df4,status,how='left',on=['statusId'], suffixes=('', '_status'))"
   ],
   "metadata": {
    "collapsed": false,
    "ExecuteTime": {
     "end_time": "2025-06-07T12:31:21.639208Z",
     "start_time": "2025-06-07T12:31:21.560542Z"
    }
   },
   "id": "3f4863281e6e00c4",
   "execution_count": 4
  },
  {
   "cell_type": "code",
   "outputs": [],
   "source": [
    "\n",
    "data = df5;\n",
    "#drop the columns which are not important\n",
    "\n",
    "\n",
    "data = data.drop(['raceId',  'round', 'circuitId', 'name', 'time_race',\n",
    "       'url', 'fp1_date', 'fp1_time', 'fp2_date', 'fp2_time', 'fp3_date',\n",
    "       'fp3_time', 'quali_date', 'quali_time', 'sprint_date', 'sprint_time',\n",
    "       'resultId', 'constructorId', 'number',  'position',\n",
    "       'positionText','positionOrder', 'points', 'time_result',\n",
    "        'fastestLap', 'rank', 'fastestLapTime',\n",
    "       'fastestLapSpeed', 'statusId', 'driverRef', 'number_driver',\n",
    "       'code',   'url_driver',\n",
    "       'constructorRef', \n",
    "       'url_constructor', 'circuitRef',  'location',\n",
    "       'lat', 'lng', 'alt', 'url_circuit', \n",
    "      ],axis=1)"
   ],
   "metadata": {
    "collapsed": false,
    "ExecuteTime": {
     "end_time": "2025-06-07T12:31:46.029342Z",
     "start_time": "2025-06-07T12:31:46.020753Z"
    }
   },
   "id": "65b13f104d4cdfda",
   "execution_count": 6
  },
  {
   "cell_type": "code",
   "outputs": [
    {
     "data": {
      "text/plain": "Index(['year', 'date', 'weather', 'driverId', 'grid', 'laps', 'milliseconds',\n       'forename', 'surname', 'dob', 'nationality', 'name_constructor',\n       'nationality_constructor', 'name_circuit', 'country', 'type', 'status'],\n      dtype='object')"
     },
     "execution_count": 7,
     "metadata": {},
     "output_type": "execute_result"
    }
   ],
   "source": [
    "testData = data.copy()\n",
    "#print test data where year = 2020 and name_circuit = 'Bahrain International Circuit'\n",
    "testData.columns\n",
    "#export test data to csv\n",
    "#testData.to_csv('testData.csv', index=False)\n"
   ],
   "metadata": {
    "collapsed": false,
    "ExecuteTime": {
     "end_time": "2025-06-07T12:31:48.741735Z",
     "start_time": "2025-06-07T12:31:48.731342Z"
    }
   },
   "id": "755ce2f6e5336a76",
   "execution_count": 7
  },
  {
   "cell_type": "code",
   "outputs": [],
   "source": [
    "#rename the columns\n",
    "data.rename(columns={'name':'race_name','grid':'qualification_pos','name_constructor':'constructor',\n",
    "                     'nationality':'driver_nationality','nationality_constructor':'constructor_nationality', 'name_circuit' :'circuit', 'country': 'country_circuit', 'type': 'type_circuit', 'dob':'driver_date_of_birth'},inplace=True)\n",
    "data['driver'] = data['forename']+' '+data['surname']\n",
    "#drop forename columns and surname columns\n",
    "data = data.drop(['forename','surname'],axis=1)\n",
    "def convert_to_full_date(date_str):\n",
    "    day, month, year = date_str.split('-')\n",
    "    year = int(year)\n",
    "    # Assume years < 50 are in 2000s, otherwise in 1900s\n",
    "    full_year = 2000 + year if year < 50 else 1900 + year\n",
    "    return f\"{day}-{month}-{full_year}\"\n",
    "# Specify the date format explicitly\n",
    "data['full_date'] = data['date'].apply(convert_to_full_date)\n",
    "data['driver_date_of_birth'] = pd.to_datetime(data['driver_date_of_birth'])\n",
    "data['date'] = pd.to_datetime(data['full_date'], format='%d-%m-%Y')\n",
    "data = data.drop(['full_date'],axis=1)\n",
    "\n",
    "#get month and day from date into new columns\n",
    "data['race_month'] = data['date'].dt.month\n",
    "data['race_day'] = data['date'].dt.day\n",
    "data.rename(columns={'year':'race_year'},inplace=True)\n"
   ],
   "metadata": {
    "collapsed": false,
    "ExecuteTime": {
     "end_time": "2025-06-07T12:31:50.495461Z",
     "start_time": "2025-06-07T12:31:50.452249Z"
    }
   },
   "id": "677bf2b97eb65b7f",
   "execution_count": 8
  },
  {
   "cell_type": "code",
   "outputs": [],
   "source": [
    "data['age_at_gp_in_days'] = abs(data['driver_date_of_birth']-data['date'])\n",
    "data['age_at_gp_in_days'] = data['age_at_gp_in_days'].apply(lambda x: str(x).split(' ')[0]).astype(int)\n",
    "\n",
    "first_race_dates = data.groupby('driverId')['date'].min().reset_index()\n",
    "first_race_dates.rename(columns={'date': 'first_race_date'}, inplace=True)\n",
    "data = data.merge(first_race_dates, on='driverId', how='left')\n",
    "data = data.drop(['driverId'],axis=1)\n",
    "\n",
    "data['days_since_first_race'] = abs(data['first_race_date']-data['date'])\n",
    "data['days_since_first_race'] = data['days_since_first_race'].apply(lambda x: str(x).split(' ')[0]).astype(int)"
   ],
   "metadata": {
    "collapsed": false,
    "ExecuteTime": {
     "end_time": "2025-06-07T12:31:51.787671Z",
     "start_time": "2025-06-07T12:31:51.341985Z"
    }
   },
   "id": "11d31ad3bf5e9b4",
   "execution_count": 9
  },
  {
   "cell_type": "code",
   "outputs": [],
   "source": [
    "#create a rain column where if the weather is 'Rain or 'Changeable' or 'Very changeable' then 1 else 0\n",
    "data['rain'] = data['weather'].apply(lambda x: 1 if x in ['Rain', 'Changeable', 'Very changeable'] else 0)\n",
    "#drop the weather column\n",
    "data = data.drop(['weather'],axis=1)"
   ],
   "metadata": {
    "collapsed": false,
    "ExecuteTime": {
     "end_time": "2025-06-07T12:31:51.807362Z",
     "start_time": "2025-06-07T12:31:51.790807Z"
    }
   },
   "id": "4c186179c80d2210",
   "execution_count": 10
  },
  {
   "cell_type": "code",
   "outputs": [],
   "source": [
    "#select all data from 1980\n",
    "data = data[data['race_year']>=1981]\n",
    "#get first nationality only\n"
   ],
   "metadata": {
    "collapsed": false,
    "ExecuteTime": {
     "end_time": "2025-06-07T12:31:52.398649Z",
     "start_time": "2025-06-07T12:31:52.391613Z"
    }
   },
   "id": "232cd171b5e28376",
   "execution_count": 11
  },
  {
   "cell_type": "code",
   "outputs": [
    {
     "name": "stdout",
     "output_type": "stream",
     "text": [
      "Index(['race_year', 'date', 'qualification_pos', 'laps', 'milliseconds',\n",
      "       'driver_date_of_birth', 'driver_nationality', 'constructor',\n",
      "       'constructor_nationality', 'circuit', 'country_circuit', 'type_circuit',\n",
      "       'status', 'driver', 'race_month', 'race_day', 'age_at_gp_in_days',\n",
      "       'first_race_date', 'days_since_first_race', 'rain'],\n",
      "      dtype='object')\n"
     ]
    }
   ],
   "source": [
    "print(data.columns)"
   ],
   "metadata": {
    "collapsed": false,
    "ExecuteTime": {
     "end_time": "2025-06-07T12:31:52.914680Z",
     "start_time": "2025-06-07T12:31:52.911163Z"
    }
   },
   "id": "d314caa6bfcb77ff",
   "execution_count": 12
  },
  {
   "cell_type": "code",
   "outputs": [
    {
     "name": "stdout",
     "output_type": "stream",
     "text": [
      "All Constructors:\n",
      "['Williams' 'Brabham' 'Alfa Romeo' 'Tyrrell' 'Theodore' 'Fittipaldi'\n",
      " 'Renault' 'Ensign' 'Ferrari' 'Ligier' 'ATS' 'Arrows' 'Osella'\n",
      " 'Team Lotus' 'McLaren' 'March' 'Toleman' 'RAM' 'Spirit' 'Minardi'\n",
      " 'Zakspeed' 'Lola' 'Benetton' 'AGS' 'Larrousse' 'Coloni' 'Rial'\n",
      " 'Euro Brun' 'Dallara' 'Onyx' 'Leyton House' 'Life' 'Lambo' 'Jordan'\n",
      " 'Footwork' 'Fondmetal' 'Andrea Moda' 'Sauber' 'Simtek' 'Pacific' 'Forti'\n",
      " 'Prost' 'Stewart' 'BAR' 'Jaguar' 'Toyota' 'Red Bull' 'Honda' 'Toro Rosso'\n",
      " 'BMW Sauber' 'MF1' 'Super Aguri' 'Spyker MF1' 'Spyker' 'Force India'\n",
      " 'Brawn' 'Mercedes' 'Lotus' 'HRT' 'Virgin' 'Lotus F1' 'Marussia'\n",
      " 'Caterham' 'Manor Marussia' 'Haas F1 Team' 'Racing Point' 'AlphaTauri'\n",
      " 'Aston Martin' 'Alpine F1 Team' 'RB F1 Team']\n"
     ]
    }
   ],
   "source": [
    "#get all unique constructors\n",
    "constructors = data['constructor'].unique()\n",
    "print('All Constructors:')\n",
    "print(constructors)"
   ],
   "metadata": {
    "collapsed": false,
    "ExecuteTime": {
     "end_time": "2025-06-07T12:31:54.785712Z",
     "start_time": "2025-06-07T12:31:54.780575Z"
    }
   },
   "id": "9efec20fa3fc9b7e",
   "execution_count": 13
  },
  {
   "cell_type": "code",
   "outputs": [
    {
     "data": {
      "text/plain": "array(['British', 'Swiss', 'Hong Kong', 'Brazilian', 'French', 'Italian',\n       'German', 'Irish', 'Japanese', 'Austrian', 'Russian', 'Dutch',\n       'Indian', 'Malaysian', 'Spanish', 'American'], dtype=object)"
     },
     "execution_count": 14,
     "metadata": {},
     "output_type": "execute_result"
    }
   ],
   "source": [
    "data['constructor_nationality'].unique()\n"
   ],
   "metadata": {
    "collapsed": false,
    "ExecuteTime": {
     "end_time": "2025-06-07T12:31:55.526595Z",
     "start_time": "2025-06-07T12:31:55.521937Z"
    }
   },
   "id": "96eee710a316b10a",
   "execution_count": 14
  },
  {
   "cell_type": "code",
   "outputs": [],
   "source": [
    "#clean data\n",
    "data['driver_nationality'] = data['driver_nationality'].replace('Argentinian', 'Argentine')\n",
    "data['country_circuit'] = data['country_circuit'].replace('United States', 'USA')"
   ],
   "metadata": {
    "collapsed": false,
    "ExecuteTime": {
     "end_time": "2025-06-07T12:31:57.333793Z",
     "start_time": "2025-06-07T12:31:57.327085Z"
    }
   },
   "id": "5dbfe97f0ee23f51",
   "execution_count": 15
  },
  {
   "cell_type": "code",
   "outputs": [],
   "source": [
    "#for country circuit\n",
    "\n",
    "#Change all \"Argentinian\" to \"Argentine\"\n",
    "data_tmp = data.copy()\n",
    "\n",
    "#get first nationality only\n",
    "df_countries = countries.copy()\n",
    "df_countries['nationality'] = df_countries['nationality'].apply(lambda x: x.split(',')[0].strip())\n",
    "df_countries['en_short_name'] = df_countries['en_short_name'].apply(lambda x: x.split(',')[0].strip())\n",
    "df_countries['en_short_name'] = df_countries['en_short_name'].apply(lambda x: 'UK' if x=='United Kingdom of Great Britain and Northern Ireland' else x)\n",
    "df_countries['en_short_name'] = df_countries['en_short_name'].apply(lambda x: 'UAE' if x=='United Arab Emirates' else x)\n",
    "df_countries['en_short_name'] = df_countries['en_short_name'].apply(lambda x: 'Korea' if x=='Korea (Republic of)' else x)\n",
    "df_countries['en_short_name'] = df_countries['en_short_name'].apply(lambda x: 'Russia' if x=='Russian Federation' else x)\n",
    "df_countries['en_short_name'] = df_countries['en_short_name'].apply(lambda x: 'USA' if x=='United States of America' else x)\n",
    "\n",
    "#drop rows with duplicate nationality\n",
    "df_countries = df_countries[df_countries['en_short_name'] != 'Taiwan']\n",
    "df_countries = df_countries[df_countries['en_short_name'] != 'United States Minor Outlying Islands']\n",
    "\n",
    "\n",
    "data_with_circuit_nationality = data_tmp.merge(\n",
    "    df_countries,\n",
    "    how='left',\n",
    "    left_on='country_circuit', \n",
    "    right_on='en_short_name'  \n",
    ")\n",
    "\n",
    "#en_short_name\n",
    "\n",
    "data_with_circuit_nationality=data_with_circuit_nationality.drop(['country_circuit', 'num_code', 'alpha_2_code', 'en_short_name', 'nationality'], axis=1)\n",
    "data_with_circuit_nationality.rename(columns={'alpha_3_code':'circuit_nationality'}, inplace=True)\n"
   ],
   "metadata": {
    "collapsed": false,
    "ExecuteTime": {
     "end_time": "2025-06-07T12:31:57.818459Z",
     "start_time": "2025-06-07T12:31:57.798151Z"
    }
   },
   "id": "3bc232eb26669dce",
   "execution_count": 16
  },
  {
   "cell_type": "code",
   "outputs": [],
   "source": [
    "data_tmp = data_with_circuit_nationality.copy()\n",
    "\n",
    "data_with_driver_nationality = data_tmp.merge(\n",
    "    df_countries,\n",
    "    how='left',\n",
    "    left_on='driver_nationality', \n",
    "    right_on='nationality'  \n",
    ")\n",
    "\n",
    "data_with_driver_nationality=data_with_driver_nationality.drop(['driver_nationality', 'num_code', 'alpha_2_code', 'en_short_name', 'nationality'], axis=1)\n",
    "data_with_driver_nationality.rename(columns={'alpha_3_code':'driver_nationality'}, inplace=True)\n",
    "\n"
   ],
   "metadata": {
    "collapsed": false,
    "ExecuteTime": {
     "end_time": "2025-06-07T12:31:58.520152Z",
     "start_time": "2025-06-07T12:31:58.505375Z"
    }
   },
   "id": "f97aa2ab8838f3b8",
   "execution_count": 17
  },
  {
   "cell_type": "code",
   "outputs": [],
   "source": [
    "data_tmp = data_with_driver_nationality.copy()\n",
    "\n",
    "data_with_constructor_nationality = data_tmp.merge(\n",
    "    df_countries,\n",
    "    how='left',\n",
    "    left_on='constructor_nationality', \n",
    "    right_on='nationality'  \n",
    ")\n",
    "data_with_constructor_nationality=data_with_constructor_nationality.drop(['constructor_nationality', 'num_code', 'alpha_2_code', 'en_short_name', 'nationality'], axis=1)\n",
    "data_with_constructor_nationality.rename(columns={'alpha_3_code':'constructor_nationality'}, inplace=True)\n"
   ],
   "metadata": {
    "collapsed": false,
    "ExecuteTime": {
     "end_time": "2025-06-07T12:31:59.058082Z",
     "start_time": "2025-06-07T12:31:59.043424Z"
    }
   },
   "id": "24c34fbef77c01e5",
   "execution_count": 18
  },
  {
   "cell_type": "code",
   "outputs": [],
   "source": [
    "#data after processing nationalities\n",
    "data = data_with_constructor_nationality;\n",
    "data['driver_home'] = data['driver_nationality'] == data['circuit_nationality']\n",
    "data['constructor_home'] = data['constructor_nationality'] == data['circuit_nationality']\n",
    "data['driver_home'] = data['driver_home'].apply(lambda x: int(x))\n",
    "data['constructor_home'] = data['constructor_home'].apply(lambda x: int(x))\n"
   ],
   "metadata": {
    "collapsed": false,
    "ExecuteTime": {
     "end_time": "2025-06-07T12:32:00.946696Z",
     "start_time": "2025-06-07T12:32:00.927824Z"
    }
   },
   "id": "e855857a3d0922ee",
   "execution_count": 19
  },
  {
   "cell_type": "code",
   "outputs": [
    {
     "data": {
      "text/plain": "       race_year       date  qualification_pos  laps milliseconds  \\\n0           1981 1981-03-15                  2    80      6641330   \n1           1981 1981-03-15                  3    80      6650520   \n2           1981 1981-03-15                  4    80      6676250   \n3           1981 1981-03-15                  6    80      6690640   \n4           1981 1981-03-15                  8    80      6708030   \n...          ...        ...                ...   ...          ...   \n18444       2024 2024-12-08                 14    57           \\N   \n18445       2024 2024-12-08                 12    55           \\N   \n18446       2024 2024-12-08                  9    30           \\N   \n18447       2024 2024-12-08                 20    26           \\N   \n18448       2024 2024-12-08                 10     0           \\N   \n\n      driver_date_of_birth   constructor             circuit    type_circuit  \\\n0               1946-11-02      Williams          Long Beach  Street circuit   \n1               1942-04-12      Williams          Long Beach  Street circuit   \n2               1952-08-17       Brabham          Long Beach  Street circuit   \n3               1940-02-28    Alfa Romeo          Long Beach  Street circuit   \n4               1958-01-10       Tyrrell          Long Beach  Street circuit   \n...                    ...           ...                 ...             ...   \n18444           1992-10-05  Haas F1 Team  Yas Marina Circuit    Race circuit   \n18445           2002-02-11    RB F1 Team  Yas Marina Circuit    Race circuit   \n18446           1989-08-28        Sauber  Yas Marina Circuit    Race circuit   \n18447           2003-05-27      Williams  Yas Marina Circuit    Race circuit   \n18448           1990-01-26      Red Bull  Yas Marina Circuit    Race circuit   \n\n                 driver  ...  age_at_gp_in_days  first_race_date  \\\n0            Alan Jones  ...              12552       1975-04-27   \n1      Carlos Reutemann  ...              14217       1972-01-23   \n2         Nelson Piquet  ...              10437       1978-07-30   \n3        Mario Andretti  ...              14991       1968-10-06   \n4         Eddie Cheever  ...               8465       1978-01-15   \n...                 ...  ...                ...              ...   \n18444   Kevin Magnussen  ...              11752       2014-03-16   \n18445       Liam Lawson  ...               8336       2023-08-27   \n18446   Valtteri Bottas  ...              12886       2013-03-17   \n18447  Franco Colapinto  ...               7866       2024-09-01   \n18448      Sergio Pérez  ...              12735       2011-03-27   \n\n       days_since_first_race rain  circuit_nationality  driver_nationality  \\\n0                       2149    0                  USA                 AUS   \n1                       3339    0                  USA                 ARG   \n2                        959    0                  USA                 BRA   \n3                       4543    0                  USA                 USA   \n4                       1155    0                  USA                 USA   \n...                      ...  ...                  ...                 ...   \n18444                   3920    0                  ARE                 DNK   \n18445                    469    0                  ARE                 NZL   \n18446                   4284    0                  ARE                 FIN   \n18447                     98    0                  ARE                 ARG   \n18448                   5005    0                  ARE                 MEX   \n\n      constructor_nationality driver_home constructor_home  dnf  \n0                         GBR           0                0    0  \n1                         GBR           0                0    0  \n2                         GBR           0                0    0  \n3                         CHE           1                0    0  \n4                         GBR           1                0    0  \n...                       ...         ...              ...  ...  \n18444                     USA           0                0    0  \n18445                     ITA           0                0    1  \n18446                     CHE           0                0    1  \n18447                     GBR           0                0    1  \n18448                     AUT           0                0    1  \n\n[18449 rows x 22 columns]",
      "text/html": "<div>\n<style scoped>\n    .dataframe tbody tr th:only-of-type {\n        vertical-align: middle;\n    }\n\n    .dataframe tbody tr th {\n        vertical-align: top;\n    }\n\n    .dataframe thead th {\n        text-align: right;\n    }\n</style>\n<table border=\"1\" class=\"dataframe\">\n  <thead>\n    <tr style=\"text-align: right;\">\n      <th></th>\n      <th>race_year</th>\n      <th>date</th>\n      <th>qualification_pos</th>\n      <th>laps</th>\n      <th>milliseconds</th>\n      <th>driver_date_of_birth</th>\n      <th>constructor</th>\n      <th>circuit</th>\n      <th>type_circuit</th>\n      <th>driver</th>\n      <th>...</th>\n      <th>age_at_gp_in_days</th>\n      <th>first_race_date</th>\n      <th>days_since_first_race</th>\n      <th>rain</th>\n      <th>circuit_nationality</th>\n      <th>driver_nationality</th>\n      <th>constructor_nationality</th>\n      <th>driver_home</th>\n      <th>constructor_home</th>\n      <th>dnf</th>\n    </tr>\n  </thead>\n  <tbody>\n    <tr>\n      <th>0</th>\n      <td>1981</td>\n      <td>1981-03-15</td>\n      <td>2</td>\n      <td>80</td>\n      <td>6641330</td>\n      <td>1946-11-02</td>\n      <td>Williams</td>\n      <td>Long Beach</td>\n      <td>Street circuit</td>\n      <td>Alan Jones</td>\n      <td>...</td>\n      <td>12552</td>\n      <td>1975-04-27</td>\n      <td>2149</td>\n      <td>0</td>\n      <td>USA</td>\n      <td>AUS</td>\n      <td>GBR</td>\n      <td>0</td>\n      <td>0</td>\n      <td>0</td>\n    </tr>\n    <tr>\n      <th>1</th>\n      <td>1981</td>\n      <td>1981-03-15</td>\n      <td>3</td>\n      <td>80</td>\n      <td>6650520</td>\n      <td>1942-04-12</td>\n      <td>Williams</td>\n      <td>Long Beach</td>\n      <td>Street circuit</td>\n      <td>Carlos Reutemann</td>\n      <td>...</td>\n      <td>14217</td>\n      <td>1972-01-23</td>\n      <td>3339</td>\n      <td>0</td>\n      <td>USA</td>\n      <td>ARG</td>\n      <td>GBR</td>\n      <td>0</td>\n      <td>0</td>\n      <td>0</td>\n    </tr>\n    <tr>\n      <th>2</th>\n      <td>1981</td>\n      <td>1981-03-15</td>\n      <td>4</td>\n      <td>80</td>\n      <td>6676250</td>\n      <td>1952-08-17</td>\n      <td>Brabham</td>\n      <td>Long Beach</td>\n      <td>Street circuit</td>\n      <td>Nelson Piquet</td>\n      <td>...</td>\n      <td>10437</td>\n      <td>1978-07-30</td>\n      <td>959</td>\n      <td>0</td>\n      <td>USA</td>\n      <td>BRA</td>\n      <td>GBR</td>\n      <td>0</td>\n      <td>0</td>\n      <td>0</td>\n    </tr>\n    <tr>\n      <th>3</th>\n      <td>1981</td>\n      <td>1981-03-15</td>\n      <td>6</td>\n      <td>80</td>\n      <td>6690640</td>\n      <td>1940-02-28</td>\n      <td>Alfa Romeo</td>\n      <td>Long Beach</td>\n      <td>Street circuit</td>\n      <td>Mario Andretti</td>\n      <td>...</td>\n      <td>14991</td>\n      <td>1968-10-06</td>\n      <td>4543</td>\n      <td>0</td>\n      <td>USA</td>\n      <td>USA</td>\n      <td>CHE</td>\n      <td>1</td>\n      <td>0</td>\n      <td>0</td>\n    </tr>\n    <tr>\n      <th>4</th>\n      <td>1981</td>\n      <td>1981-03-15</td>\n      <td>8</td>\n      <td>80</td>\n      <td>6708030</td>\n      <td>1958-01-10</td>\n      <td>Tyrrell</td>\n      <td>Long Beach</td>\n      <td>Street circuit</td>\n      <td>Eddie Cheever</td>\n      <td>...</td>\n      <td>8465</td>\n      <td>1978-01-15</td>\n      <td>1155</td>\n      <td>0</td>\n      <td>USA</td>\n      <td>USA</td>\n      <td>GBR</td>\n      <td>1</td>\n      <td>0</td>\n      <td>0</td>\n    </tr>\n    <tr>\n      <th>...</th>\n      <td>...</td>\n      <td>...</td>\n      <td>...</td>\n      <td>...</td>\n      <td>...</td>\n      <td>...</td>\n      <td>...</td>\n      <td>...</td>\n      <td>...</td>\n      <td>...</td>\n      <td>...</td>\n      <td>...</td>\n      <td>...</td>\n      <td>...</td>\n      <td>...</td>\n      <td>...</td>\n      <td>...</td>\n      <td>...</td>\n      <td>...</td>\n      <td>...</td>\n      <td>...</td>\n    </tr>\n    <tr>\n      <th>18444</th>\n      <td>2024</td>\n      <td>2024-12-08</td>\n      <td>14</td>\n      <td>57</td>\n      <td>\\N</td>\n      <td>1992-10-05</td>\n      <td>Haas F1 Team</td>\n      <td>Yas Marina Circuit</td>\n      <td>Race circuit</td>\n      <td>Kevin Magnussen</td>\n      <td>...</td>\n      <td>11752</td>\n      <td>2014-03-16</td>\n      <td>3920</td>\n      <td>0</td>\n      <td>ARE</td>\n      <td>DNK</td>\n      <td>USA</td>\n      <td>0</td>\n      <td>0</td>\n      <td>0</td>\n    </tr>\n    <tr>\n      <th>18445</th>\n      <td>2024</td>\n      <td>2024-12-08</td>\n      <td>12</td>\n      <td>55</td>\n      <td>\\N</td>\n      <td>2002-02-11</td>\n      <td>RB F1 Team</td>\n      <td>Yas Marina Circuit</td>\n      <td>Race circuit</td>\n      <td>Liam Lawson</td>\n      <td>...</td>\n      <td>8336</td>\n      <td>2023-08-27</td>\n      <td>469</td>\n      <td>0</td>\n      <td>ARE</td>\n      <td>NZL</td>\n      <td>ITA</td>\n      <td>0</td>\n      <td>0</td>\n      <td>1</td>\n    </tr>\n    <tr>\n      <th>18446</th>\n      <td>2024</td>\n      <td>2024-12-08</td>\n      <td>9</td>\n      <td>30</td>\n      <td>\\N</td>\n      <td>1989-08-28</td>\n      <td>Sauber</td>\n      <td>Yas Marina Circuit</td>\n      <td>Race circuit</td>\n      <td>Valtteri Bottas</td>\n      <td>...</td>\n      <td>12886</td>\n      <td>2013-03-17</td>\n      <td>4284</td>\n      <td>0</td>\n      <td>ARE</td>\n      <td>FIN</td>\n      <td>CHE</td>\n      <td>0</td>\n      <td>0</td>\n      <td>1</td>\n    </tr>\n    <tr>\n      <th>18447</th>\n      <td>2024</td>\n      <td>2024-12-08</td>\n      <td>20</td>\n      <td>26</td>\n      <td>\\N</td>\n      <td>2003-05-27</td>\n      <td>Williams</td>\n      <td>Yas Marina Circuit</td>\n      <td>Race circuit</td>\n      <td>Franco Colapinto</td>\n      <td>...</td>\n      <td>7866</td>\n      <td>2024-09-01</td>\n      <td>98</td>\n      <td>0</td>\n      <td>ARE</td>\n      <td>ARG</td>\n      <td>GBR</td>\n      <td>0</td>\n      <td>0</td>\n      <td>1</td>\n    </tr>\n    <tr>\n      <th>18448</th>\n      <td>2024</td>\n      <td>2024-12-08</td>\n      <td>10</td>\n      <td>0</td>\n      <td>\\N</td>\n      <td>1990-01-26</td>\n      <td>Red Bull</td>\n      <td>Yas Marina Circuit</td>\n      <td>Race circuit</td>\n      <td>Sergio Pérez</td>\n      <td>...</td>\n      <td>12735</td>\n      <td>2011-03-27</td>\n      <td>5005</td>\n      <td>0</td>\n      <td>ARE</td>\n      <td>MEX</td>\n      <td>AUT</td>\n      <td>0</td>\n      <td>0</td>\n      <td>1</td>\n    </tr>\n  </tbody>\n</table>\n<p>18449 rows × 22 columns</p>\n</div>"
     },
     "execution_count": 21,
     "metadata": {},
     "output_type": "execute_result"
    }
   ],
   "source": [
    "#create a dnf column\n",
    "# pattern = r\"\\+.* Lap.*\"\n",
    "# data_median = data_median[data_median['status'].eq('Finished') | data_median['status'].str.match(pattern)]\n",
    "#dnf = 0 if status = 'Finished' or match regex else 1\n",
    "pattern = r\"\\+.* Lap.*\"\n",
    "data['dnf'] = data['status'].apply(lambda x: 0 if x == 'Finished' or re.match(pattern, x) else 1)\n",
    "data.drop(['status'], axis=1, inplace=True)\n",
    "data.drop_duplicates(inplace=True)\n",
    "data\n"
   ],
   "metadata": {
    "collapsed": false,
    "ExecuteTime": {
     "end_time": "2025-06-07T12:32:30.035668Z",
     "start_time": "2025-06-07T12:32:29.989977Z"
    }
   },
   "id": "415de41bb0ddfda3",
   "execution_count": 21
  },
  {
   "cell_type": "markdown",
   "id": "90d7fedf",
   "metadata": {},
   "source": [
    "<h3>Testing different models on cleaned data (For main race)</h3>"
   ]
  },
  {
   "cell_type": "code",
   "execution_count": 28,
   "id": "e2bc696a",
   "metadata": {
    "ExecuteTime": {
     "end_time": "2025-06-07T12:35:35.464003Z",
     "start_time": "2025-06-07T12:35:35.443698Z"
    }
   },
   "outputs": [
    {
     "data": {
      "text/plain": "race_year                   int64\nqualification_position      int64\nconstructor                object\ncircuit                    object\ntype_circuit               object\ndriver                     object\nrace_month                  int32\nrace_day                    int32\nage_at_gp_in_days           int32\ndays_since_first_race       int32\nrain                        int64\ncircuit_nationality        object\ndriver_nationality         object\nconstructor_nationality    object\ndriver_home                 int64\nconstructor_home            int64\ndnf                         int64\ndtype: object"
     },
     "execution_count": 28,
     "metadata": {},
     "output_type": "execute_result"
    }
   ],
   "source": [
    "# Drop irrelevant columns\n",
    "columns_to_drop = [ 'driver_date_of_birth', 'date', 'first_race_date',\n",
    "                   'milliseconds', 'laps']\n",
    "\n",
    "\n",
    "cleaned_data = data.drop(columns=columns_to_drop)\n",
    "cleaned_data.rename(columns={'qualification_pos':'qualification_position'},inplace=True)\n",
    "cleaned_data.drop_duplicates(inplace=True)\n",
    "cleaned_data.dtypes\n",
    "#export cleaned data to csv\n"
   ]
  },
  {
   "cell_type": "code",
   "outputs": [],
   "source": [
    "cleaned_data.to_csv('cleaned_status_data.csv', index=False)"
   ],
   "metadata": {
    "collapsed": false,
    "ExecuteTime": {
     "end_time": "2025-06-07T12:35:37.208610Z",
     "start_time": "2025-06-07T12:35:37.143757Z"
    }
   },
   "id": "b7b5f79c273ea3e0",
   "execution_count": 29
  },
  {
   "cell_type": "code",
   "outputs": [],
   "source": [
    "# Split features and target\n",
    "y = cleaned_data['dnf']\n",
    "X = cleaned_data.drop(columns=['dnf'])\n",
    "X_train, X_test, y_train, y_test = train_test_split(\n",
    "    X, y, test_size=0.2, random_state=42)"
   ],
   "metadata": {
    "collapsed": false,
    "ExecuteTime": {
     "end_time": "2025-06-07T12:35:38.180900Z",
     "start_time": "2025-06-07T12:35:38.168196Z"
    }
   },
   "id": "adbf4c9ed3cddc58",
   "execution_count": 30
  },
  {
   "cell_type": "code",
   "outputs": [],
   "source": [
    "#evalation functions\n",
    "\n",
    "def evaluate_model(model, X_test, y_test):\n",
    "    y_pred = model.predict(X_test)\n",
    "    y_proba = model.predict_proba(X_test)[:, 1]\n",
    "    \n",
    "    print(\"\\nClassification Report:\")\n",
    "    print(classification_report(y_test, y_pred))\n",
    "    \n",
    "    print(\"Confusion Matrix:\")\n",
    "    print(confusion_matrix(y_test, y_pred))\n",
    "    \n",
    "    print(f\"ROC AUC Score: {roc_auc_score(y_test, y_proba):.4f}\")\n",
    "    return y_pred, y_proba\n",
    "\n"
   ],
   "metadata": {
    "collapsed": false,
    "ExecuteTime": {
     "end_time": "2025-06-07T12:35:39.892200Z",
     "start_time": "2025-06-07T12:35:39.887800Z"
    }
   },
   "id": "aa4136b5d6f3c417",
   "execution_count": 31
  },
  {
   "cell_type": "code",
   "outputs": [],
   "source": [
    "\n",
    "robust_cols = ['qualification_position', 'age_at_gp_in_days', 'days_since_first_race']\n",
    "cat_cols = ['constructor','circuit','type_circuit','driver','circuit_nationality','driver_nationality','constructor_nationality']\n",
    "other_cols = ['race_year','race_month','race_day','rain', 'driver_home', 'constructor_home']\n"
   ],
   "metadata": {
    "collapsed": false,
    "ExecuteTime": {
     "end_time": "2025-06-07T12:35:40.818213Z",
     "start_time": "2025-06-07T12:35:40.814182Z"
    }
   },
   "id": "e4a6d06074ae21ec",
   "execution_count": 32
  },
  {
   "cell_type": "markdown",
   "id": "e0f4546b",
   "metadata": {},
   "source": [
    "<h3> Random forest classifier</h3>"
   ]
  },
  {
   "cell_type": "code",
   "execution_count": 34,
   "id": "d2765981",
   "metadata": {
    "ExecuteTime": {
     "end_time": "2025-06-07T12:36:54.608321Z",
     "start_time": "2025-06-07T12:36:05.604290Z"
    }
   },
   "outputs": [
    {
     "name": "stdout",
     "output_type": "stream",
     "text": [
      "Fitting 5 folds for each of 1 candidates, totalling 5 fits\n",
      "Best Parameters: {'model__max_depth': 30, 'model__min_samples_leaf': 4, 'model__min_samples_split': 10, 'model__n_estimators': 800}\n",
      "Best ROC AUC Score (CV): 0.7668\n",
      "\n",
      "Classification Report:\n",
      "              precision    recall  f1-score   support\n",
      "\n",
      "           0       0.73      0.81      0.77      2295\n",
      "           1       0.62      0.52      0.56      1395\n",
      "\n",
      "    accuracy                           0.70      3690\n",
      "   macro avg       0.68      0.66      0.67      3690\n",
      "weighted avg       0.69      0.70      0.69      3690\n",
      "\n",
      "Confusion Matrix:\n",
      "[[1852  443]\n",
      " [ 676  719]]\n",
      "ROC AUC Score: 0.7469\n"
     ]
    },
    {
     "data": {
      "text/plain": "(array([1, 0, 1, ..., 0, 1, 0], dtype=int64),\n array([0.89051257, 0.47122847, 0.59841994, ..., 0.17121957, 0.5754533 ,\n        0.22289052]))"
     },
     "execution_count": 34,
     "metadata": {},
     "output_type": "execute_result"
    }
   ],
   "source": [
    "preprocessor = ColumnTransformer([\n",
    "        ('num', RobustScaler(), robust_cols),\n",
    "        ('cat', OneHotEncoder(handle_unknown='ignore', sparse_output=False), cat_cols)\n",
    "    ], remainder='passthrough')\n",
    "\n",
    "# Full pipeline\n",
    "pipeline = Pipeline([\n",
    "    ('preprocessing', preprocessor),\n",
    "    ('models', RandomForestClassifier(random_state=42))\n",
    "])\n",
    "\n",
    "# Hyperparameter grid\n",
    "\n",
    "param_grid = {\n",
    "    'model__max_depth': [30],\n",
    "    'model__min_samples_leaf': [ 4],\n",
    "    'model__min_samples_split': [10],\n",
    "    'model__n_estimators': [ 800]\n",
    "}\n",
    "# param_grid = {\n",
    "#     'model__max_depth': [30],\n",
    "#     'model__min_samples_leaf': [2, 3, 4],\n",
    "#     'model__min_samples_split': [10, 15],\n",
    "#     'model__n_estimators': [600, 800]\n",
    "# }\n",
    "# \n",
    "# Best Parameters: {'model__max_depth': 30, 'model__min_samples_leaf': 4, 'model__min_samples_split': 10, 'model__n_estimators': 800}\n",
    "\n",
    "# Cross-validation strategy\n",
    "k = 5\n",
    "cv = KFold(n_splits=k, shuffle=True, random_state=42)\n",
    "\n",
    "# Grid search with classification scoring\n",
    "grid_search = GridSearchCV(\n",
    "    estimator=pipeline,\n",
    "    param_grid=param_grid,\n",
    "    cv=cv,\n",
    "    scoring='roc_auc', \n",
    "    verbose=1,\n",
    "    n_jobs=-1\n",
    ")\n",
    "\n",
    "# Train models\n",
    "grid_search.fit(X_train, y_train)\n",
    "\n",
    "# Best parameters and performance\n",
    "print(\"Best Parameters:\", grid_search.best_params_)\n",
    "print(f\"Best ROC AUC Score (CV): {grid_search.best_score_:.4f}\")\n",
    "\n",
    "# Final models\n",
    "best_model_rf = grid_search.best_estimator_\n",
    "\n",
    "# Predict on test set\n",
    "evaluate_model(best_model_rf, X_test, y_test)\n",
    "\n",
    "\n"
   ]
  },
  {
   "cell_type": "code",
   "execution_count": 36,
   "id": "4baa0b33",
   "metadata": {
    "ExecuteTime": {
     "end_time": "2025-06-07T12:46:27.948609Z",
     "start_time": "2025-06-07T12:46:27.654755Z"
    }
   },
   "outputs": [
    {
     "name": "stderr",
     "output_type": "stream",
     "text": [
      "C:\\Users\\Admin\\AppData\\Local\\Temp\\ipykernel_29804\\1648476756.py:51: FutureWarning: \n",
      "\n",
      "Passing `palette` without assigning `hue` is deprecated and will be removed in v0.14.0. Assign the `y` variable to `hue` and set `legend=False` for the same effect.\n",
      "\n",
      "  sns.barplot(data=grouped_importance, x='Importance', y='Group', palette='viridis')\n"
     ]
    },
    {
     "data": {
      "text/plain": "<Figure size 1200x600 with 1 Axes>",
      "image/png": "[encoded data removed]"
     },
     "metadata": {},
     "output_type": "display_data"
    }
   ],
   "source": [
    "# Get best pipeline from grid search\n",
    "best_pipeline = best_model_rf\n",
    "\n",
    "model = best_pipeline.named_steps['model']\n",
    "\n",
    "num_features = robust_cols\n",
    "\n",
    "ohe = best_pipeline.named_steps['preprocessing'].named_transformers_['cat']\n",
    "\n",
    "# Get the feature names for categorical columns\n",
    "cat_features = ohe.get_feature_names_out(cat_cols)\n",
    "\n",
    "\n",
    "other_features = other_cols\n",
    "\n",
    "feature_names = np.concatenate([num_features, cat_features, other_features])\n",
    "\n",
    "\n",
    "importances = model.feature_importances_\n",
    "\n",
    "# 5. Create DataFrame for display\n",
    "importances_df = pd.DataFrame({\n",
    "    'Feature': feature_names,\n",
    "    'Importance': importances\n",
    "}).sort_values(by='Importance', ascending=False)\n",
    "\n",
    "# import seaborn as sns\n",
    "# import matplotlib.pyplot as plt\n",
    "\n",
    "\n",
    "# Step 2: Create DataFrame\n",
    "feat_df = pd.DataFrame({\n",
    "    'Feature': feature_names,\n",
    "    'Importance': importances\n",
    "})\n",
    "\n",
    "# Step 3: Extract base feature name for grouping\n",
    "def extract_base_feature(name):\n",
    "    if name in num_features or name in other_features:\n",
    "        return name\n",
    "    else:\n",
    "        return name.split('_')[0]  # e.g., \"circuit_Monaco\" -> \"circuit\"\n",
    "\n",
    "feat_df['Group'] = feat_df['Feature'].apply(extract_base_feature)\n",
    "\n",
    "# Step 4: Aggregate importance by group\n",
    "grouped_importance = feat_df.groupby('Group')['Importance'].sum().sort_values(ascending=False).reset_index()\n",
    "\n",
    "# Step 5: Plot with Seaborn\n",
    "plt.figure(figsize=(12, 6))\n",
    "sns.barplot(data=grouped_importance, x='Importance', y='Group', palette='viridis')\n",
    "\n",
    "plt.title('Grouped Feature Importances')\n",
    "plt.xlabel('Total Importance')\n",
    "plt.ylabel('Feature Group')\n",
    "plt.tight_layout()\n",
    "plt.show()"
   ]
  },
  {
   "cell_type": "code",
   "execution_count": 37,
   "id": "34571d3e",
   "metadata": {
    "ExecuteTime": {
     "end_time": "2025-06-07T12:46:40.009821Z",
     "start_time": "2025-06-07T12:46:39.789696Z"
    }
   },
   "outputs": [],
   "source": [
    "# save\n",
    "with open('rf_status.pkl','wb') as f:\n",
    "    pickle.dump(best_model_rf,f)\n",
    "\n",
    "# load\n",
    "# with open('models.pkl', 'rb') as f:\n",
    "#     clf2 = pickle.load(f)\n"
   ]
  },
  {
   "cell_type": "code",
   "outputs": [
    {
     "data": {
      "text/plain": "array([0.89051257, 0.47122847, 0.59841994, ..., 0.17121957, 0.5754533 ,\n       0.22289052])"
     },
     "execution_count": 38,
     "metadata": {},
     "output_type": "execute_result"
    }
   ],
   "source": [
    "\n",
    "failure_probs = best_model_rf.predict_proba(X_test)[:, 1]\n",
    "failure_probs"
   ],
   "metadata": {
    "collapsed": false,
    "ExecuteTime": {
     "end_time": "2025-06-07T12:46:41.729352Z",
     "start_time": "2025-06-07T12:46:41.139618Z"
    }
   },
   "id": "c8f62ea01ea5ef6a",
   "execution_count": 38
  },
  {
   "cell_type": "markdown",
   "id": "d19735ab",
   "metadata": {},
   "source": [
    "<h5>Gradient boost Classifier</h5>"
   ]
  },
  {
   "cell_type": "code",
   "execution_count": 39,
   "id": "f13341a7",
   "metadata": {
    "ExecuteTime": {
     "end_time": "2025-06-07T12:50:11.999191Z",
     "start_time": "2025-06-07T12:47:08.125712Z"
    }
   },
   "outputs": [
    {
     "name": "stdout",
     "output_type": "stream",
     "text": [
      "Fitting 5 folds for each of 1 candidates, totalling 5 fits\n",
      "      Iter       Train Loss   Remaining Time \n",
      "         1           1.3345            1.02m\n",
      "         2           1.3302            1.02m\n",
      "         3           1.3261            1.01m\n",
      "         4           1.3220            1.00m\n",
      "         5           1.3180            1.02m\n",
      "         6           1.3140            1.04m\n",
      "         7           1.3102            1.06m\n",
      "         8           1.3064            1.07m\n",
      "         9           1.3027            1.08m\n",
      "        10           1.2991            1.09m\n",
      "        20           1.2663            1.02m\n",
      "        30           1.2391           58.40s\n",
      "        40           1.2161           56.97s\n",
      "        50           1.1966           55.34s\n",
      "        60           1.1799           53.29s\n",
      "        70           1.1654           51.80s\n",
      "        80           1.1530           50.55s\n",
      "        90           1.1422           49.03s\n",
      "       100           1.1327           47.27s\n",
      "       200           1.0787           31.75s\n",
      "       300           1.0555           16.10s\n",
      "       400           1.0412            0.00s\n",
      "Best Parameters: {'model__learning_rate': 0.01, 'model__loss': 'log_loss', 'model__max_depth': 5, 'model__min_samples_leaf': 5, 'model__min_samples_split': 15, 'model__n_estimators': 400}\n",
      "Best ROC AUC Score (CV): 0.7673\n",
      "\n",
      "Classification Report:\n",
      "              precision    recall  f1-score   support\n",
      "\n",
      "           0       0.74      0.80      0.77      2295\n",
      "           1       0.62      0.54      0.58      1395\n",
      "\n",
      "    accuracy                           0.70      3690\n",
      "   macro avg       0.68      0.67      0.67      3690\n",
      "weighted avg       0.69      0.70      0.70      3690\n",
      "\n",
      "Confusion Matrix:\n",
      "[[1838  457]\n",
      " [ 647  748]]\n",
      "ROC AUC Score: 0.7475\n"
     ]
    },
    {
     "data": {
      "text/plain": "(array([1, 0, 1, ..., 0, 1, 0], dtype=int64),\n array([0.96690288, 0.47462924, 0.59608526, ..., 0.20426756, 0.60018851,\n        0.27360268]))"
     },
     "execution_count": 39,
     "metadata": {},
     "output_type": "execute_result"
    }
   ],
   "source": [
    "# Split features and target\n",
    "preprocessor = ColumnTransformer([\n",
    "        ('num', RobustScaler(), robust_cols),\n",
    "        ('cat', OneHotEncoder(handle_unknown='ignore', sparse_output=False), cat_cols)\n",
    "    ], remainder='passthrough')\n",
    "\n",
    "# Full pipeline\n",
    "pipeline = Pipeline([\n",
    "    ('preprocessing', preprocessor),\n",
    "    ('models', GradientBoostingClassifier(verbose=1))\n",
    "])\n",
    "\n",
    "# GridSearchCV parameters (nested under \"model__\")\n",
    "param_grid = {\n",
    "    'model__loss': [ 'log_loss'],\n",
    "    'model__learning_rate': [0.01],\n",
    "    'model__n_estimators': [ 400],\n",
    "    'model__min_samples_split': [  15],\n",
    "    'model__min_samples_leaf': [ 5],\n",
    "    'model__max_depth': [ 5],\n",
    "}\n",
    "# param_grid = {\n",
    "#     'model__loss': [ 'log_loss', 'exponential'],\n",
    "#     'model__learning_rate': [0.01, 0.1],\n",
    "#     'model__n_estimators': [ 300, 400],\n",
    "#     'model__min_samples_split': [ 10, 15],\n",
    "#     'model__min_samples_leaf': [ 4, 5],\n",
    "#     'model__max_depth': [ 4, 5],\n",
    "# }\n",
    "\n",
    "# Cross-validation strategy\n",
    "k = 5\n",
    "cv = KFold(n_splits=k, shuffle=True, random_state=42)\n",
    "\n",
    "# Grid search with classification scoring\n",
    "grid_search = GridSearchCV(\n",
    "    estimator=pipeline,\n",
    "    param_grid=param_grid,\n",
    "    cv=cv,\n",
    "    scoring='roc_auc', \n",
    "    verbose=1,\n",
    "    n_jobs=-1\n",
    ")\n",
    "\n",
    "# Train models\n",
    "grid_search.fit(X_train, y_train)\n",
    "\n",
    "# Best parameters and performance\n",
    "print(\"Best Parameters:\", grid_search.best_params_)\n",
    "print(f\"Best ROC AUC Score (CV): {grid_search.best_score_:.4f}\")\n",
    "\n",
    "# Final models\n",
    "best_model_gb = grid_search.best_estimator_\n",
    "\n",
    "# Predict on test set\n",
    "evaluate_model(best_model_gb, X_test, y_test)"
   ]
  },
  {
   "cell_type": "code",
   "execution_count": 40,
   "id": "0fa47c0a",
   "metadata": {
    "ExecuteTime": {
     "end_time": "2025-06-07T12:50:18.004314Z",
     "start_time": "2025-06-07T12:50:17.790643Z"
    }
   },
   "outputs": [
    {
     "name": "stderr",
     "output_type": "stream",
     "text": [
      "C:\\Users\\Admin\\AppData\\Local\\Temp\\ipykernel_29804\\285344360.py:51: FutureWarning: \n",
      "\n",
      "Passing `palette` without assigning `hue` is deprecated and will be removed in v0.14.0. Assign the `y` variable to `hue` and set `legend=False` for the same effect.\n",
      "\n",
      "  sns.barplot(data=grouped_importance, x='Importance', y='Group', palette='viridis')\n"
     ]
    },
    {
     "data": {
      "text/plain": "<Figure size 1200x600 with 1 Axes>",
      "image/png": "[encoded data removed]"
     },
     "metadata": {},
     "output_type": "display_data"
    }
   ],
   "source": [
    "# Get best pipeline from grid search\n",
    "best_pipeline = best_model_gb\n",
    "\n",
    "model = best_pipeline.named_steps['model']\n",
    "\n",
    "num_features = robust_cols\n",
    "\n",
    "ohe = best_pipeline.named_steps['preprocessing'].named_transformers_['cat']\n",
    "\n",
    "# Get the feature names for categorical columns\n",
    "cat_features = ohe.get_feature_names_out(cat_cols)\n",
    "\n",
    "\n",
    "other_features = other_cols\n",
    "\n",
    "feature_names = np.concatenate([num_features, cat_features, other_features])\n",
    "\n",
    "\n",
    "importances = model.feature_importances_\n",
    "\n",
    "# 5. Create DataFrame for display\n",
    "importances_df = pd.DataFrame({\n",
    "    'Feature': feature_names,\n",
    "    'Importance': importances\n",
    "}).sort_values(by='Importance', ascending=False)\n",
    "\n",
    "# import seaborn as sns\n",
    "# import matplotlib.pyplot as plt\n",
    "\n",
    "\n",
    "# Step 2: Create DataFrame\n",
    "feat_df = pd.DataFrame({\n",
    "    'Feature': feature_names,\n",
    "    'Importance': importances\n",
    "})\n",
    "\n",
    "# Step 3: Extract base feature name for grouping\n",
    "def extract_base_feature(name):\n",
    "    if name in num_features or name in other_features:\n",
    "        return name\n",
    "    else:\n",
    "        return name.split('_')[0]  # e.g., \"circuit_Monaco\" -> \"circuit\"\n",
    "\n",
    "feat_df['Group'] = feat_df['Feature'].apply(extract_base_feature)\n",
    "\n",
    "# Step 4: Aggregate importance by group\n",
    "grouped_importance = feat_df.groupby('Group')['Importance'].sum().sort_values(ascending=False).reset_index()\n",
    "\n",
    "# Step 5: Plot with Seaborn\n",
    "plt.figure(figsize=(12, 6))\n",
    "sns.barplot(data=grouped_importance, x='Importance', y='Group', palette='viridis')\n",
    "\n",
    "plt.title('Grouped Feature Importances')\n",
    "plt.xlabel('Total Importance')\n",
    "plt.ylabel('Feature Group')\n",
    "plt.tight_layout()\n",
    "plt.show()"
   ]
  },
  {
   "cell_type": "code",
   "execution_count": 42,
   "id": "898b03b4",
   "metadata": {
    "ExecuteTime": {
     "end_time": "2025-06-07T12:50:49.976024Z",
     "start_time": "2025-06-07T12:50:49.963492Z"
    }
   },
   "outputs": [],
   "source": [
    "# save\n",
    "with open('gb_status.pkl','wb') as f:\n",
    "    pickle.dump(best_model_gb,f)\n",
    "\n",
    "# load\n",
    "# with open('models.pkl', 'rb') as f:\n",
    "#     clf2 = pickle.load(f)"
   ]
  },
  {
   "cell_type": "markdown",
   "source": [
    "<h3>Logistic Regression</h3>"
   ],
   "metadata": {
    "collapsed": false
   },
   "id": "b2344a855f7081ad"
  },
  {
   "cell_type": "code",
   "outputs": [
    {
     "name": "stdout",
     "output_type": "stream",
     "text": [
      "Fitting 5 folds for each of 1 candidates, totalling 5 fits\n",
      "[LibLinear]Best Parameters: {'model__C': 0.1, 'model__max_iter': 100, 'model__penalty': 'l2', 'model__solver': 'liblinear'}\n",
      "Best ROC AUC Score (CV): 0.7484\n",
      "\n",
      "Classification Report:\n",
      "              precision    recall  f1-score   support\n",
      "\n",
      "           0       0.73      0.80      0.76      2295\n",
      "           1       0.61      0.51      0.55      1395\n",
      "\n",
      "    accuracy                           0.69      3690\n",
      "   macro avg       0.67      0.66      0.66      3690\n",
      "weighted avg       0.68      0.69      0.68      3690\n",
      "\n",
      "Confusion Matrix:\n",
      "[[1841  454]\n",
      " [ 686  709]]\n",
      "ROC AUC Score: 0.7279\n"
     ]
    },
    {
     "data": {
      "text/plain": "(array([1, 1, 1, ..., 0, 1, 0], dtype=int64),\n array([0.78877156, 0.539184  , 0.67186206, ..., 0.20937372, 0.54421134,\n        0.20498674]))"
     },
     "execution_count": 43,
     "metadata": {},
     "output_type": "execute_result"
    }
   ],
   "source": [
    "preprocessor = ColumnTransformer([\n",
    "        ('num', RobustScaler(), robust_cols),\n",
    "        ('cat', OneHotEncoder(handle_unknown='ignore', sparse_output=False), cat_cols)\n",
    "    ], remainder='passthrough')\n",
    "\n",
    "\n",
    "# Full pipeline\n",
    "pipeline = Pipeline([\n",
    "    ('preprocessing', preprocessor),\n",
    "    ('models', LogisticRegression(verbose=1))\n",
    "])\n",
    "\n",
    "# GridSearchCV parameters (nested under \"model__\")\n",
    "param_grid = {\n",
    "    'model__C': [0.1,],\n",
    "    'model__penalty': ['l2'],\n",
    "    'model__solver': ['liblinear'],\n",
    "    'model__max_iter': [100]\n",
    "}\n",
    "# param_grid = {\n",
    "#     'model__C': [0.1, 1.0, 10.0],\n",
    "#     'model__penalty': ['l2','l1'],\n",
    "#     'model__solver': ['lbfgs','liblinear'],\n",
    "#     'model__max_iter': [100,200,300]\n",
    "# }\n",
    "\n",
    "#[LibLinear]Best Parameters: {'model__C': 0.1, 'model__max_iter': 100, 'model__penalty': 'l2', 'model__solver': 'liblinear'}\n",
    "# Cross-validation strategy\n",
    "k = 5\n",
    "cv = KFold(n_splits=k, shuffle=True, random_state=42)\n",
    "\n",
    "# Grid search with classification scoring\n",
    "grid_search = GridSearchCV(\n",
    "    estimator=pipeline,\n",
    "    param_grid=param_grid,\n",
    "    cv=cv,\n",
    "    scoring='roc_auc',\n",
    "    verbose=1,\n",
    "    n_jobs=-1\n",
    ")\n",
    "\n",
    "# Train models\n",
    "grid_search.fit(X_train, y_train)\n",
    "\n",
    "# Best parameters and performance\n",
    "print(\"Best Parameters:\", grid_search.best_params_)\n",
    "print(f\"Best ROC AUC Score (CV): {grid_search.best_score_:.4f}\")\n",
    "\n",
    "# Final models\n",
    "best_model_lg = grid_search.best_estimator_\n",
    "\n",
    "# Predict on test set\n",
    "evaluate_model(best_model_lg, X_test, y_test)"
   ],
   "metadata": {
    "collapsed": false,
    "ExecuteTime": {
     "end_time": "2025-06-07T12:59:57.239884Z",
     "start_time": "2025-06-07T12:59:54.299517Z"
    }
   },
   "id": "5bb46f6eae651b18",
   "execution_count": 43
  },
  {
   "cell_type": "code",
   "outputs": [],
   "source": [
    "# save\n",
    "with open('lg_status.pkl','wb') as f:\n",
    "    pickle.dump(best_model_lg,f)\n",
    "\n",
    "# load\n",
    "# with open('models.pkl', 'rb') as f:\n",
    "#     clf2 = pickle.load(f)"
   ],
   "metadata": {
    "collapsed": false,
    "ExecuteTime": {
     "end_time": "2025-06-07T13:08:21.350402Z",
     "start_time": "2025-06-07T13:08:21.346203Z"
    }
   },
   "id": "b31e49e79149ae9f",
   "execution_count": 44
  },
  {
   "cell_type": "code",
   "outputs": [
    {
     "name": "stdout",
     "output_type": "stream",
     "text": [
      "Original DataFrame:\n",
      "  driver\n",
      "0  Lewis\n",
      "1    Max\n",
      "2  Oscar\n",
      "\n",
      "One-Hot Encoded DataFrame:\n",
      "   driver_Lewis  driver_Max  driver_Oscar\n",
      "0          1.00        0.00          0.00\n",
      "1          0.00        1.00          0.00\n",
      "2          0.00        0.00          1.00\n"
     ]
    }
   ],
   "source": [
    "#one hot encoding example for a single column of driver with 3 values\n",
    "df = pd.DataFrame({'driver': ['Lewis', 'Max', 'Oscar']})\n",
    "ohe = OneHotEncoder(sparse_output=False)\n",
    "ohe.fit(df[['driver']])\n",
    "encoded = ohe.transform(df[['driver']])\n",
    "encoded_df = pd.DataFrame(encoded, columns=ohe.get_feature_names_out(['driver']))\n",
    "#print 2 dataframes to visual graph\n",
    "print(\"Original DataFrame:\")\n",
    "print(df)\n",
    "print(\"\\nOne-Hot Encoded DataFrame:\")"
   ],
   "metadata": {
    "collapsed": false,
    "ExecuteTime": {
     "end_time": "2025-06-07T15:44:26.173145Z",
     "start_time": "2025-06-07T15:44:26.156322Z"
    }
   },
   "id": "d3c3cc1807feec5c",
   "execution_count": 3
  },
  {
   "cell_type": "code",
   "outputs": [],
   "source": [],
   "metadata": {
    "collapsed": false
   },
   "id": "d0e8dd22fa34237a",
   "execution_count": null
  }
 ],
 "metadata": {
  "kernelspec": {
   "display_name": "base",
   "language": "python",
   "name": "python3"
  },
  "language_info": {
   "codemirror_mode": {
    "name": "ipython",
    "version": 3
   },
   "file_extension": ".py",
   "mimetype": "text/x-python",
   "name": "python",
   "nbconvert_exporter": "python",
   "pygments_lexer": "ipython3",
   "version": "3.12.7"
  }
 },
 "nbformat": 4,
 "nbformat_minor": 5
}
