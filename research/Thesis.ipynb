{
 "cells": [
  {
   "cell_type": "markdown",
   "id": "18b0a525-6f52-4567-9c79-c733ab7d5901",
   "metadata": {},
   "source": [
    "<h2>Formula 1 Grand Prix result prediction</h2>"
   ]
  },
  {
   "cell_type": "code",
   "id": "48e1dea0-9ff1-4422-8034-9f7e4c08c1ec",
   "metadata": {
    "ExecuteTime": {
     "end_time": "2025-09-27T10:54:17.270593Z",
     "start_time": "2025-09-27T10:54:17.267525Z"
    }
   },
   "source": [
    "import pandas as pd\n",
    "import numpy as np\n",
    "import matplotlib.pyplot as plt\n",
    "import seaborn as sns\n",
    "from sklearn.compose import ColumnTransformer\n",
    "from sklearn.pipeline import Pipeline\n",
    "from sklearn.preprocessing import OneHotEncoder, RobustScaler\n",
    "from sklearn.model_selection import train_test_split,KFold,GridSearchCV\n",
    "from sklearn.ensemble import RandomForestRegressor,  GradientBoostingRegressor\n",
    "from sklearn.neural_network import MLPRegressor\n",
    "from sklearn.metrics import mean_squared_error,r2_score,mean_absolute_error\n",
    "import pickle\n",
    "from lightgbm import LGBMRegressor, plot_importance\n",
    "\n",
    "plt.style.use('bmh')\n",
    "pd.set_option('display.float_format', '{:.2f}'.format)"
   ],
   "outputs": [],
   "execution_count": 11
  },
  {
   "cell_type": "markdown",
   "id": "08e4e060",
   "metadata": {},
   "source": [
    "<h3>Data cleaning</h3>"
   ]
  },
  {
   "cell_type": "code",
   "id": "6ed71c87-3a20-4aab-b31a-fd226203245e",
   "metadata": {
    "ExecuteTime": {
     "end_time": "2025-09-27T10:54:19.271657Z",
     "start_time": "2025-09-27T10:54:19.074001Z"
    }
   },
   "source": [
    "results = pd.read_csv(r'testdata/results.csv')\n",
    "races = pd.read_csv(r'testdata/races.csv')\n",
    "qualifyings = pd.read_csv(r'testdata/qualifying.csv')\n",
    "drivers = pd.read_csv(r'testdata/drivers.csv')\n",
    "constructors = pd.read_csv(r'testdata/constructors.csv')\n",
    "circuits = pd.read_csv(r'testdata/circuits.csv')\n",
    "status = pd.read_csv(r'testdata/status.csv')\n",
    "laptimes = pd.read_csv(r'testdata/lap_times.csv')\n",
    "\n",
    "\n",
    "countries = pd.read_csv(r'data/countries/countries.csv')"
   ],
   "outputs": [],
   "execution_count": 12
  },
  {
   "cell_type": "code",
   "id": "c9b2a28b",
   "metadata": {
    "ExecuteTime": {
     "end_time": "2025-09-27T10:54:23.115975Z",
     "start_time": "2025-09-27T10:54:22.539851Z"
    }
   },
   "source": [
    "df1 = pd.merge(races,results,how='left',on=['raceId'], suffixes=('_race', '_result'))\n",
    "df2 = pd.merge(df1,qualifyings,how='left',on=['raceId','driverId','constructorId'], suffixes=('', '_qualifying'))\n",
    "df3 = pd.merge(df2,drivers,how='left',on=['driverId'], suffixes=('', '_driver'))\n",
    "df4 = pd.merge(df3,constructors,how='left',on=['constructorId'], suffixes=('', '_constructor'))\n",
    "df5 = pd.merge(df4,circuits,how='left',on=['circuitId'], suffixes=('', '_circuit'))\n",
    "df6 = pd.merge(df5,status,how='left',on=['statusId'], suffixes=('', '_status'))\n",
    "df7 = pd.merge(df6,laptimes,how='left',on=['raceId','driverId'], suffixes=('', '_laptime'))"
   ],
   "outputs": [],
   "execution_count": 13
  },
  {
   "cell_type": "code",
   "id": "eb7a858b",
   "metadata": {
    "ExecuteTime": {
     "end_time": "2025-09-27T10:54:26.988835Z",
     "start_time": "2025-09-27T10:54:26.927295Z"
    }
   },
   "source": [
    "\n",
    "data = df7;\n",
    "#drop the columns which are not important\n",
    "\n",
    "\n",
    "data = data.drop(['raceId',  'round', 'circuitId', 'name', 'time_race',\n",
    "       'url', 'fp1_date', 'fp1_time', 'fp2_date', 'fp2_time', 'fp3_date',\n",
    "       'fp3_time', 'quali_date', 'quali_time', 'sprint_date', 'sprint_time',\n",
    "       'resultId', 'constructorId', 'number',  'position',\n",
    "       'positionText','positionOrder', 'points', 'time_result',\n",
    "        'fastestLap', 'rank', 'fastestLapTime',\n",
    "       'fastestLapSpeed', 'statusId', 'qualifyId', 'number_qualifying',\n",
    "       'position_qualifying', 'q1', 'q2', 'q3', 'number_driver',\n",
    "       'code',   'url_driver',\n",
    "       'constructorRef', \n",
    "       'url_constructor', 'circuitRef',  'location',\n",
    "       'lat', 'lng', 'alt', 'url_circuit', 'lap', 'position_laptime','time'\n",
    "      ],axis=1)"
   ],
   "outputs": [],
   "execution_count": 14
  },
  {
   "cell_type": "code",
   "id": "11268b05",
   "metadata": {
    "ExecuteTime": {
     "end_time": "2025-09-27T10:54:28.577844Z",
     "start_time": "2025-09-27T10:54:28.542384Z"
    }
   },
   "source": [
    "testData = data.copy()\n",
    "#print test data where year = 2020 and name_circuit = 'Bahrain International Circuit'\n",
    "testData.columns\n",
    "#export test data to csv\n",
    "#testData.to_csv('testData.csv', index=False)\n"
   ],
   "outputs": [
    {
     "data": {
      "text/plain": [
       "Index(['year', 'date', 'driverId', 'grid', 'laps', 'milliseconds', 'driverRef',\n",
       "       'forename', 'surname', 'dob', 'nationality', 'name_constructor',\n",
       "       'nationality_constructor', 'name_circuit', 'country', 'status',\n",
       "       'milliseconds_laptime'],\n",
       "      dtype='object')"
      ]
     },
     "execution_count": 15,
     "metadata": {},
     "output_type": "execute_result"
    }
   ],
   "execution_count": 15
  },
  {
   "cell_type": "code",
   "id": "4f655bf3",
   "metadata": {
    "ExecuteTime": {
     "end_time": "2025-09-27T10:54:36.710210Z",
     "start_time": "2025-09-27T10:54:36.341090Z"
    }
   },
   "source": [
    "#rename the columns\n",
    "data.rename(columns={'name':'race_name','grid':'qualification_pos','name_constructor':'constructor',\n",
    "                     'nationality':'driver_nationality','nationality_constructor':'constructor_nationality', 'name_circuit' :'circuit', 'country': 'country_circuit', 'type': 'type_circuit', 'dob':'driver_date_of_birth'},inplace=True)\n",
    "data['driver'] = data['driverRef']\n",
    "#drop forename columns and surname columns\n",
    "data = data.drop(['forename','surname', 'driverRef'],axis=1)\n",
    "def convert_to_full_date(date_str):\n",
    "    day, month, year = date_str.split('-')\n",
    "    year = int(year)\n",
    "    # Assume years < 50 are in 2000s, otherwise in 1900s\n",
    "    full_year = 2000 + year if year < 50 else 1900 + year\n",
    "    return f\"{day}-{month}-{full_year}\"\n",
    "# Specify the date format explicitly\n",
    "data['full_date'] = data['date'].apply(convert_to_full_date)\n",
    "data['driver_date_of_birth'] = pd.to_datetime(data['driver_date_of_birth'])\n",
    "data['date'] = pd.to_datetime(data['full_date'], format='%d-%m-%Y')\n",
    "data = data.drop(['full_date'],axis=1)\n",
    "\n",
    "#get month and day from date into new columns\n",
    "data['race_month'] = data['date'].dt.month\n",
    "data['race_day'] = data['date'].dt.day\n",
    "data.rename(columns={'year':'race_year'},inplace=True)\n"
   ],
   "outputs": [
    {
     "ename": "ValueError",
     "evalue": "time data \"2009-03-2029\" doesn't match format \"%d-%m-%Y\", at position 0. You might want to try:\n    - passing `format` if your strings have a consistent format;\n    - passing `format='ISO8601'` if your strings are all ISO8601 but not necessarily in exactly the same format;\n    - passing `format='mixed'`, and the format will be inferred for each element individually. You might want to use `dayfirst` alongside this.",
     "output_type": "error",
     "traceback": [
      "\u001B[31m---------------------------------------------------------------------------\u001B[39m",
      "\u001B[31mValueError\u001B[39m                                Traceback (most recent call last)",
      "\u001B[36mCell\u001B[39m\u001B[36m \u001B[39m\u001B[32mIn[16]\u001B[39m\u001B[32m, line 16\u001B[39m\n\u001B[32m     14\u001B[39m data[\u001B[33m'\u001B[39m\u001B[33mfull_date\u001B[39m\u001B[33m'\u001B[39m] = data[\u001B[33m'\u001B[39m\u001B[33mdate\u001B[39m\u001B[33m'\u001B[39m].apply(convert_to_full_date)\n\u001B[32m     15\u001B[39m data[\u001B[33m'\u001B[39m\u001B[33mdriver_date_of_birth\u001B[39m\u001B[33m'\u001B[39m] = pd.to_datetime(data[\u001B[33m'\u001B[39m\u001B[33mdriver_date_of_birth\u001B[39m\u001B[33m'\u001B[39m])\n\u001B[32m---> \u001B[39m\u001B[32m16\u001B[39m data[\u001B[33m'\u001B[39m\u001B[33mdate\u001B[39m\u001B[33m'\u001B[39m] = \u001B[43mpd\u001B[49m\u001B[43m.\u001B[49m\u001B[43mto_datetime\u001B[49m\u001B[43m(\u001B[49m\u001B[43mdata\u001B[49m\u001B[43m[\u001B[49m\u001B[33;43m'\u001B[39;49m\u001B[33;43mfull_date\u001B[39;49m\u001B[33;43m'\u001B[39;49m\u001B[43m]\u001B[49m\u001B[43m,\u001B[49m\u001B[43m \u001B[49m\u001B[38;5;28;43mformat\u001B[39;49m\u001B[43m=\u001B[49m\u001B[33;43m'\u001B[39;49m\u001B[38;5;132;43;01m%d\u001B[39;49;00m\u001B[33;43m-\u001B[39;49m\u001B[33;43m%\u001B[39;49m\u001B[33;43mm-\u001B[39;49m\u001B[33;43m%\u001B[39;49m\u001B[33;43mY\u001B[39;49m\u001B[33;43m'\u001B[39;49m\u001B[43m)\u001B[49m\n\u001B[32m     17\u001B[39m data = data.drop([\u001B[33m'\u001B[39m\u001B[33mfull_date\u001B[39m\u001B[33m'\u001B[39m],axis=\u001B[32m1\u001B[39m)\n\u001B[32m     19\u001B[39m \u001B[38;5;66;03m#get month and day from date into new columns\u001B[39;00m\n",
      "\u001B[36mFile \u001B[39m\u001B[32m~\\AppData\\Local\\Programs\\Python\\Python313\\Lib\\site-packages\\pandas\\core\\tools\\datetimes.py:1068\u001B[39m, in \u001B[36mto_datetime\u001B[39m\u001B[34m(arg, errors, dayfirst, yearfirst, utc, format, exact, unit, infer_datetime_format, origin, cache)\u001B[39m\n\u001B[32m   1066\u001B[39m             result = arg.tz_localize(\u001B[33m\"\u001B[39m\u001B[33mutc\u001B[39m\u001B[33m\"\u001B[39m)\n\u001B[32m   1067\u001B[39m \u001B[38;5;28;01melif\u001B[39;00m \u001B[38;5;28misinstance\u001B[39m(arg, ABCSeries):\n\u001B[32m-> \u001B[39m\u001B[32m1068\u001B[39m     cache_array = \u001B[43m_maybe_cache\u001B[49m\u001B[43m(\u001B[49m\u001B[43marg\u001B[49m\u001B[43m,\u001B[49m\u001B[43m \u001B[49m\u001B[38;5;28;43mformat\u001B[39;49m\u001B[43m,\u001B[49m\u001B[43m \u001B[49m\u001B[43mcache\u001B[49m\u001B[43m,\u001B[49m\u001B[43m \u001B[49m\u001B[43mconvert_listlike\u001B[49m\u001B[43m)\u001B[49m\n\u001B[32m   1069\u001B[39m     \u001B[38;5;28;01mif\u001B[39;00m \u001B[38;5;129;01mnot\u001B[39;00m cache_array.empty:\n\u001B[32m   1070\u001B[39m         result = arg.map(cache_array)\n",
      "\u001B[36mFile \u001B[39m\u001B[32m~\\AppData\\Local\\Programs\\Python\\Python313\\Lib\\site-packages\\pandas\\core\\tools\\datetimes.py:249\u001B[39m, in \u001B[36m_maybe_cache\u001B[39m\u001B[34m(arg, format, cache, convert_listlike)\u001B[39m\n\u001B[32m    247\u001B[39m unique_dates = unique(arg)\n\u001B[32m    248\u001B[39m \u001B[38;5;28;01mif\u001B[39;00m \u001B[38;5;28mlen\u001B[39m(unique_dates) < \u001B[38;5;28mlen\u001B[39m(arg):\n\u001B[32m--> \u001B[39m\u001B[32m249\u001B[39m     cache_dates = \u001B[43mconvert_listlike\u001B[49m\u001B[43m(\u001B[49m\u001B[43munique_dates\u001B[49m\u001B[43m,\u001B[49m\u001B[43m \u001B[49m\u001B[38;5;28;43mformat\u001B[39;49m\u001B[43m)\u001B[49m\n\u001B[32m    250\u001B[39m     \u001B[38;5;66;03m# GH#45319\u001B[39;00m\n\u001B[32m    251\u001B[39m     \u001B[38;5;28;01mtry\u001B[39;00m:\n",
      "\u001B[36mFile \u001B[39m\u001B[32m~\\AppData\\Local\\Programs\\Python\\Python313\\Lib\\site-packages\\pandas\\core\\tools\\datetimes.py:435\u001B[39m, in \u001B[36m_convert_listlike_datetimes\u001B[39m\u001B[34m(arg, format, name, utc, unit, errors, dayfirst, yearfirst, exact)\u001B[39m\n\u001B[32m    433\u001B[39m \u001B[38;5;66;03m# `format` could be inferred, or user didn't ask for mixed-format parsing.\u001B[39;00m\n\u001B[32m    434\u001B[39m \u001B[38;5;28;01mif\u001B[39;00m \u001B[38;5;28mformat\u001B[39m \u001B[38;5;129;01mis\u001B[39;00m \u001B[38;5;129;01mnot\u001B[39;00m \u001B[38;5;28;01mNone\u001B[39;00m \u001B[38;5;129;01mand\u001B[39;00m \u001B[38;5;28mformat\u001B[39m != \u001B[33m\"\u001B[39m\u001B[33mmixed\u001B[39m\u001B[33m\"\u001B[39m:\n\u001B[32m--> \u001B[39m\u001B[32m435\u001B[39m     \u001B[38;5;28;01mreturn\u001B[39;00m \u001B[43m_array_strptime_with_fallback\u001B[49m\u001B[43m(\u001B[49m\u001B[43marg\u001B[49m\u001B[43m,\u001B[49m\u001B[43m \u001B[49m\u001B[43mname\u001B[49m\u001B[43m,\u001B[49m\u001B[43m \u001B[49m\u001B[43mutc\u001B[49m\u001B[43m,\u001B[49m\u001B[43m \u001B[49m\u001B[38;5;28;43mformat\u001B[39;49m\u001B[43m,\u001B[49m\u001B[43m \u001B[49m\u001B[43mexact\u001B[49m\u001B[43m,\u001B[49m\u001B[43m \u001B[49m\u001B[43merrors\u001B[49m\u001B[43m)\u001B[49m\n\u001B[32m    437\u001B[39m result, tz_parsed = objects_to_datetime64(\n\u001B[32m    438\u001B[39m     arg,\n\u001B[32m    439\u001B[39m     dayfirst=dayfirst,\n\u001B[32m   (...)\u001B[39m\u001B[32m    443\u001B[39m     allow_object=\u001B[38;5;28;01mTrue\u001B[39;00m,\n\u001B[32m    444\u001B[39m )\n\u001B[32m    446\u001B[39m \u001B[38;5;28;01mif\u001B[39;00m tz_parsed \u001B[38;5;129;01mis\u001B[39;00m \u001B[38;5;129;01mnot\u001B[39;00m \u001B[38;5;28;01mNone\u001B[39;00m:\n\u001B[32m    447\u001B[39m     \u001B[38;5;66;03m# We can take a shortcut since the datetime64 numpy array\u001B[39;00m\n\u001B[32m    448\u001B[39m     \u001B[38;5;66;03m# is in UTC\u001B[39;00m\n",
      "\u001B[36mFile \u001B[39m\u001B[32m~\\AppData\\Local\\Programs\\Python\\Python313\\Lib\\site-packages\\pandas\\core\\tools\\datetimes.py:469\u001B[39m, in \u001B[36m_array_strptime_with_fallback\u001B[39m\u001B[34m(arg, name, utc, fmt, exact, errors)\u001B[39m\n\u001B[32m    458\u001B[39m \u001B[38;5;28;01mdef\u001B[39;00m\u001B[38;5;250m \u001B[39m\u001B[34m_array_strptime_with_fallback\u001B[39m(\n\u001B[32m    459\u001B[39m     arg,\n\u001B[32m    460\u001B[39m     name,\n\u001B[32m   (...)\u001B[39m\u001B[32m    464\u001B[39m     errors: \u001B[38;5;28mstr\u001B[39m,\n\u001B[32m    465\u001B[39m ) -> Index:\n\u001B[32m    466\u001B[39m \u001B[38;5;250m    \u001B[39m\u001B[33;03m\"\"\"\u001B[39;00m\n\u001B[32m    467\u001B[39m \u001B[33;03m    Call array_strptime, with fallback behavior depending on 'errors'.\u001B[39;00m\n\u001B[32m    468\u001B[39m \u001B[33;03m    \"\"\"\u001B[39;00m\n\u001B[32m--> \u001B[39m\u001B[32m469\u001B[39m     result, tz_out = \u001B[43marray_strptime\u001B[49m\u001B[43m(\u001B[49m\u001B[43marg\u001B[49m\u001B[43m,\u001B[49m\u001B[43m \u001B[49m\u001B[43mfmt\u001B[49m\u001B[43m,\u001B[49m\u001B[43m \u001B[49m\u001B[43mexact\u001B[49m\u001B[43m=\u001B[49m\u001B[43mexact\u001B[49m\u001B[43m,\u001B[49m\u001B[43m \u001B[49m\u001B[43merrors\u001B[49m\u001B[43m=\u001B[49m\u001B[43merrors\u001B[49m\u001B[43m,\u001B[49m\u001B[43m \u001B[49m\u001B[43mutc\u001B[49m\u001B[43m=\u001B[49m\u001B[43mutc\u001B[49m\u001B[43m)\u001B[49m\n\u001B[32m    470\u001B[39m     \u001B[38;5;28;01mif\u001B[39;00m tz_out \u001B[38;5;129;01mis\u001B[39;00m \u001B[38;5;129;01mnot\u001B[39;00m \u001B[38;5;28;01mNone\u001B[39;00m:\n\u001B[32m    471\u001B[39m         unit = np.datetime_data(result.dtype)[\u001B[32m0\u001B[39m]\n",
      "\u001B[36mFile \u001B[39m\u001B[32mpandas/_libs/tslibs/strptime.pyx:501\u001B[39m, in \u001B[36mpandas._libs.tslibs.strptime.array_strptime\u001B[39m\u001B[34m()\u001B[39m\n",
      "\u001B[36mFile \u001B[39m\u001B[32mpandas/_libs/tslibs/strptime.pyx:451\u001B[39m, in \u001B[36mpandas._libs.tslibs.strptime.array_strptime\u001B[39m\u001B[34m()\u001B[39m\n",
      "\u001B[36mFile \u001B[39m\u001B[32mpandas/_libs/tslibs/strptime.pyx:583\u001B[39m, in \u001B[36mpandas._libs.tslibs.strptime._parse_with_format\u001B[39m\u001B[34m()\u001B[39m\n",
      "\u001B[31mValueError\u001B[39m: time data \"2009-03-2029\" doesn't match format \"%d-%m-%Y\", at position 0. You might want to try:\n    - passing `format` if your strings have a consistent format;\n    - passing `format='ISO8601'` if your strings are all ISO8601 but not necessarily in exactly the same format;\n    - passing `format='mixed'`, and the format will be inferred for each element individually. You might want to use `dayfirst` alongside this."
     ]
    }
   ],
   "execution_count": 16
  },
  {
   "cell_type": "code",
   "execution_count": 7,
   "id": "f2fff455",
   "metadata": {
    "ExecuteTime": {
     "end_time": "2025-06-08T07:46:07.100583Z",
     "start_time": "2025-06-08T07:46:00.887337Z"
    }
   },
   "outputs": [],
   "source": [
    "data['age_at_gp_in_days'] = abs(data['driver_date_of_birth']-data['date'])\n",
    "data['age_at_gp_in_days'] = data['age_at_gp_in_days'].apply(lambda x: str(x).split(' ')[0]).astype(int)\n",
    "\n",
    "first_race_dates = data.groupby('driverId')['date'].min().reset_index()\n",
    "first_race_dates.rename(columns={'date': 'first_race_date'}, inplace=True)\n",
    "data = data.merge(first_race_dates, on='driverId', how='left')\n",
    "data = data.drop(['driverId'],axis=1)\n",
    "\n",
    "data['days_since_first_race'] = abs(data['first_race_date']-data['date'])\n",
    "data['days_since_first_race'] = data['days_since_first_race'].apply(lambda x: str(x).split(' ')[0]).astype(int)"
   ]
  },
  {
   "cell_type": "code",
   "execution_count": 8,
   "id": "f312ac68",
   "metadata": {
    "ExecuteTime": {
     "end_time": "2025-06-08T07:46:07.309090Z",
     "start_time": "2025-06-08T07:46:07.101095Z"
    }
   },
   "outputs": [],
   "source": [
    "#create a rain column where if the weather is 'Rain or 'Changeable' or 'Very changeable' then 1 else 0\n",
    "data['rain'] = data['weather'].apply(lambda x: 1 if x in ['Rain', 'Changeable', 'Very changeable'] else 0)\n",
    "#drop the weather column\n",
    "data = data.drop(['weather'],axis=1)"
   ]
  },
  {
   "cell_type": "code",
   "execution_count": 9,
   "id": "0a966ef9",
   "metadata": {
    "ExecuteTime": {
     "end_time": "2025-06-08T07:46:07.387634Z",
     "start_time": "2025-06-08T07:46:07.310529Z"
    }
   },
   "outputs": [],
   "source": [
    "#select all data from 1980\n",
    "data = data[data['race_year']>=1981]\n",
    "#get first nationality only\n"
   ]
  },
  {
   "cell_type": "code",
   "execution_count": 10,
   "id": "4d7deab9",
   "metadata": {
    "ExecuteTime": {
     "end_time": "2025-06-08T07:46:07.392789Z",
     "start_time": "2025-06-08T07:46:07.388640Z"
    }
   },
   "outputs": [
    {
     "name": "stdout",
     "output_type": "stream",
     "text": [
      "Index(['race_year', 'date', 'qualification_pos', 'laps', 'milliseconds',\n",
      "       'driver_date_of_birth', 'driver_nationality', 'constructor',\n",
      "       'constructor_nationality', 'circuit', 'country_circuit', 'type_circuit',\n",
      "       'status', 'milliseconds_laptime', 'driver', 'race_month', 'race_day',\n",
      "       'age_at_gp_in_days', 'first_race_date', 'days_since_first_race',\n",
      "       'rain'],\n",
      "      dtype='object')\n"
     ]
    }
   ],
   "source": [
    "print(data.columns)"
   ]
  },
  {
   "cell_type": "code",
   "execution_count": 11,
   "id": "4d168564",
   "metadata": {
    "ExecuteTime": {
     "end_time": "2025-06-08T07:46:07.419621Z",
     "start_time": "2025-06-08T07:46:07.393799Z"
    }
   },
   "outputs": [
    {
     "name": "stdout",
     "output_type": "stream",
     "text": [
      "All Constructors:\n",
      "['Williams' 'Brabham' 'Alfa Romeo' 'Tyrrell' 'Theodore' 'Fittipaldi'\n",
      " 'Renault' 'Ensign' 'Ferrari' 'Ligier' 'ATS' 'Arrows' 'Osella'\n",
      " 'Team Lotus' 'McLaren' 'March' 'Toleman' 'RAM' 'Spirit' 'Minardi'\n",
      " 'Zakspeed' 'Lola' 'Benetton' 'AGS' 'Larrousse' 'Coloni' 'Rial'\n",
      " 'Euro Brun' 'Dallara' 'Onyx' 'Leyton House' 'Life' 'Lambo' 'Jordan'\n",
      " 'Footwork' 'Fondmetal' 'Andrea Moda' 'Sauber' 'Simtek' 'Pacific' 'Forti'\n",
      " 'Prost' 'Stewart' 'BAR' 'Jaguar' 'Toyota' 'Red Bull' 'Honda' 'Toro Rosso'\n",
      " 'BMW Sauber' 'MF1' 'Super Aguri' 'Spyker MF1' 'Spyker' 'Force India'\n",
      " 'Brawn' 'Mercedes' 'Lotus' 'HRT' 'Virgin' 'Lotus F1' 'Marussia'\n",
      " 'Caterham' 'Manor Marussia' 'Haas F1 Team' 'Racing Point' 'AlphaTauri'\n",
      " 'Aston Martin' 'Alpine F1 Team' 'RB F1 Team']\n"
     ]
    }
   ],
   "source": [
    "#get all unique constructors\n",
    "constructors = data['constructor'].unique()\n",
    "print('All Constructors:')\n",
    "print(constructors)"
   ]
  },
  {
   "cell_type": "code",
   "execution_count": 12,
   "id": "dbce8c6f",
   "metadata": {
    "ExecuteTime": {
     "end_time": "2025-06-08T07:46:07.444889Z",
     "start_time": "2025-06-08T07:46:07.420884Z"
    }
   },
   "outputs": [
    {
     "data": {
      "text/plain": "array(['British', 'Swiss', 'Hong Kong', 'Brazilian', 'French', 'Italian',\n       'German', 'Irish', 'Japanese', 'Austrian', 'Russian', 'Dutch',\n       'Indian', 'Malaysian', 'Spanish', 'American'], dtype=object)"
     },
     "execution_count": 12,
     "metadata": {},
     "output_type": "execute_result"
    }
   ],
   "source": [
    "data['constructor_nationality'].unique()\n"
   ]
  },
  {
   "cell_type": "code",
   "execution_count": 13,
   "id": "b9d0151a",
   "metadata": {
    "ExecuteTime": {
     "end_time": "2025-06-08T07:46:07.503463Z",
     "start_time": "2025-06-08T07:46:07.445902Z"
    }
   },
   "outputs": [],
   "source": [
    "#clean data\n",
    "data['driver_nationality'] = data['driver_nationality'].replace('Argentinian', 'Argentine')\n",
    "data['country_circuit'] = data['country_circuit'].replace('United States', 'USA')"
   ]
  },
  {
   "cell_type": "code",
   "execution_count": 14,
   "id": "62c80bf0",
   "metadata": {
    "ExecuteTime": {
     "end_time": "2025-06-08T07:46:07.778807Z",
     "start_time": "2025-06-08T07:46:07.504474Z"
    }
   },
   "outputs": [],
   "source": [
    "#for country circuit\n",
    "\n",
    "#Change all \"Argentinian\" to \"Argentine\"\n",
    "data_tmp = data.copy()\n",
    "\n",
    "#get first nationality only\n",
    "df_countries = countries.copy()\n",
    "df_countries['nationality'] = df_countries['nationality'].apply(lambda x: x.split(',')[0].strip())\n",
    "df_countries['en_short_name'] = df_countries['en_short_name'].apply(lambda x: x.split(',')[0].strip())\n",
    "df_countries['en_short_name'] = df_countries['en_short_name'].apply(lambda x: 'UK' if x=='United Kingdom of Great Britain and Northern Ireland' else x)\n",
    "df_countries['en_short_name'] = df_countries['en_short_name'].apply(lambda x: 'UAE' if x=='United Arab Emirates' else x)\n",
    "df_countries['en_short_name'] = df_countries['en_short_name'].apply(lambda x: 'Korea' if x=='Korea (Republic of)' else x)\n",
    "df_countries['en_short_name'] = df_countries['en_short_name'].apply(lambda x: 'Russia' if x=='Russian Federation' else x)\n",
    "df_countries['en_short_name'] = df_countries['en_short_name'].apply(lambda x: 'USA' if x=='United States of America' else x)\n",
    "\n",
    "#drop rows with duplicate nationality\n",
    "df_countries = df_countries[df_countries['en_short_name'] != 'Taiwan']\n",
    "df_countries = df_countries[df_countries['en_short_name'] != 'United States Minor Outlying Islands']\n",
    "\n",
    "\n",
    "data_with_circuit_nationality = data_tmp.merge(\n",
    "    df_countries,\n",
    "    how='left',\n",
    "    left_on='country_circuit', \n",
    "    right_on='en_short_name'  \n",
    ")\n",
    "\n",
    "#en_short_name\n",
    "\n",
    "data_with_circuit_nationality=data_with_circuit_nationality.drop(['country_circuit', 'num_code', 'alpha_2_code', 'en_short_name', 'nationality'], axis=1)\n",
    "data_with_circuit_nationality.rename(columns={'alpha_3_code':'circuit_nationality'}, inplace=True)\n"
   ]
  },
  {
   "cell_type": "code",
   "execution_count": 15,
   "id": "cf97b79c",
   "metadata": {
    "ExecuteTime": {
     "end_time": "2025-06-08T07:46:08.058187Z",
     "start_time": "2025-06-08T07:46:07.780050Z"
    }
   },
   "outputs": [],
   "source": [
    "data_tmp = data_with_circuit_nationality.copy()\n",
    "\n",
    "data_with_driver_nationality = data_tmp.merge(\n",
    "    df_countries,\n",
    "    how='left',\n",
    "    left_on='driver_nationality', \n",
    "    right_on='nationality'  \n",
    ")\n",
    "\n",
    "data_with_driver_nationality=data_with_driver_nationality.drop(['driver_nationality', 'num_code', 'alpha_2_code', 'en_short_name', 'nationality'], axis=1)\n",
    "data_with_driver_nationality.rename(columns={'alpha_3_code':'driver_nationality'}, inplace=True)\n",
    "\n"
   ]
  },
  {
   "cell_type": "code",
   "execution_count": 16,
   "id": "bc44e93d",
   "metadata": {
    "ExecuteTime": {
     "end_time": "2025-06-08T07:46:08.337204Z",
     "start_time": "2025-06-08T07:46:08.059316Z"
    }
   },
   "outputs": [],
   "source": [
    "data_tmp = data_with_driver_nationality.copy()\n",
    "\n",
    "data_with_constructor_nationality = data_tmp.merge(\n",
    "    df_countries,\n",
    "    how='left',\n",
    "    left_on='constructor_nationality', \n",
    "    right_on='nationality'  \n",
    ")\n",
    "data_with_constructor_nationality=data_with_constructor_nationality.drop(['constructor_nationality', 'num_code', 'alpha_2_code', 'en_short_name', 'nationality'], axis=1)\n",
    "data_with_constructor_nationality.rename(columns={'alpha_3_code':'constructor_nationality'}, inplace=True)\n"
   ]
  },
  {
   "cell_type": "code",
   "execution_count": 17,
   "id": "931d6373",
   "metadata": {
    "ExecuteTime": {
     "end_time": "2025-06-08T07:46:08.727252Z",
     "start_time": "2025-06-08T07:46:08.337204Z"
    }
   },
   "outputs": [],
   "source": [
    "#data after processing nationalities\n",
    "data = data_with_constructor_nationality;\n",
    "data['driver_home'] = data['driver_nationality'] == data['circuit_nationality']\n",
    "data['constructor_home'] = data['constructor_nationality'] == data['circuit_nationality']\n",
    "data['driver_home'] = data['driver_home'].apply(lambda x: int(x))\n",
    "data['constructor_home'] = data['constructor_home'].apply(lambda x: int(x))\n"
   ]
  },
  {
   "cell_type": "markdown",
   "id": "e5897521",
   "metadata": {},
   "source": [
    "<h5>Data median </h5>"
   ]
  },
  {
   "metadata": {
    "ExecuteTime": {
     "end_time": "2025-06-08T07:46:09.447316Z",
     "start_time": "2025-06-08T07:46:08.727252Z"
    }
   },
   "cell_type": "code",
   "outputs": [],
   "execution_count": 18,
   "source": [
    "data_group_for_race_time = data.copy()\n",
    "# Group by all columns except 'milliseconds_laptime', summing 'milliseconds_laptime' into a new column\n",
    "\n",
    "columns_to_group = [col for col in data_group_for_race_time.columns if col != 'milliseconds_laptime']\n",
    "data_group_for_race_time = data_group_for_race_time.groupby(columns_to_group, as_index=False).agg(\n",
    "    milliseconds_laptime=('milliseconds_laptime', 'sum'),\n",
    "    laps_count=('milliseconds_laptime', 'count')\n",
    ")\n",
    "\n",
    "\n",
    "\n",
    "\n",
    "# Convert columns to numeric\n",
    "data_group_for_race_time['milliseconds_laptime'] = pd.to_numeric(data_group_for_race_time['milliseconds_laptime'], errors='coerce')\n",
    "data_group_for_race_time['milliseconds'] = pd.to_numeric(data_group_for_race_time['milliseconds'], errors='coerce')\n",
    "# Replace '\\N' with 0 in both columns\n",
    "data_group_for_race_time['milliseconds_laptime'] = data_group_for_race_time['milliseconds_laptime'].fillna(0)\n",
    "data_group_for_race_time['milliseconds'] = data_group_for_race_time['milliseconds'].fillna(0)\n",
    "\n",
    "#create col [time_exist] which is 1 where both 'milliseconds_laptime' and 'milliseconds' are not null or 0\n",
    "data_group_for_race_time['time_exist'] = np.where(\n",
    "    (data_group_for_race_time['milliseconds_laptime'].notna() & (data_group_for_race_time['milliseconds_laptime'] != 0)) |\n",
    "    (data_group_for_race_time['milliseconds'].notna() & (data_group_for_race_time['milliseconds'] != 0)),\n",
    "    1, 0\n",
    ")\n",
    "\n",
    "data_group_for_race_time_filtered = data_group_for_race_time.copy()\n",
    "# Filter rows where 'time_exist' == 0\n",
    "data_group_for_race_time_filtered = data_group_for_race_time_filtered[data_group_for_race_time_filtered['time_exist'] != 0]\n",
    "\n",
    "# Drop the 'time_exist' column\n",
    "data_group_for_race_time_filtered.drop(['time_exist'], axis=1, inplace=True)\n",
    "\n",
    "\n",
    "data_group_for_race_time_filtered['race_duration'] = data_group_for_race_time_filtered.apply(\n",
    "    lambda row: row['milliseconds_laptime'] if row['milliseconds_laptime'] != 0 else row['milliseconds'], axis=1\n",
    ")\n",
    "\n",
    "# Drop the 'milliseconds' and 'milliseconds_laptime' columns\n",
    "#data_group_for_race_time_filtered = data_group_for_race_time_filtered.drop(['milliseconds', 'milliseconds_laptime'], axis=1)\n",
    "\n",
    "data_group_for_race_time_filtered['laps'] = data_group_for_race_time_filtered.apply(\n",
    "    #lambda row: row['laps'] if row['laps'] !=0 else row['laps_count'], axis=1\n",
    "    lambda row: row['laps'] if row['laps'] >= row['laps_count'] else row['laps_count'], axis=1\n",
    ")\n",
    "data_group_for_race_time_filtered = data_group_for_race_time_filtered.drop(['laps_count'], axis=1)\n",
    "\n",
    "#print sort by date\n",
    "data_group_for_race_time_filtered.sort_values(by=['date'], ascending=True)\n",
    "data = data_group_for_race_time_filtered\n",
    "\n",
    "\n"
   ],
   "id": "f072926d63983300"
  },
  {
   "cell_type": "code",
   "execution_count": 19,
   "id": "5ab27b4a",
   "metadata": {
    "ExecuteTime": {
     "end_time": "2025-06-08T07:46:09.460988Z",
     "start_time": "2025-06-08T07:46:09.448597Z"
    }
   },
   "outputs": [],
   "source": [
    "# Group by circuit and year, take laps as max lap in the group\n",
    "data_with_max_laps = data.copy()\n",
    "\n",
    "data_with_max_laps['max_laps'] = data_with_max_laps.groupby(['circuit', 'race_year', 'date'])['laps'].transform('max')\n",
    "\n",
    "# Select relevant columns\n",
    "data_with_max_laps = data_with_max_laps[['circuit', 'race_year','date', 'max_laps']]\n",
    "# Drop duplicates\n",
    "data_with_max_laps = data_with_max_laps.drop_duplicates()\n"
   ]
  },
  {
   "cell_type": "code",
   "execution_count": 20,
   "id": "7a9b5b58",
   "metadata": {
    "ExecuteTime": {
     "end_time": "2025-06-08T07:46:09.500945Z",
     "start_time": "2025-06-08T07:46:09.462Z"
    }
   },
   "outputs": [
    {
     "data": {
      "text/plain": "Index(['race_year', 'date', 'qualification_pos', 'laps', 'milliseconds',\n       'driver_date_of_birth', 'constructor', 'circuit', 'type_circuit',\n       'status', 'driver', 'race_month', 'race_day', 'age_at_gp_in_days',\n       'first_race_date', 'days_since_first_race', 'rain',\n       'circuit_nationality', 'driver_nationality', 'constructor_nationality',\n       'driver_home', 'constructor_home', 'milliseconds_laptime',\n       'race_duration', 'max_laps', 'additional_laps', 'final_race_duration'],\n      dtype='object')"
     },
     "execution_count": 20,
     "metadata": {},
     "output_type": "execute_result"
    }
   ],
   "source": [
    "data_median = data.copy()\n",
    "\n",
    "#drop rows with laps = 0\n",
    "data_median = data_median[data_median['laps'] >10]\n",
    "#join with data_with_max_laps on circuit and year\n",
    "data_median = data_median.merge(data_with_max_laps, on=['circuit', 'race_year', 'date'], how='left')\n",
    "#drop duplicates\n",
    "data_median = data_median.drop_duplicates()\n",
    "#take abs value of max_laps - laps and assign to new column as additional_laps\n",
    "data_median['additional_laps'] = abs(data_median['max_laps'] - data_median['laps'])\n",
    "#drop max_laps column\n",
    "#data_median = data_median.drop(['max_laps'], axis=1)\n",
    "pattern = r\"\\+.* Lap.*\"\n",
    "\n",
    "# Apply the condition\n",
    "condition = data_median['status'].eq('Finished') | data_median['status'].str.match(pattern)\n",
    "\n",
    "# Perform the calculation only for rows satisfying the condition\n",
    "data_median.loc[condition, 'final_race_duration'] = (\n",
    "    data_median['race_duration'] + \n",
    "    data_median['race_duration'] / data_median['laps'] * data_median['additional_laps']\n",
    ")\n",
    "data_median['final_race_duration'] = data_median['final_race_duration'].fillna(data_median['race_duration'])\n",
    "#drop laps column\n",
    "#data_median = data_median.drop(['laps'], axis=1)\n",
    " #drop additional_laps column\n",
    "#data_median = data_median.drop(['additional_laps'], axis=1)\n",
    "#drop duplicates\n",
    "data_median = data_median.drop_duplicates()\n",
    "\n",
    "data_median.columns"
   ]
  },
  {
   "cell_type": "code",
   "execution_count": 21,
   "id": "ca2ce1e3",
   "metadata": {
    "ExecuteTime": {
     "end_time": "2025-06-08T07:46:09.530222Z",
     "start_time": "2025-06-08T07:46:09.502304Z"
    }
   },
   "outputs": [],
   "source": [
    "data_median_race_duration = data_median.groupby(['circuit', 'race_year', 'date'])['final_race_duration'].median().reset_index()\n",
    "#rename col to median_race_duration\n",
    "data_median_race_duration.rename(columns={'final_race_duration': 'median_race_duration'},inplace=True)\n",
    "\n",
    "#merge with data_median\n",
    "data_median = data_median.merge(data_median_race_duration, on=['circuit', 'race_year', 'date'], how='left')\n",
    "\n",
    "#create column deviation from median and equal to abs of race_duration - median_race_duration\n",
    "data_median['deviation_from_median'] = data_median['final_race_duration'] - data_median['median_race_duration']\n",
    "\n",
    "pattern = r\"\\+.* Lap.*\"\n",
    "\n",
    "\n",
    "\n",
    "data_median = data_median[data_median['status'].eq('Finished') | data_median['status'].str.match(pattern)]\n",
    "\n",
    "#round all numbers in num columns\n",
    "num_cols = data_median.select_dtypes(include=[np.number]).columns\n",
    "for col in num_cols:\n",
    "    data_median[col] = data_median[col].round()\n",
    "\n",
    "#convert deviation_from_median to seconds\n",
    "#data_median['deviation_from_median'] = data_median['deviation_from_median'] / 1000\n",
    "\n",
    "#drop rows with deviation_from_median < -200000\n",
    "data_median = data_median[(data_median['deviation_from_median'] > -110000) & (data_median['deviation_from_median'] < 612000)]\n",
    "\n",
    "#drop median_race_duration and race_duration\n",
    "#Export to csv\n",
    "data_median_race_duration.to_csv('data_median_race_duration.csv', index=False)\n",
    "\n",
    "#data_full = data_median.copy()\n",
    "\n"
   ]
  },
  {
   "cell_type": "code",
   "execution_count": 22,
   "id": "cd9dddd2b38ae7ab",
   "metadata": {
    "collapsed": false,
    "ExecuteTime": {
     "end_time": "2025-06-08T07:46:09.639328Z",
     "start_time": "2025-06-08T07:46:09.531429Z"
    }
   },
   "outputs": [],
   "source": [
    "pattern = r\"\\+.* Lap.*\"\n",
    "\n",
    "# Create a copy of the dataset\n",
    "data_export = data_median.copy()\n",
    "\n",
    "# Apply the condition\n",
    "condition = data_export['status'].eq('Finished') | data_export['status'].str.match(pattern)\n",
    "\n",
    "# Assign final_position only to rows that meet the condition\n",
    "data_export['final_position'] = np.nan  # Initialize with NaN\n",
    "data_export.loc[condition, 'final_position'] = (\n",
    "    data_export[condition]\n",
    "    .groupby(['race_year', 'race_month', 'race_day', 'circuit'])['deviation_from_median']\n",
    "    .rank(method='min', ascending=True)\n",
    ")\n",
    "\n",
    "# Rename columns and export to CSV\n",
    "data_export.rename(columns={'qualification_pos': 'qualification_position', 'max_laps': 'laps', 'date': 'race_date'}, inplace=True)\n",
    "data_export.to_csv('data_median.csv', index=False)"
   ]
  },
  {
   "cell_type": "code",
   "execution_count": 23,
   "id": "470a02e9e34b0b1b",
   "metadata": {
    "collapsed": false,
    "ExecuteTime": {
     "end_time": "2025-06-08T07:46:09.656668Z",
     "start_time": "2025-06-08T07:46:09.640665Z"
    }
   },
   "outputs": [],
   "source": [
    "#export 'driver', 'driver_date_of_birth', 'first_race_date', 'driver_nationality' unique driver data\n",
    "unique_driver_data = data_median[['driver', 'driver_date_of_birth', 'first_race_date', 'driver_nationality']]\n",
    "\n",
    "# Drop duplicate rows\n",
    "unique_driver_data = unique_driver_data.drop_duplicates()\n",
    "\n",
    "# Export to CSV\n",
    "unique_driver_data.to_csv('unique_driver_data.csv', index=False)\n",
    "\n",
    "# data_median[['driver', 'driver_date_of_birth', 'first_race_date', 'driver_nationality']].to_csv('drivers_fe.csv', index=False)\n",
    "#export unique circuit data\n",
    "unique_circuit_data = data_median[['circuit', 'type_circuit', 'circuit_nationality']]\n",
    "unique_circuit_data = unique_circuit_data.drop_duplicates()\n",
    "# Export to CSV\n",
    "unique_circuit_data.to_csv('unique_circuit_data.csv', index=False)\n",
    "\n",
    "#export unique constructor data\n",
    "unique_constructor_data = data_median[['constructor', 'constructor_nationality']]\n",
    "unique_constructor_data = unique_constructor_data.drop_duplicates()\n",
    "# Export to CSV\n",
    "unique_constructor_data.to_csv('unique_constructor_data.csv', index=False)"
   ]
  },
  {
   "cell_type": "code",
   "execution_count": 24,
   "id": "4410e5718758a73d",
   "metadata": {
    "collapsed": false,
    "ExecuteTime": {
     "end_time": "2025-06-08T07:46:09.666166Z",
     "start_time": "2025-06-08T07:46:09.656668Z"
    }
   },
   "outputs": [
    {
     "name": "stdout",
     "output_type": "stream",
     "text": [
      "No such situations found.\n"
     ]
    }
   ],
   "source": [
    "# Group by 'year' and 'circuit' and count unique 'race_date' values\n",
    "duplicate_dates = data_median.groupby(['race_year','race_month', 'race_day', 'circuit'])['date'].nunique()\n",
    "\n",
    "# Filter groups where there are multiple unique dates\n",
    "duplicate_dates = duplicate_dates[duplicate_dates > 1]\n",
    "\n",
    "# Display the results\n",
    "if not duplicate_dates.empty:\n",
    "    print(\"Situations with same race_year and circuit but different dates:\")\n",
    "    print(duplicate_dates)\n",
    "else:\n",
    "    print(\"No such situations found.\")"
   ]
  },
  {
   "cell_type": "markdown",
   "id": "90d7fedf",
   "metadata": {},
   "source": [
    "<h3>Testing different models on cleaned median data</h3>"
   ]
  },
  {
   "cell_type": "code",
   "execution_count": 25,
   "id": "e2bc696a",
   "metadata": {
    "ExecuteTime": {
     "end_time": "2025-06-08T07:46:09.674901Z",
     "start_time": "2025-06-08T07:46:09.667293Z"
    }
   },
   "outputs": [
    {
     "data": {
      "text/plain": "race_year                    int64\nqualification_position       int64\nconstructor                 object\ncircuit                     object\ntype_circuit                object\ndriver                      object\nrace_month                   int32\nrace_day                     int32\nage_at_gp_in_days            int32\ndays_since_first_race        int32\nrain                         int64\ncircuit_nationality         object\ndriver_nationality          object\nconstructor_nationality     object\ndriver_home                  int64\nconstructor_home             int64\nlaps                         int64\ndeviation_from_median      float64\ndtype: object"
     },
     "execution_count": 25,
     "metadata": {},
     "output_type": "execute_result"
    }
   ],
   "source": [
    "# Drop irrelevant columns\n",
    "columns_to_drop = ['median_race_duration', 'race_duration', 'driver_date_of_birth' ,'first_race_date', 'date',\n",
    "                   'milliseconds', 'status', 'milliseconds_laptime', 'final_race_duration', 'additional_laps', 'laps']\n",
    "\n",
    "\n",
    "cleaned_data_median = data_median.drop(columns=columns_to_drop)\n",
    "cleaned_data_median.rename(columns={'qualification_pos':'qualification_position','max_laps':'laps'},inplace=True)\n",
    "cleaned_data_median.dtypes"
   ]
  },
  {
   "cell_type": "code",
   "execution_count": 26,
   "id": "47e769eac9134b11",
   "metadata": {
    "collapsed": false,
    "ExecuteTime": {
     "end_time": "2025-06-08T07:46:09.717049Z",
     "start_time": "2025-06-08T07:46:09.674901Z"
    }
   },
   "outputs": [],
   "source": [
    "cleaned_data_median.to_csv('cleaned_data_median.csv', index=False)"
   ]
  },
  {
   "cell_type": "markdown",
   "id": "3861086dee817965",
   "metadata": {
    "collapsed": false
   },
   "source": [
    "<h4>Split data</h4>\n"
   ]
  },
  {
   "cell_type": "code",
   "execution_count": 27,
   "id": "f748d1abd5308978",
   "metadata": {
    "collapsed": false,
    "ExecuteTime": {
     "end_time": "2025-06-08T07:46:09.741560Z",
     "start_time": "2025-06-08T07:46:09.717555Z"
    }
   },
   "outputs": [],
   "source": [
    "# Create a unique identifier for each race\n",
    "cleaned_data_median['race_id'] = cleaned_data_median['race_year'].astype(str) + '_' + cleaned_data_median['race_month'].astype(str) + '_' + cleaned_data_median['race_day'].astype(str) + '_' + cleaned_data_median['circuit']\n",
    "\n",
    "# Get unique race identifiers\n",
    "race_ids = cleaned_data_median['race_id'].unique()\n",
    "\n",
    "# Split race identifiers into training and testing sets\n",
    "train_race_ids, test_race_ids = train_test_split(race_ids, test_size=0.2, random_state=42)\n",
    "\n",
    "# Filter the original dataset for training and testing sets\n",
    "X_train = cleaned_data_median[cleaned_data_median['race_id'].isin(train_race_ids)]\n",
    "X_test = cleaned_data_median[cleaned_data_median['race_id'].isin(test_race_ids)]\n",
    "\n",
    "\n",
    "test_set_with_result = X_test.copy()\n",
    "test_set_with_result['final_position'] = test_set_with_result.groupby(['race_id'])['deviation_from_median'].rank(method='min', ascending=True)\n",
    "\n",
    "# set_with_result = cleaned_data_median.copy()\n",
    "# set_with_result['final_position'] = cleaned_data_median.groupby(['race_id'])['deviation_from_median'].rank(method='min', ascending=True)\n",
    "# set_with_result.to_csv('cleaned_data_median_with_ranking.csv', index=False)\n",
    "\n",
    "\n",
    "# Drop the temporary race_id column\n",
    "X_train = X_train.drop(columns=['race_id'])\n",
    "X_test = X_test.drop(columns=['race_id'])\n",
    "\n",
    "\n",
    "# Separate features and target\n",
    "y_train = X_train['deviation_from_median']\n",
    "X_train = X_train.drop(columns=['deviation_from_median'])\n",
    "\n",
    "\n",
    "y_test = X_test['deviation_from_median']\n",
    "X_test = X_test.drop(columns=['deviation_from_median'])\n",
    "\n"
   ]
  },
  {
   "cell_type": "markdown",
   "id": "ae63375f586b788a",
   "metadata": {
    "collapsed": false
   },
   "source": [
    "<h4>Custom metric function</h4>"
   ]
  },
  {
   "cell_type": "code",
   "execution_count": 28,
   "id": "50e2ab76fcd2fcd1",
   "metadata": {
    "collapsed": false,
    "ExecuteTime": {
     "end_time": "2025-06-08T07:46:09.755958Z",
     "start_time": "2025-06-08T07:46:09.743014Z"
    }
   },
   "outputs": [],
   "source": [
    "def get_weight(pos):\n",
    "    if pos <= 5:\n",
    "        return 3\n",
    "    elif pos <= 10:\n",
    "        return 2\n",
    "    else:\n",
    "        return 1\n",
    "\n",
    "def get_race_weight(circuit, race_year, race_month, race_day, df):\n",
    "    #return 0.5 if total entries < 10, else return 1\n",
    "    #count filter df by circuit, race_year, race_month, race_day\n",
    "    filtered_df = df[\n",
    "    (df['circuit'] == circuit) &\n",
    "    (df['race_year'] == race_year) &\n",
    "    (df['race_month'] == race_month) &\n",
    "    (df['race_day'] == race_day)\n",
    "    ]\n",
    "    \n",
    "    # Count the number of entries in the filtered DataFrame\n",
    "    entry_count = len(filtered_df)\n",
    "    if(entry_count <5):\n",
    "        return 0.2\n",
    "    elif (entry_count < 10):\n",
    "        return 0.5\n",
    "    else:\n",
    "        return 1\n",
    "    \n",
    "    \n",
    "    \n",
    "def weighted_position_error( y_true_df, X_test, ml_model):\n",
    "    \n",
    "    y_pred_df = ml_model.predict(X_test)\n",
    "    # Add the predicted values to the test set\n",
    "    y_pred_df = pd.DataFrame(y_pred_df, columns=['predicted_deviation_from_median'])\n",
    "    # Concatenate the predicted values with the test set\n",
    "    y_pred_df = pd.concat([X_test.reset_index(drop=True), y_pred_df], axis=1)\n",
    "    \n",
    "    y_pred_df['race_id'] = y_pred_df['race_year'].astype(str) + '_' + y_pred_df['race_month'].astype(str) + '_' + y_pred_df['race_day'].astype(str) + '_' + y_pred_df['circuit']\n",
    "    \n",
    "    \n",
    "    y_pred_df['predicted_final_position'] = y_pred_df.groupby(['race_id'])['predicted_deviation_from_median'].rank(method='min', ascending=True)\n",
    "    \n",
    "    y_pred_df.drop(columns=['race_id'], inplace=True)\n",
    "    #join y_pred_df and y_true_df on race_year, race_month, race_day, circuit, driver, constructor\n",
    "    \n",
    "    joined_df = y_pred_df.merge(y_true_df, on=['race_year', 'race_month', 'race_day','circuit', 'driver', 'constructor'], how='inner')\n",
    "    \n",
    "\n",
    "    # Calculate true and predicted final positions\n",
    "    # top 5 weights 3, next 5 weights 2, rest weights 1\n",
    "    \n",
    "   \n",
    "    results = []\n",
    "    \n",
    "    #loop each row\n",
    "    for index, row in joined_df.iterrows():\n",
    "        # Rank true and predicted deviations (lower deviation = higher rank)\n",
    "        true_pos = row['final_position']\n",
    "        pred_pos = row['predicted_final_position']\n",
    "\n",
    "        # Weight based on true rank\n",
    "        \n",
    "\n",
    "        weight = get_weight(true_pos)\n",
    "        race_weight = get_race_weight(row['circuit'],row['race_year'],row['race_month'],row['race_day'],joined_df)\n",
    "        pos_error = abs(true_pos - pred_pos)\n",
    "        weighted_error = race_weight* weight * pos_error\n",
    "\n",
    "        results.append(weighted_error)\n",
    "    \n",
    "\n",
    "   \n",
    "    return np.mean(results)\n",
    "\n",
    "def get_top_5_error( y_true_df, X_test, ml_model):\n",
    "    y_pred_df = ml_model.predict(X_test)\n",
    "    # Add the predicted values to the test set\n",
    "    y_pred_df = pd.DataFrame(y_pred_df, columns=['predicted_deviation_from_median'])\n",
    "    # Concatenate the predicted values with the test set\n",
    "    y_pred_df = pd.concat([X_test.reset_index(drop=True), y_pred_df], axis=1)\n",
    "    \n",
    "    y_pred_df['race_id'] = y_pred_df['race_year'].astype(str) + '_' + y_pred_df['race_month'].astype(str) + '_' + y_pred_df['race_day'].astype(str) + '_' + y_pred_df['circuit']\n",
    "    \n",
    "    \n",
    "    y_pred_df['predicted_final_position'] = y_pred_df.groupby(['race_id'])['predicted_deviation_from_median'].rank(method='min', ascending=True)\n",
    "    \n",
    "    y_pred_df.drop(columns=['race_id'], inplace=True)\n",
    "    #join y_pred_df and y_true_df on race_year, race_month, race_day, circuit, driver, constructor\n",
    "    \n",
    "    joined_df = y_pred_df.merge(y_true_df, on=['race_year', 'race_month', 'race_day','circuit', 'driver', 'constructor'], how='inner')\n",
    "    \n",
    "\n",
    "    # Calculate true and predicted final positions\n",
    "    # top 5 weights 3, next 5 weights 2, rest weights 1\n",
    "    \n",
    "   \n",
    "    results_top5 = []\n",
    "    \n",
    "    #loop each row\n",
    "    for index, row in joined_df.iterrows():\n",
    "    # Rank true and predicted deviations (lower deviation = higher rank)\n",
    "        true_pos = row['final_position']\n",
    "        pred_pos = row['predicted_final_position']\n",
    "        if(true_pos <= 5):\n",
    "            weight = get_weight(true_pos)\n",
    "            race_weight = get_race_weight(row['circuit'],row['race_year'],row['race_month'],row['race_day'],joined_df)\n",
    "            pos_error = abs(true_pos - pred_pos)\n",
    "            weighted_error = race_weight* weight * pos_error\n",
    "        \n",
    "            results_top5.append(weighted_error)\n",
    "    return np.mean(results_top5)\n",
    "    \n",
    "def calculate_general_errors_via_final_position(y_true_df, X_test, ml_model):\n",
    "    y_pred_df = ml_model.predict(X_test)\n",
    "    # Add the predicted values to the test set\n",
    "    y_pred_df = pd.DataFrame(y_pred_df, columns=['predicted_deviation_from_median'])\n",
    "    # Concatenate the predicted values with the test set\n",
    "    y_pred_df = pd.concat([X_test.reset_index(drop=True), y_pred_df], axis=1)\n",
    "    \n",
    "    y_pred_df['race_id'] = y_pred_df['race_year'].astype(str) + '_' + y_pred_df['race_month'].astype(str) + '_' + y_pred_df['race_day'].astype(str) + '_' + y_pred_df['circuit']\n",
    "    \n",
    "    \n",
    "    y_pred_df['predicted_final_position'] = y_pred_df.groupby(['race_id'])['predicted_deviation_from_median'].rank(method='min', ascending=True)\n",
    "    \n",
    "    y_pred_df.drop(columns=['race_id'], inplace=True)\n",
    "    #join y_pred_df and y_true_df on race_year, race_month, race_day, circuit, driver, constructor\n",
    "    \n",
    "    joined_df = y_true_df.merge(y_pred_df, on=['race_year', 'race_month', 'race_day','circuit', 'driver', 'constructor'], how='inner')\n",
    "\n",
    "    true_pos = joined_df['final_position'].to_numpy()\n",
    "    pred_pos = joined_df['predicted_final_position'].to_numpy()\n",
    "    #calculate rse, rmse, r2, mae from y_test_result_position_flattened and y_pred_df\n",
    "    mse = mean_squared_error(true_pos, pred_pos)\n",
    "    rmse = np.sqrt(mse)\n",
    "    r2 = r2_score(true_pos, pred_pos)\n",
    "    mae = mean_absolute_error(true_pos, pred_pos)\n",
    "    return mse, rmse, r2, mae\n",
    "\n",
    "def calculate_general_errors_top5_via_final_position(y_true_df, X_test, ml_model):\n",
    "    y_pred_df = ml_model.predict(X_test)\n",
    "    # Add the predicted values to the test set\n",
    "    y_pred_df = pd.DataFrame(y_pred_df, columns=['predicted_deviation_from_median'])\n",
    "    # Concatenate the predicted values with the test set\n",
    "    y_pred_df = pd.concat([X_test.reset_index(drop=True), y_pred_df], axis=1)\n",
    "    \n",
    "    y_pred_df['race_id'] = y_pred_df['race_year'].astype(str) + '_' + y_pred_df['race_month'].astype(str) + '_' + y_pred_df['race_day'].astype(str) + '_' + y_pred_df['circuit']\n",
    "    \n",
    "    \n",
    "    y_pred_df['predicted_final_position'] = y_pred_df.groupby(['race_id'])['predicted_deviation_from_median'].rank(method='min', ascending=True)\n",
    "    \n",
    "    y_pred_df.drop(columns=['race_id'], inplace=True)\n",
    "    #join y_pred_df and y_true_df on race_year, race_month, race_day, circuit, driver, constructor\n",
    "    \n",
    "    joined_df = y_true_df.merge(y_pred_df, on=['race_year', 'race_month', 'race_day','circuit', 'driver', 'constructor'], how='inner')\n",
    "    \n",
    "    #drop rows where final_position > 5\n",
    "    joined_df = joined_df[joined_df['final_position'] <= 5]\n",
    "\n",
    "    true_pos = joined_df['final_position'].to_numpy()\n",
    "    pred_pos = joined_df['predicted_final_position'].to_numpy()\n",
    "    #calculate rse, rmse, r2, mae from y_test_result_position_flattened and y_pred_df\n",
    "    mse = mean_squared_error(true_pos, pred_pos)\n",
    "    rmse = np.sqrt(mse)\n",
    "    r2 = r2_score(true_pos, pred_pos)\n",
    "    mae = mean_absolute_error(true_pos, pred_pos)\n",
    "    return mse, rmse, r2, mae\n"
   ]
  },
  {
   "cell_type": "code",
   "outputs": [],
   "source": [
    "robust_cols = ['qualification_position', 'age_at_gp_in_days', 'days_since_first_race', 'laps']\n",
    "cat_cols = ['constructor','circuit','type_circuit','driver','circuit_nationality','driver_nationality','constructor_nationality']\n",
    "other_cols = ['race_year','race_month','race_day','rain', 'driver_home', 'constructor_home']\n"
   ],
   "metadata": {
    "collapsed": false,
    "ExecuteTime": {
     "end_time": "2025-06-08T07:46:09.760390Z",
     "start_time": "2025-06-08T07:46:09.756964Z"
    }
   },
   "id": "58e789d415d8ba26",
   "execution_count": 29
  },
  {
   "cell_type": "markdown",
   "id": "e0f4546b",
   "metadata": {},
   "source": [
    "<h3> Random forest regressor</h3>"
   ]
  },
  {
   "cell_type": "code",
   "execution_count": 39,
   "id": "d2765981",
   "metadata": {
    "ExecuteTime": {
     "end_time": "2025-06-08T07:59:17.295438Z",
     "start_time": "2025-06-08T07:57:09.090696Z"
    }
   },
   "outputs": [
    {
     "name": "stdout",
     "output_type": "stream",
     "text": [
      "Fitting 5 folds for each of 1 candidates, totalling 5 fits\n",
      "Best Parameters: {'model__max_depth': 30, 'model__min_samples_leaf': 2, 'model__min_samples_split': 10, 'model__n_estimators': 800}\n",
      "Best RMSE: 51855.13086761929\n",
      "Final Model Performance:\n",
      "MSE: 3990648505.73\n",
      "RMSE: 63171.58\n",
      "R2: 0.4811\n",
      "MAE: 38136.74\n"
     ]
    }
   ],
   "source": [
    "\n",
    "preprocessor = ColumnTransformer([\n",
    "        ('num', RobustScaler(), robust_cols),\n",
    "        ('cat', OneHotEncoder(handle_unknown='ignore', sparse_output=False), cat_cols)\n",
    "    ], remainder='passthrough')\n",
    "\n",
    "# Full pipeline\n",
    "pipeline = Pipeline([\n",
    "    ('preprocessing', preprocessor),\n",
    "    ('model', RandomForestRegressor(random_state=42))\n",
    "])\n",
    "\n",
    "# GridSearchCV parameters (nested under \"model__\")\n",
    "# param_grid = {\n",
    "#     'model__max_depth': [30],\n",
    "#     'model__min_samples_leaf': [2, 3, 4],\n",
    "#     'model__min_samples_split': [10, 15],\n",
    "#     'model__n_estimators': [600, 800]\n",
    "# }\n",
    "param_grid = {'model__max_depth': [30], 'model__min_samples_leaf': [2], 'model__min_samples_split': [10], 'model__n_estimators': [800]}\n",
    "# Cross-validation\n",
    "k = 5\n",
    "cv = KFold(n_splits=k, shuffle=True, random_state=42)\n",
    "\n",
    "grid_search = GridSearchCV(estimator=pipeline,\n",
    "                           param_grid=param_grid,\n",
    "                           cv=cv,\n",
    "                           scoring='neg_mean_squared_error',\n",
    "                           verbose=1,\n",
    "                           n_jobs=-1)\n",
    "\n",
    "# Fit\n",
    "grid_search.fit(X_train, y_train)\n",
    "# Best Parameters: {'model__max_depth': 30, 'model__min_samples_leaf': 2, 'model__min_samples_split': 10, 'model__n_estimators': 800}\n",
    "\n",
    "# Best model and performance\n",
    "\n",
    "print(\"Best Parameters:\", grid_search.best_params_)\n",
    "best_rmse = np.sqrt(-grid_search.best_score_)\n",
    "print(\"Best RMSE:\", best_rmse)\n",
    "\n",
    "\n",
    "# Evaluate on training set (optional)\n",
    "\n",
    "best_model_rf = grid_search.best_estimator_\n",
    "y_pred = best_model_rf.predict(X_test)\n",
    "\n",
    "mse = mean_squared_error(y_test, y_pred)\n",
    "rmse = np.sqrt(mse)\n",
    "r2 = r2_score(y_test, y_pred)\n",
    "mae = mean_absolute_error(y_test, y_pred)\n",
    "\n",
    "print(\"Final Model Performance:\")\n",
    "print(f\"MSE: {mse:.2f}\")\n",
    "print(f\"RMSE: {rmse:.2f}\")\n",
    "print(f\"R2: {r2:.4f}\")\n",
    "print(f\"MAE: {mae:.2f}\")\n"
   ]
  },
  {
   "cell_type": "code",
   "execution_count": 40,
   "id": "4baa0b33",
   "metadata": {
    "ExecuteTime": {
     "end_time": "2025-06-08T07:59:17.549764Z",
     "start_time": "2025-06-08T07:59:17.296792Z"
    }
   },
   "outputs": [
    {
     "name": "stderr",
     "output_type": "stream",
     "text": [
      "C:\\Users\\Admin\\AppData\\Local\\Temp\\ipykernel_32612\\1772138597.py:42: FutureWarning: \n",
      "\n",
      "Passing `palette` without assigning `hue` is deprecated and will be removed in v0.14.0. Assign the `y` variable to `hue` and set `legend=False` for the same effect.\n",
      "\n",
      "  sns.barplot(data=grouped_importance, x='Importance', y='Group', palette='viridis')\n"
     ]
    },
    {
     "data": {
      "text/plain": "<Figure size 1200x600 with 1 Axes>",
      "image/png": "[encoded data removed]"
     },
     "metadata": {},
     "output_type": "display_data"
    }
   ],
   "source": [
    "# Get best pipeline from grid search\n",
    "best_pipeline = best_model_rf\n",
    "\n",
    "model = best_pipeline.named_steps['model']\n",
    "\n",
    "num_features = robust_cols\n",
    "\n",
    "ohe = best_pipeline.named_steps['preprocessing'].named_transformers_['cat']\n",
    "\n",
    "# Get the feature names for categorical columns\n",
    "cat_features = ohe.get_feature_names_out(cat_cols)\n",
    "\n",
    "\n",
    "other_features = other_cols\n",
    "\n",
    "feature_names = np.concatenate([num_features, cat_features, other_features])\n",
    "\n",
    "\n",
    "importances = model.feature_importances_\n",
    "\n",
    "\n",
    "# Step 2: Create DataFrame\n",
    "feat_df = pd.DataFrame({\n",
    "    'Feature': feature_names,\n",
    "    'Importance': importances\n",
    "})\n",
    "\n",
    "# Step 3: Extract base feature name for grouping\n",
    "def extract_base_feature(name):\n",
    "    if name in num_features or name in other_features:\n",
    "        return name\n",
    "    else:\n",
    "        return name.split('_')[0]  # e.g., \"circuit_Monaco\" -> \"circuit\"\n",
    "\n",
    "feat_df['Group'] = feat_df['Feature'].apply(extract_base_feature)\n",
    "\n",
    "# Step 4: Aggregate importance by group\n",
    "grouped_importance = feat_df.groupby('Group')['Importance'].sum().sort_values(ascending=False).reset_index()\n",
    "\n",
    "# Step 5: Plot with Seaborn\n",
    "plt.figure(figsize=(12, 6))\n",
    "sns.barplot(data=grouped_importance, x='Importance', y='Group', palette='viridis')\n",
    "\n",
    "plt.title('Random Forest: Feature Importances')\n",
    "plt.xlabel('Total Importance')\n",
    "plt.ylabel('Feature')\n",
    "plt.tight_layout()\n",
    "plt.show()"
   ]
  },
  {
   "cell_type": "code",
   "execution_count": 124,
   "id": "8b16c77541cf8873",
   "metadata": {
    "collapsed": false,
    "ExecuteTime": {
     "end_time": "2025-06-07T11:52:57.434851Z",
     "start_time": "2025-06-07T11:52:54.960594Z"
    }
   },
   "outputs": [
    {
     "name": "stdout",
     "output_type": "stream",
     "text": [
      "Weighted Position Error Random Forest: 3.39\n",
      "Top 5 Weighted Position Error Random Forest: 3.83\n",
      "General Errors Random Forest: MSE: 7.28, RMSE: 2.70, R2: 0.7085, MAE: 1.83\n",
      "General Errors Top 5 Random Forest: MSE: 5.42, RMSE: 2.33, R2: -1.7697, MAE: 1.44\n"
     ]
    }
   ],
   "source": [
    "\n",
    "# Calculate the weighted position error\n",
    "wpe = weighted_position_error( test_set_with_result, X_test, best_model_rf)\n",
    "print(f\"Weighted Position Error Random Forest: {wpe:.2f}\")\n",
    "\n",
    "wpe5 = get_top_5_error( test_set_with_result, X_test, best_model_rf)\n",
    "print(f\"Top 5 Weighted Position Error Random Forest: {wpe5:.2f}\")\n",
    "\n",
    "# Calculate general errors\n",
    "mse, rmse, r2, mae = calculate_general_errors_via_final_position(test_set_with_result, X_test, best_model_rf)\n",
    "print(f\"General Errors Random Forest: MSE: {mse:.2f}, RMSE: {rmse:.2f}, R2: {r2:.4f}, MAE: {mae:.2f}\")\n",
    "mse_top5, rmse_top5, r2_top5, mae_top5 = calculate_general_errors_top5_via_final_position(test_set_with_result, X_test, best_model_rf)\n",
    "print(f\"General Errors Top 5 Random Forest: MSE: {mse_top5:.2f}, RMSE: {rmse_top5:.2f}, R2: {r2_top5:.4f}, MAE: {mae_top5:.2f}\")"
   ]
  },
  {
   "cell_type": "code",
   "execution_count": 32,
   "id": "34571d3e",
   "metadata": {
    "ExecuteTime": {
     "end_time": "2025-06-08T07:50:40.065935Z",
     "start_time": "2025-06-08T07:50:39.926355Z"
    }
   },
   "outputs": [],
   "source": [
    "# save\n",
    "# with open('rf.pkl','wb') as f:\n",
    "#     pickle.dump(best_model_rf,f)\n",
    "\n",
    "# load\n",
    "with open('rf.pkl', 'rb') as f:\n",
    "    best_model_rf = pickle.load(f)\n"
   ]
  },
  {
   "cell_type": "markdown",
   "id": "d19735ab",
   "metadata": {},
   "source": [
    "<h5>Gradient boost regressor</h5>"
   ]
  },
  {
   "cell_type": "code",
   "execution_count": 41,
   "id": "f13341a7",
   "metadata": {
    "ExecuteTime": {
     "end_time": "2025-06-08T08:01:37.441594Z",
     "start_time": "2025-06-08T08:00:16.964871Z"
    }
   },
   "outputs": [
    {
     "name": "stdout",
     "output_type": "stream",
     "text": [
      "Fitting 5 folds for each of 1 candidates, totalling 5 fits\n",
      "Best Parameters: {'model__learning_rate': 0.1, 'model__loss': 'huber', 'model__max_depth': 5, 'model__min_samples_leaf': 4, 'model__min_samples_split': 5, 'model__n_estimators': 400}\n",
      "Best RMSE: 49109.885727248446\n",
      "Final Model Performance:\n",
      "MSE: 4140465594.47\n",
      "RMSE: 64346.45\n",
      "R2: 0.4616\n",
      "MAE: 39100.32\n"
     ]
    }
   ],
   "source": [
    "preprocessor = ColumnTransformer([\n",
    "        ('num', RobustScaler(), robust_cols),\n",
    "        ('cat', OneHotEncoder(handle_unknown='ignore', sparse_output=False), cat_cols)\n",
    "    ], remainder='passthrough')\n",
    "# Full pipeline\n",
    "pipeline = Pipeline([\n",
    "    ('preprocessing', preprocessor),\n",
    "    ('model', GradientBoostingRegressor())\n",
    "])\n",
    "\n",
    "# GridSearchCV parameters (nested under \"model__\")\n",
    "# param_grid = {\n",
    "#     'model__loss': [ 'huber'],\n",
    "#     'model__learning_rate': [0.01, 0.1],\n",
    "#     'model__n_estimators': [ 300, 400],\n",
    "#     'model__min_samples_split': [ 5, 10, 15],\n",
    "#     'model__min_samples_leaf': [ 4, 5],\n",
    "#     'model__max_depth': [ 4, 5],\n",
    "# }\n",
    "param_grid ={'model__learning_rate': [0.1], 'model__loss': ['huber'], 'model__max_depth': [5], 'model__min_samples_leaf': [4], 'model__min_samples_split': [5], 'model__n_estimators': [400]}\n",
    "# Cross-validation\n",
    "k = 5\n",
    "cv = KFold(n_splits=k, shuffle=True, random_state=42)\n",
    "\n",
    "grid_search = GridSearchCV(estimator=pipeline,\n",
    "                           param_grid=param_grid,\n",
    "                           cv=cv,\n",
    "                           scoring='neg_mean_squared_error',\n",
    "                           verbose=1,\n",
    "                           n_jobs=-1)\n",
    "\n",
    "# Fit\n",
    "grid_search.fit(X_train, y_train)\n",
    "# Best Parameters: {'model__learning_rate': 0.1, 'model__loss': 'huber', 'model__max_depth': 5, 'model__min_samples_leaf': 4, 'model__min_samples_split': 5, 'model__n_estimators': 400}\n",
    "\n",
    "# Best model and performance\n",
    "\n",
    "print(\"Best Parameters:\", grid_search.best_params_)\n",
    "best_rmse = np.sqrt(-grid_search.best_score_)\n",
    "print(\"Best RMSE:\", best_rmse)\n",
    "\n",
    "\n",
    "# Evaluate on training set (optional)\n",
    "\n",
    "best_model_gb = grid_search.best_estimator_\n",
    "y_pred = best_model_gb.predict(X_test)\n",
    "\n",
    "mse = mean_squared_error(y_test, y_pred)\n",
    "rmse = np.sqrt(mse)\n",
    "r2 = r2_score(y_test, y_pred)\n",
    "mae = mean_absolute_error(y_test, y_pred)\n",
    "\n",
    "print(\"Final Model Performance:\")\n",
    "print(f\"MSE: {mse:.2f}\")\n",
    "print(f\"RMSE: {rmse:.2f}\")\n",
    "print(f\"R2: {r2:.4f}\")\n",
    "print(f\"MAE: {mae:.2f}\")\n",
    "\n"
   ]
  },
  {
   "cell_type": "code",
   "execution_count": 42,
   "id": "0fa47c0a",
   "metadata": {
    "ExecuteTime": {
     "end_time": "2025-06-08T08:01:37.651499Z",
     "start_time": "2025-06-08T08:01:37.442869Z"
    }
   },
   "outputs": [
    {
     "name": "stderr",
     "output_type": "stream",
     "text": [
      "C:\\Users\\Admin\\AppData\\Local\\Temp\\ipykernel_32612\\4262997751.py:50: FutureWarning: \n",
      "\n",
      "Passing `palette` without assigning `hue` is deprecated and will be removed in v0.14.0. Assign the `y` variable to `hue` and set `legend=False` for the same effect.\n",
      "\n",
      "  sns.barplot(data=grouped_importance, x='Importance', y='Group', palette='viridis')\n"
     ]
    },
    {
     "data": {
      "text/plain": "<Figure size 1200x600 with 1 Axes>",
      "image/png": "[encoded data removed]"
     },
     "metadata": {},
     "output_type": "display_data"
    }
   ],
   "source": [
    "# Get best pipeline from grid search\n",
    "best_pipeline = best_model_gb\n",
    "\n",
    "model = best_pipeline.named_steps['model']\n",
    "\n",
    "num_features = robust_cols\n",
    "\n",
    "ohe = best_pipeline.named_steps['preprocessing'].named_transformers_['cat']\n",
    "\n",
    "# Get the feature names for categorical columns\n",
    "cat_features = ohe.get_feature_names_out(cat_cols)\n",
    "\n",
    "\n",
    "other_features = other_cols\n",
    "\n",
    "feature_names = np.concatenate([num_features, cat_features, other_features])\n",
    "\n",
    "\n",
    "importances = model.feature_importances_\n",
    "# 5. Create DataFrame for display\n",
    "importances_df = pd.DataFrame({\n",
    "    'Feature': feature_names,\n",
    "    'Importance': importances\n",
    "}).sort_values(by='Importance', ascending=False)\n",
    "\n",
    "# import seaborn as sns\n",
    "# import matplotlib.pyplot as plt\n",
    "\n",
    "\n",
    "# Step 2: Create DataFrame\n",
    "feat_df = pd.DataFrame({\n",
    "    'Feature': feature_names,\n",
    "    'Importance': importances\n",
    "})\n",
    "\n",
    "# Step 3: Extract base feature name for grouping\n",
    "def extract_base_feature(name):\n",
    "    if name in num_features or name in other_features:\n",
    "        return name\n",
    "    else:\n",
    "        return name.split('_')[0]  # e.g., \"circuit_Monaco\" -> \"circuit\"\n",
    "\n",
    "feat_df['Group'] = feat_df['Feature'].apply(extract_base_feature)\n",
    "\n",
    "# Step 4: Aggregate importance by group\n",
    "grouped_importance = feat_df.groupby('Group')['Importance'].sum().sort_values(ascending=False).reset_index()\n",
    "\n",
    "# Step 5: Plot with Seaborn\n",
    "plt.figure(figsize=(12, 6))\n",
    "sns.barplot(data=grouped_importance, x='Importance', y='Group', palette='viridis')\n",
    "\n",
    "plt.title('Gradient Boost: Feature Importances')\n",
    "plt.xlabel('Total Importance')\n",
    "plt.ylabel('Feature')\n",
    "plt.tight_layout()\n",
    "plt.show()"
   ]
  },
  {
   "cell_type": "code",
   "execution_count": 127,
   "id": "bc73fb3e238ec10f",
   "metadata": {
    "collapsed": false,
    "ExecuteTime": {
     "end_time": "2025-06-07T11:56:50.034986Z",
     "start_time": "2025-06-07T11:56:47.957708Z"
    }
   },
   "outputs": [
    {
     "name": "stdout",
     "output_type": "stream",
     "text": [
      "Weighted Position Gradient Boost: 3.19\n",
      "Top 5 Weighted Position Error Gradient Boost: 3.45\n",
      "General Errors Gradient Boost: MSE: 6.78, RMSE: 2.60, R2: 0.7282, MAE: 1.76\n",
      "General Errors Top 5 Gradient Boost: MSE: 4.66, RMSE: 2.16, R2: -1.3825, MAE: 1.31\n"
     ]
    }
   ],
   "source": [
    "# Calculate the weighted position error\n",
    "wpe = weighted_position_error( test_set_with_result, X_test, best_model_gb)\n",
    "print(f\"Weighted Position Gradient Boost: {wpe:.2f}\")\n",
    "wpe5 = get_top_5_error( test_set_with_result, X_test, best_model_gb)\n",
    "print(f\"Top 5 Weighted Position Error Gradient Boost: {wpe5:.2f}\")\n",
    "mse, rmse, r2, mae = calculate_general_errors_via_final_position(test_set_with_result, X_test, best_model_gb)\n",
    "print(f\"General Errors Gradient Boost: MSE: {mse:.2f}, RMSE: {rmse:.2f}, R2: {r2:.4f}, MAE: {mae:.2f}\")\n",
    "mse_top5, rmse_top5, r2_top5, mae_top5 = calculate_general_errors_top5_via_final_position(test_set_with_result, X_test, best_model_gb)\n",
    "print(f\"General Errors Top 5 Gradient Boost: MSE: {mse_top5:.2f}, RMSE: {rmse_top5:.2f}, R2: {r2_top5:.4f}, MAE: {mae_top5:.2f}\")"
   ]
  },
  {
   "cell_type": "code",
   "execution_count": 128,
   "id": "898b03b4",
   "metadata": {
    "ExecuteTime": {
     "end_time": "2025-06-07T11:58:10.547990Z",
     "start_time": "2025-06-07T11:58:10.515581Z"
    }
   },
   "outputs": [],
   "source": [
    "# save\n",
    "# with open('gb.pkl','wb') as f:\n",
    "#     pickle.dump(best_model_gb,f)\n",
    "\n",
    "# load\n",
    "with open('gb.pkl', 'rb') as f:\n",
    "    best_model_gb = pickle.load(f)"
   ]
  },
  {
   "cell_type": "markdown",
   "id": "4369d240",
   "metadata": {},
   "source": [
    "<h5>Neural network</h5>"
   ]
  },
  {
   "cell_type": "code",
   "execution_count": 30,
   "id": "074cad90",
   "metadata": {
    "ExecuteTime": {
     "end_time": "2025-06-07T20:18:41.504044Z",
     "start_time": "2025-06-07T20:17:56.013815Z"
    }
   },
   "outputs": [
    {
     "name": "stdout",
     "output_type": "stream",
     "text": [
      "Fitting 5 folds for each of 1 candidates, totalling 5 fits\n",
      "Iteration 1, loss = 3756691855.89694118\n",
      "Iteration 2, loss = 3435336290.46694422\n",
      "Iteration 3, loss = 3422745003.24855804\n",
      "Iteration 4, loss = 3421954787.57784176\n",
      "Iteration 5, loss = 3424698594.01518250\n",
      "Iteration 6, loss = 3420388047.98953104\n",
      "Iteration 7, loss = 3418010207.17536163\n",
      "Iteration 8, loss = 3419212636.81274271\n",
      "Iteration 9, loss = 3418235572.23498726\n",
      "Iteration 10, loss = 3413996615.39995909\n",
      "Iteration 11, loss = 3415052979.08573771\n",
      "Iteration 12, loss = 3412309525.97124386\n",
      "Iteration 13, loss = 3408980771.42625332\n",
      "Iteration 14, loss = 3407073287.82758570\n",
      "Iteration 15, loss = 3401610461.16676188\n",
      "Iteration 16, loss = 3400135725.90484858\n",
      "Iteration 17, loss = 3390556720.08406162\n",
      "Iteration 18, loss = 3372896384.02999687\n",
      "Iteration 19, loss = 3339746263.90935326\n",
      "Iteration 20, loss = 3233060306.32413673\n",
      "Iteration 21, loss = 2813306303.27417088\n",
      "Iteration 22, loss = 2294875924.30176687\n",
      "Iteration 23, loss = 2191091319.78028870\n",
      "Iteration 24, loss = 2073491627.47280312\n",
      "Iteration 25, loss = 1999701533.61650777\n",
      "Iteration 26, loss = 1905124392.57760215\n",
      "Iteration 27, loss = 1888928878.64994192\n",
      "Iteration 28, loss = 1771613504.36897469\n",
      "Iteration 29, loss = 1752729249.96059227\n",
      "Iteration 30, loss = 1715164796.10468459\n",
      "Iteration 31, loss = 1656715446.83007431\n",
      "Iteration 32, loss = 1635980322.70483756\n",
      "Iteration 33, loss = 1646511397.47906041\n",
      "Iteration 34, loss = 1580419054.89352131\n",
      "Iteration 35, loss = 1598772435.54135132\n",
      "Iteration 36, loss = 1539978943.90527940\n",
      "Iteration 37, loss = 1566186351.12686300\n",
      "Iteration 38, loss = 1526668766.77676272\n",
      "Iteration 39, loss = 1513437740.65796828\n",
      "Iteration 40, loss = 1504446865.54840517\n",
      "Iteration 41, loss = 1499541603.45379806\n",
      "Iteration 42, loss = 1528883047.47579479\n",
      "Iteration 43, loss = 1476617782.68758392\n",
      "Iteration 44, loss = 1515298793.62398005\n",
      "Iteration 45, loss = 1468044894.47385359\n",
      "Iteration 46, loss = 1503786050.06439519\n",
      "Iteration 47, loss = 1464362202.95897937\n",
      "Iteration 48, loss = 1467820807.24924707\n",
      "Iteration 49, loss = 1453658128.91119289\n",
      "Iteration 50, loss = 1439649574.73039603\n",
      "Iteration 51, loss = 1586164105.58626819\n",
      "Iteration 52, loss = 1447194499.54962397\n",
      "Iteration 53, loss = 1435593541.46282339\n",
      "Iteration 54, loss = 1419446692.82582259\n",
      "Iteration 55, loss = 1483487939.12120366\n",
      "Iteration 56, loss = 1417670211.87426567\n",
      "Iteration 57, loss = 1397959998.75397182\n",
      "Iteration 58, loss = 1431613726.08268404\n",
      "Iteration 59, loss = 1405670350.86622500\n",
      "Iteration 60, loss = 1403137313.26280093\n",
      "Iteration 61, loss = 1410786698.93641925\n",
      "Iteration 62, loss = 1491757060.74185967\n",
      "Iteration 63, loss = 1433104289.80120277\n",
      "Iteration 64, loss = 1426096333.78714633\n",
      "Iteration 65, loss = 1415715340.77914619\n",
      "Iteration 66, loss = 1385019309.75770330\n",
      "Iteration 67, loss = 1415255344.07337785\n",
      "Iteration 68, loss = 1428034628.37801170\n",
      "Iteration 69, loss = 1426463348.30997753\n",
      "Iteration 70, loss = 1385556564.70511484\n",
      "Iteration 71, loss = 1398998471.94784617\n",
      "Iteration 72, loss = 1394053353.20469689\n",
      "Iteration 73, loss = 1395932264.18275928\n",
      "Iteration 74, loss = 1402454134.31080389\n",
      "Iteration 75, loss = 1374202224.35407019\n",
      "Iteration 76, loss = 1387705919.95512128\n",
      "Iteration 77, loss = 1365951212.85198712\n",
      "Iteration 78, loss = 1376327099.24960876\n",
      "Iteration 79, loss = 1442759535.33086801\n",
      "Iteration 80, loss = 1390632347.53080535\n",
      "Iteration 81, loss = 1365482315.60516405\n",
      "Iteration 82, loss = 1365858173.09893942\n",
      "Iteration 83, loss = 1386616622.15784740\n",
      "Iteration 84, loss = 1358517107.26702452\n",
      "Iteration 85, loss = 1390805225.99277520\n",
      "Iteration 86, loss = 1353854842.72789073\n",
      "Iteration 87, loss = 1381424422.47217202\n",
      "Iteration 88, loss = 1342428736.27541924\n",
      "Iteration 89, loss = 1361112946.11480546\n",
      "Iteration 90, loss = 1383073420.34233975\n",
      "Iteration 91, loss = 1360484885.36035037\n",
      "Iteration 92, loss = 1396105246.72198868\n",
      "Iteration 93, loss = 1346411249.02642369\n",
      "Iteration 94, loss = 1363351437.40006971\n",
      "Iteration 95, loss = 1355551304.85066009\n",
      "Iteration 96, loss = 1343673095.17463255\n",
      "Iteration 97, loss = 1382793715.32020283\n",
      "Iteration 98, loss = 1400842530.03826523\n",
      "Iteration 99, loss = 1341557252.40767980\n",
      "Iteration 100, loss = 1367794233.41952515\n",
      "Iteration 101, loss = 1357446661.87580585\n",
      "Iteration 102, loss = 1339396121.14389396\n",
      "Iteration 103, loss = 1385314306.67931843\n",
      "Iteration 104, loss = 1328846471.27205896\n",
      "Iteration 105, loss = 1340347278.92267895\n",
      "Iteration 106, loss = 1397800835.35467172\n",
      "Iteration 107, loss = 1378106326.85322452\n",
      "Iteration 108, loss = 1330835476.54403138\n",
      "Iteration 109, loss = 1323526690.85162258\n",
      "Iteration 110, loss = 1327357082.12475443\n",
      "Iteration 111, loss = 1332459129.26559949\n",
      "Iteration 112, loss = 1337476133.09558177\n",
      "Iteration 113, loss = 1379495556.74777150\n",
      "Iteration 114, loss = 1334018860.19876194\n",
      "Iteration 115, loss = 1417730650.05780411\n",
      "Iteration 116, loss = 1414386159.41917300\n",
      "Iteration 117, loss = 1420187153.34572053\n",
      "Iteration 118, loss = 1339157310.03686047\n",
      "Iteration 119, loss = 1355229691.21203613\n",
      "Iteration 120, loss = 1349833367.79869390\n",
      "Training loss did not improve more than tol=0.000100 for 10 consecutive epochs. Stopping.\n",
      "Best Parameters: {'model__activation': 'relu', 'model__alpha': 0.001, 'model__hidden_layer_sizes': (100, 100, 100, 100, 100), 'model__learning_rate_init': 0.001, 'model__solver': 'adam'}\n",
      "Best RMSE: 55784.722750554596\n",
      "Final Model Performance:\n",
      "MSE: 4038746125.34\n",
      "RMSE: 63551.13\n",
      "R2: 0.4748\n",
      "MAE: 39772.74\n"
     ]
    }
   ],
   "source": [
    "\n",
    "preprocessor = ColumnTransformer([\n",
    "        ('num', RobustScaler(), robust_cols),\n",
    "        ('cat', OneHotEncoder(handle_unknown='ignore', sparse_output=False), cat_cols)\n",
    "    ], remainder='passthrough')\n",
    "# Full pipeline\n",
    "pipeline = Pipeline([\n",
    "    ('preprocessing', preprocessor),\n",
    "    ('model', MLPRegressor(random_state=42,max_iter=1000 , verbose=1))\n",
    "])\n",
    "\n",
    "# param_grid = {\n",
    "#     'model__hidden_layer_sizes': [ (50, 50), (100, 50)],\n",
    "#     'model__activation': ['relu', 'tanh'],\n",
    "#     'model__alpha': [0.0001, 0.001, 0.01],\n",
    "#     'model__learning_rate_init': [0.001, 0.01],\n",
    "#     'model__solver': ['adam'],\n",
    "# }\n",
    "param_grid = {\n",
    "    'model__hidden_layer_sizes': [  (100, 100, 100,100,100)],\n",
    "    'model__activation': ['relu'],\n",
    "    'model__alpha': [0.001],\n",
    "    'model__learning_rate_init': [0.001],\n",
    "    'model__solver': ['adam'],\n",
    "}\n",
    "# Cross-validation\n",
    "k = 5\n",
    "cv = KFold(n_splits=k, shuffle=True, random_state=42)\n",
    "\n",
    "grid_search = GridSearchCV(estimator=pipeline,\n",
    "                           param_grid=param_grid,\n",
    "                           cv=cv,\n",
    "                           scoring='neg_mean_squared_error',\n",
    "                           verbose=1,\n",
    "                           n_jobs=-1)\n",
    "\n",
    "\n",
    "grid_search.fit(X_train, y_train)\n",
    "# Best Parameters: {'model__activation': 'relu', 'model__alpha': 0.001, 'model__hidden_layer_sizes': (50, 50), 'model__learning_rate_init': 0.001, 'model__solver': 'adam'}\n",
    "\n",
    "# Best model and performance\n",
    "\n",
    "print(\"Best Parameters:\", grid_search.best_params_)\n",
    "best_rmse = np.sqrt(-grid_search.best_score_)\n",
    "print(\"Best RMSE:\", best_rmse)\n",
    "\n",
    "\n",
    "# Evaluate on training set (optional)\n",
    "\n",
    "best_model_nn = grid_search.best_estimator_\n",
    "y_pred = best_model_nn.predict(X_test)\n",
    "\n",
    "mse = mean_squared_error(y_test, y_pred)\n",
    "rmse = np.sqrt(mse)\n",
    "r2 = r2_score(y_test, y_pred)\n",
    "mae = mean_absolute_error(y_test, y_pred)\n",
    "\n",
    "print(\"Final Model Performance:\")\n",
    "print(f\"MSE: {mse:.2f}\")\n",
    "print(f\"RMSE: {rmse:.2f}\")\n",
    "print(f\"R2: {r2:.4f}\")\n",
    "print(f\"MAE: {mae:.2f}\")"
   ]
  },
  {
   "cell_type": "code",
   "execution_count": 31,
   "id": "2b254fab15bf8be7",
   "metadata": {
    "collapsed": false,
    "ExecuteTime": {
     "end_time": "2025-06-07T20:19:45.928636Z",
     "start_time": "2025-06-07T20:19:43.696096Z"
    }
   },
   "outputs": [
    {
     "name": "stdout",
     "output_type": "stream",
     "text": [
      "Weighted Position Neural Network: 3.70\n",
      "Top 5 Weighted Position Error Neural Network: 4.24\n",
      "General Errors Gradient  Neural Network: MSE: 8.36, RMSE: 2.89, R2: 0.6652, MAE: 2.01\n",
      "General Errors Top 5 Neural Network: MSE: 5.81, RMSE: 2.41, R2: -1.9687, MAE: 1.59\n"
     ]
    }
   ],
   "source": [
    "# Calculate the weighted position error\n",
    "wpe = weighted_position_error( test_set_with_result, X_test, best_model_nn)\n",
    "print(f\"Weighted Position Neural Network: {wpe:.2f}\")\n",
    "wpe5 = get_top_5_error( test_set_with_result, X_test, best_model_nn)\n",
    "print(f\"Top 5 Weighted Position Error Neural Network: {wpe5:.2f}\")\n",
    "\n",
    "mse, rmse, r2, mae = calculate_general_errors_via_final_position(test_set_with_result, X_test, best_model_nn)\n",
    "print(f\"General Errors Gradient  Neural Network: MSE: {mse:.2f}, RMSE: {rmse:.2f}, R2: {r2:.4f}, MAE: {mae:.2f}\")\n",
    "\n",
    "mse_top5, rmse_top5, r2_top5, mae_top5 = calculate_general_errors_top5_via_final_position(test_set_with_result, X_test, best_model_nn)\n",
    "print(f\"General Errors Top 5 Neural Network: MSE: {mse_top5:.2f}, RMSE: {rmse_top5:.2f}, R2: {r2_top5:.4f}, MAE: {mae_top5:.2f}\")"
   ]
  },
  {
   "cell_type": "code",
   "execution_count": 32,
   "id": "d9717f0a",
   "metadata": {
    "ExecuteTime": {
     "end_time": "2025-06-07T20:23:02.595129Z",
     "start_time": "2025-06-07T20:23:02.587674Z"
    }
   },
   "outputs": [],
   "source": [
    "# save\n",
    "# with open('nn.pkl','wb') as f:\n",
    "#     pickle.dump(best_model_nn,f)\n",
    "\n",
    "# load\n",
    "with open('nn.pkl', 'rb') as f:\n",
    "    best_model_nn = pickle.load(f)"
   ]
  },
  {
   "cell_type": "markdown",
   "id": "8cdeb8caa5d94107",
   "metadata": {
    "collapsed": false
   },
   "source": [
    "<h5>LightGBM</h5>"
   ]
  },
  {
   "cell_type": "code",
   "execution_count": 30,
   "id": "446a69fb8b38296c",
   "metadata": {
    "collapsed": false,
    "ExecuteTime": {
     "end_time": "2025-06-07T19:20:16.064603Z",
     "start_time": "2025-06-07T19:20:07.695995Z"
    }
   },
   "outputs": [
    {
     "name": "stdout",
     "output_type": "stream",
     "text": [
      "Fitting 5 folds for each of 1 candidates, totalling 5 fits\n",
      "[LightGBM] [Info] Auto-choosing row-wise multi-threading, the overhead of testing was 0.000339 seconds.\n",
      "You can set `force_row_wise=true` to remove the overhead.\n",
      "And if memory is not enough, you can set `force_col_wise=true`.\n",
      "[LightGBM] [Info] Total Bins 1158\n",
      "[LightGBM] [Info] Number of data points in the train set: 7469, number of used features: 253\n",
      "[LightGBM] [Info] Start training from score 27721.687642\n",
      "Best Parameters: {'model__learning_rate': 0.05, 'model__max_depth': -1, 'model__min_child_samples': 20, 'model__n_estimators': 500, 'model__num_leaves': 100}\n",
      "Best RMSE: 46984.54328410686\n",
      "Final Model Performance:\n",
      "MSE: 4511552015.95\n",
      "RMSE: 67168.09\n",
      "R2: 0.4133\n",
      "MAE: 41821.34\n"
     ]
    }
   ],
   "source": [
    "preprocessor = ColumnTransformer([\n",
    "        ('num', RobustScaler(), robust_cols),\n",
    "        ('cat', OneHotEncoder(handle_unknown='ignore', sparse_output=False), cat_cols)\n",
    "    ], remainder='passthrough')\n",
    "\n",
    "# Full pipeline\n",
    "pipeline = Pipeline([\n",
    "    ('preprocessing', preprocessor),\n",
    "    ('model', LGBMRegressor(random_state=42))\n",
    "])\n",
    "\n",
    "# param_grid = {\n",
    "#     'model__n_estimators': [100, 200, 500],\n",
    "#     'model__learning_rate': [0.01, 0.05, 0.1],\n",
    "#     'model__max_depth': [5, 10, 20, -1],  \n",
    "#     'model__num_leaves': [20, 31, 50, 100],\n",
    "#     'model__min_child_samples': [5, 10, 20, 30]\n",
    "# }\n",
    "param_grid = {\n",
    "    'model__n_estimators': [ 500],\n",
    "    'model__learning_rate': [ 0.05],\n",
    "    'model__max_depth': [ -1],  \n",
    "    'model__num_leaves': [ 100],\n",
    "    'model__min_child_samples': [ 20]\n",
    "}\n",
    "# Cross-validation\n",
    "k = 5\n",
    "cv = KFold(n_splits=k, shuffle=True, random_state=42)\n",
    "\n",
    "grid_search = GridSearchCV(estimator=pipeline,\n",
    "                           param_grid=param_grid,\n",
    "                           cv=cv,\n",
    "                           scoring='neg_mean_squared_error',\n",
    "                           verbose=1,\n",
    "                           n_jobs=-1)\n",
    "\n",
    "\n",
    "grid_search.fit(X_train, y_train)\n",
    "\n",
    "# Best Parameters: {'model__learning_rate': 0.05, 'model__max_depth': -1, 'model__min_child_samples': 20, 'model__n_estimators': 500, 'model__num_leaves': 100}\n",
    "# Best model and performance\n",
    "\n",
    "print(\"Best Parameters:\", grid_search.best_params_)\n",
    "best_rmse = np.sqrt(-grid_search.best_score_)\n",
    "print(\"Best RMSE:\", best_rmse)\n",
    "\n",
    "\n",
    "# Evaluate on training set (optional)\n",
    "\n",
    "best_model_lgbm = grid_search.best_estimator_\n",
    "y_pred = best_model_lgbm.predict(X_test)\n",
    "\n",
    "mse = mean_squared_error(y_test, y_pred)\n",
    "rmse = np.sqrt(mse)\n",
    "r2 = r2_score(y_test, y_pred)\n",
    "mae = mean_absolute_error(y_test, y_pred)\n",
    "\n",
    "print(\"Final Model Performance:\")\n",
    "print(f\"MSE: {mse:.2f}\")\n",
    "print(f\"RMSE: {rmse:.2f}\")\n",
    "print(f\"R2: {r2:.4f}\")\n",
    "print(f\"MAE: {mae:.2f}\")"
   ]
  },
  {
   "cell_type": "code",
   "outputs": [
    {
     "data": {
      "text/plain": "<Axes: title={'center': 'Feature importance'}, xlabel='Feature importance', ylabel='Features'>"
     },
     "execution_count": 35,
     "metadata": {},
     "output_type": "execute_result"
    },
    {
     "data": {
      "text/plain": "<Figure size 1200x800 with 1 Axes>",
      "image/png": "[encoded data removed]"
     },
     "metadata": {},
     "output_type": "display_data"
    }
   ],
   "source": [
    "#get model from pipeline\n",
    "test = best_model_lgbm['model']\n",
    "plot_importance(test, max_num_features=20, importance_type='gain', figsize=(12, 8))"
   ],
   "metadata": {
    "collapsed": false,
    "ExecuteTime": {
     "end_time": "2025-06-07T19:22:45.797219Z",
     "start_time": "2025-06-07T19:22:45.450371Z"
    }
   },
   "id": "dc955642df65d96d",
   "execution_count": 35
  },
  {
   "cell_type": "code",
   "execution_count": 134,
   "id": "873899df00c02c99",
   "metadata": {
    "collapsed": false,
    "ExecuteTime": {
     "end_time": "2025-06-07T12:01:12.530346Z",
     "start_time": "2025-06-07T12:01:10.899059Z"
    }
   },
   "outputs": [
    {
     "name": "stdout",
     "output_type": "stream",
     "text": [
      "Weighted Position LightGBM: 3.49\n",
      "Top 5 Weighted Position Error LightGBM: 4.01\n",
      "General Errors Gradient  LightGBM: MSE: 7.49, RMSE: 2.74, R2: 0.7000, MAE: 1.88\n",
      "General Errors Top 5 LightGBM: MSE: 5.49, RMSE: 2.34, R2: -1.8075, MAE: 1.50\n"
     ]
    }
   ],
   "source": [
    "# Calculate the weighted position error\n",
    "wpe = weighted_position_error( test_set_with_result, X_test, best_model_lgbm)\n",
    "print(f\"Weighted Position LightGBM: {wpe:.2f}\")\n",
    "wpe5 = get_top_5_error( test_set_with_result, X_test, best_model_lgbm)\n",
    "print(f\"Top 5 Weighted Position Error LightGBM: {wpe5:.2f}\")\n",
    "mse, rmse, r2, mae = calculate_general_errors_via_final_position(test_set_with_result, X_test, best_model_lgbm)\n",
    "print(f\"General Errors Gradient  LightGBM: MSE: {mse:.2f}, RMSE: {rmse:.2f}, R2: {r2:.4f}, MAE: {mae:.2f}\")\n",
    "mse_top5, rmse_top5, r2_top5, mae_top5 = calculate_general_errors_top5_via_final_position(test_set_with_result, X_test, best_model_lgbm)\n",
    "print(f\"General Errors Top 5 LightGBM: MSE: {mse_top5:.2f}, RMSE: {rmse_top5:.2f}, R2: {r2_top5:.4f}, MAE: {mae_top5:.2f}\")"
   ]
  },
  {
   "cell_type": "code",
   "execution_count": 135,
   "id": "573360fa672bfb9e",
   "metadata": {
    "collapsed": false,
    "ExecuteTime": {
     "end_time": "2025-06-07T12:01:17.111167Z",
     "start_time": "2025-06-07T12:01:17.065038Z"
    }
   },
   "outputs": [],
   "source": [
    "# save\n",
    "# with open('lgbm.pkl','wb') as f:\n",
    "#     pickle.dump(best_model_lgbm,f)\n",
    "\n",
    "# load\n",
    "with open('lgbm.pkl', 'rb') as f:\n",
    "    best_model_lgbm = pickle.load(f)"
   ]
  },
  {
   "cell_type": "code",
   "execution_count": null,
   "id": "ecf7b4926b7a8a3d",
   "metadata": {
    "collapsed": false
   },
   "outputs": [],
   "source": []
  }
 ],
 "metadata": {
  "kernelspec": {
   "display_name": "base",
   "language": "python",
   "name": "python3"
  },
  "language_info": {
   "codemirror_mode": {
    "name": "ipython",
    "version": 3
   },
   "file_extension": ".py",
   "mimetype": "text/x-python",
   "name": "python",
   "nbconvert_exporter": "python",
   "pygments_lexer": "ipython3",
   "version": "3.12.7"
  }
 },
 "nbformat": 4,
 "nbformat_minor": 5
}
